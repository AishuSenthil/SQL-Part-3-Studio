{
    "metadata": {
        "kernelspec": {
            "name": "SQL",
            "display_name": "SQL",
            "language": "sql"
        },
        "language_info": {
            "name": "sql",
            "version": ""
        },
        "extensions": {
            "azuredatastudio": {
                "version": 1,
                "views": []
            }
        }
    },
    "nbformat_minor": 2,
    "nbformat": 4,
    "cells": [
        {
            "cell_type": "markdown",
            "source": [
                "# SQL Part 3 Studio\n",
                "\n",
                "### Let's practice your SQL quering skills!  For each question, work along in the notebook adding your query and answering the questions. \n",
                "\n",
                "### **DataSet**\n",
                "\n",
                "### <span style=\"font-size: 14px; font-family: -apple-system, BlinkMacSystemFont, sans-serif;\">We will be using the Goodbooks-10k dataset from the exercises in the prep work.&nbsp; Feel free reference your previous notebooks.</span>\n",
                "\n",
                "- The dataset can be found here: [goodbooks-10k](https://www.kaggle.com/zygmunt/goodbooks-10k)\n",
                "- You can access the **BooksDB** in the Launchcode server.\n",
                "\n",
                "### **Business Issue**\n",
                "\n",
                "You are an employee at a small independet bookstore and you have been tasked to increase sales.  You decide to use the BooksDB to find books and themes to highlight in fun promotions throughout each month / season.  We will be starting with March and then you will have a chance to explore another month of your choosing.  We want to come up with a list of events/ promotions to run each month.  If you are looking for ideas to include in your promotions:\n",
                "\n",
                "- [https://www.calendarr.com/united-states/calendar-2022/](https://www.calendarr.com/united-states/calendar-2022/)\n",
                "- [https://www.holidayinsights.com/moreholidays/](https://www.holidayinsights.com/moreholidays/)\n",
                "    - Click on a month and it will take you to a more detailed page"
            ],
            "metadata": {
                "azdata_cell_guid": "b9034d8a-b631-48bf-a895-1012a6ffa784"
            },
            "attachments": {}
        },
        {
            "cell_type": "markdown",
            "source": [
                "## Part 1:  March - Women's History Month, Dr Seuss Day(3/2), National Pie Day3/14, St Patrick's Day (3/17), Season - Spring"
            ],
            "metadata": {
                "azdata_cell_guid": "6e55eb1c-4a14-4076-90d2-95ed17a6309f"
            },
            "attachments": {}
        },
        {
            "cell_type": "markdown",
            "source": [
                "### **Event 1:** Women's History Month\n",
                "\n",
                "Goal: Highlight Popular Womans Authors based on ratings from the Good Reads DB.\n",
                "\n",
                "### **Write a query that returns tag\\_id, the number of times each tag\\_id is used and the tag\\_name.**  \n",
                "\n",
                "### Use the GROUP BY and HAVING clause to narrow your focus.\n",
                "\n",
                "Try multiple keywords, ie woman vs female (female ended up giving better results)"
            ],
            "metadata": {
                "azdata_cell_guid": "d220c097-e9cf-4edd-9abe-312d071217b7"
            },
            "attachments": {}
        },
        {
            "cell_type": "code",
            "source": [
                "-- Solution\r\n",
                "SELECT TOP 10 t.tag_name, bt.tag_id, SUM(bt.count) AS BookToRead\r\n",
                "FROM BooksDB.dbo.book_tags AS bt\r\n",
                "INNER JOIN BooksDB.dbo.tags AS t\r\n",
                "ON bt.tag_id = t.tag_id\r\n",
                "GROUP BY t.tag_name, bt.tag_id\r\n",
                "HAVING t.tag_name like '%female%'\r\n",
                "ORDER BY BookToRead DESC\r\n",
                ""
            ],
            "metadata": {
                "azdata_cell_guid": "e31b9d26-0386-44c7-828e-85f4f06f3ee6",
                "language": "sql"
            },
            "outputs": [
                {
                    "output_type": "display_data",
                    "data": {
                        "text/html": "(10 rows affected)"
                    },
                    "metadata": {}
                },
                {
                    "output_type": "display_data",
                    "data": {
                        "text/html": "Total execution time: 00:00:00.493"
                    },
                    "metadata": {}
                },
                {
                    "output_type": "execute_result",
                    "metadata": {},
                    "execution_count": 24,
                    "data": {
                        "application/vnd.dataresource+json": {
                            "schema": {
                                "fields": [
                                    {
                                        "name": "tag_name"
                                    },
                                    {
                                        "name": "tag_id"
                                    },
                                    {
                                        "name": "BookToRead"
                                    }
                                ]
                            },
                            "data": [
                                {
                                    "0": "female-author",
                                    "1": "11643",
                                    "2": "17999"
                                },
                                {
                                    "0": "female-authors",
                                    "1": "11644",
                                    "2": "13690"
                                },
                                {
                                    "0": "female-protagonist",
                                    "1": "11658",
                                    "2": "2554"
                                },
                                {
                                    "0": "female-detective",
                                    "1": "11646",
                                    "2": "302"
                                },
                                {
                                    "0": "female-pov",
                                    "1": "11656",
                                    "2": "155"
                                },
                                {
                                    "0": "female-writers",
                                    "1": "11662",
                                    "2": "147"
                                },
                                {
                                    "0": "female",
                                    "1": "11642",
                                    "2": "133"
                                },
                                {
                                    "0": "female-lead",
                                    "1": "11652",
                                    "2": "61"
                                },
                                {
                                    "0": "strong-female-lead",
                                    "1": "28834",
                                    "2": "61"
                                },
                                {
                                    "0": "female-detectives",
                                    "1": "11647",
                                    "2": "59"
                                }
                            ]
                        },
                        "text/html": [
                            "<table>",
                            "<tr><th>tag_name</th><th>tag_id</th><th>BookToRead</th></tr>",
                            "<tr><td>female-author</td><td>11643</td><td>17999</td></tr>",
                            "<tr><td>female-authors</td><td>11644</td><td>13690</td></tr>",
                            "<tr><td>female-protagonist</td><td>11658</td><td>2554</td></tr>",
                            "<tr><td>female-detective</td><td>11646</td><td>302</td></tr>",
                            "<tr><td>female-pov</td><td>11656</td><td>155</td></tr>",
                            "<tr><td>female-writers</td><td>11662</td><td>147</td></tr>",
                            "<tr><td>female</td><td>11642</td><td>133</td></tr>",
                            "<tr><td>female-lead</td><td>11652</td><td>61</td></tr>",
                            "<tr><td>strong-female-lead</td><td>28834</td><td>61</td></tr>",
                            "<tr><td>female-detectives</td><td>11647</td><td>59</td></tr>",
                            "</table>"
                        ]
                    }
                }
            ],
            "execution_count": 24
        },
        {
            "cell_type": "markdown",
            "source": [
                "### **Which keyword(s) and tag(s) would you like to explore more?**\n",
                "\n",
                "Double click to edit."
            ],
            "metadata": {
                "azdata_cell_guid": "e9acd8b5-a62b-4ac0-bd07-19915b379ba6"
            },
            "attachments": {}
        },
        {
            "cell_type": "markdown",
            "source": [
                "### **Write a query to return authors, titles, ratings and** **selected tag(s)\\_id.**"
            ],
            "metadata": {
                "azdata_cell_guid": "59b84464-c0bc-4dac-9e02-0c803765b063"
            },
            "attachments": {}
        },
        {
            "cell_type": "code",
            "source": [
                "-- Solution\r\n",
                "SELECT  b.title, b.authors, b.average_rating, bt.tag_id\r\n",
                "FROM BooksDB.dbo.books AS b\r\n",
                "INNER JOIN BooksDB.dbo.book_tags AS bt\r\n",
                "ON b.book_id = bt.goodreads_book_id\r\n",
                "WHERE tag_id = 11644\r\n",
                "ORDER BY tag_id,average_rating DESC;\r\n",
                "\r\n",
                "-- SELECT  b.title, b.authors, b.average_rating, bt.tag_id\r\n",
                "-- FROM BooksDB.dbo.books AS b\r\n",
                "-- INNER JOIN BooksDB.dbo.book_tags AS bt\r\n",
                "-- ON b.book_id = bt.goodreads_book_id\r\n",
                "-- WHERE tag_id = (select tag_id from BooksDB.dbo.tags\r\n",
                "--     where tag_name = 'female-authors')\r\n",
                "-- ORDER BY tag_id,average_rating DESC;\r\n",
                "     \r\n",
                "     "
            ],
            "metadata": {
                "azdata_cell_guid": "51ffeaaf-6dde-4906-95f3-eb8757babf27",
                "tags": [],
                "language": "sql"
            },
            "outputs": [
                {
                    "output_type": "display_data",
                    "data": {
                        "text/html": "(721 rows affected)"
                    },
                    "metadata": {}
                },
                {
                    "output_type": "display_data",
                    "data": {
                        "text/html": "Total execution time: 00:02:02.742"
                    },
                    "metadata": {}
                },
                {
                    "output_type": "execute_result",
                    "metadata": {},
                    "execution_count": 28,
                    "data": {
                        "application/vnd.dataresource+json": {
                            "schema": {
                                "fields": [
                                    {
                                        "name": "title"
                                    },
                                    {
                                        "name": "authors"
                                    },
                                    {
                                        "name": "average_rating"
                                    },
                                    {
                                        "name": "tag_id"
                                    }
                                ]
                            },
                            "data": [
                                {
                                    "0": "The Complete Novels",
                                    "1": "Jane Austen",
                                    "2": "4.55",
                                    "3": "11644"
                                },
                                {
                                    "0": "Fool's Quest  (The Fitz and The Fool, #2)",
                                    "1": "Robin Hobb",
                                    "2": "4.53",
                                    "3": "11644"
                                },
                                {
                                    "0": "Kings Rising (Captive Prince, #3)",
                                    "1": "C.S. Pacat",
                                    "2": "4.5",
                                    "3": "11644"
                                },
                                {
                                    "0": "Fullmetal Alchemist, Vol. 1 (Fullmetal Alchemist, #1)",
                                    "1": "Hiromu Arakawa, Akira Watanabe",
                                    "2": "4.49",
                                    "3": "11644"
                                },
                                {
                                    "0": "We Should All Be Feminists",
                                    "1": "Chimamanda Ngozi Adichie",
                                    "2": "4.47",
                                    "3": "11644"
                                },
                                {
                                    "0": "The Complete Stories",
                                    "1": "Flannery O'Connor",
                                    "2": "4.44",
                                    "3": "11644"
                                },
                                {
                                    "0": "Nothing to Envy: Ordinary Lives in North Korea",
                                    "1": "Barbara Demick",
                                    "2": "4.42",
                                    "3": "11644"
                                },
                                {
                                    "0": "Homegoing",
                                    "1": "Yaa Gyasi",
                                    "2": "4.41",
                                    "3": "11644"
                                },
                                {
                                    "0": "The Story of the Lost Child (The Neapolitan Novels, #4)",
                                    "1": "Elena Ferrante, Ann Goldstein",
                                    "2": "4.39",
                                    "3": "11644"
                                },
                                {
                                    "0": "I Love You Through and Through",
                                    "1": "Bernadette Rossetti-Shustak, Caroline Jayne Church",
                                    "2": "4.39",
                                    "3": "11644"
                                },
                                {
                                    "0": "The Story of a New Name (The Neapolitan Novels #2)",
                                    "1": "Elena Ferrante, Ann Goldstein",
                                    "2": "4.37",
                                    "3": "11644"
                                },
                                {
                                    "0": "The Complete Persepolis",
                                    "1": "Marjane Satrapi, Mattias Ripa, Blake Ferris, Anjali Singh",
                                    "2": "4.36",
                                    "3": "11644"
                                },
                                {
                                    "0": "Mornings in Jenin",
                                    "1": "Susan Abulhawa",
                                    "2": "4.35",
                                    "3": "11644"
                                },
                                {
                                    "0": "Mastering the Art of French Cooking",
                                    "1": "Julia Child, Simone Beck, Louisette Bertholle",
                                    "2": "4.33",
                                    "3": "11644"
                                },
                                {
                                    "0": "The Folk of the Faraway Tree (The Faraway Tree, #3)",
                                    "1": "Enid Blyton",
                                    "2": "4.32",
                                    "3": "11644"
                                },
                                {
                                    "0": "Wild Magic (Immortals, #1)",
                                    "1": "Tamora Pierce",
                                    "2": "4.32",
                                    "3": "11644"
                                },
                                {
                                    "0": "The Way to Cook",
                                    "1": "Julia Child",
                                    "2": "4.31",
                                    "3": "11644"
                                },
                                {
                                    "0": "The Fifth Season (The Broken Earth, #1)",
                                    "1": "N.K. Jemisin",
                                    "2": "4.31",
                                    "3": "11644"
                                },
                                {
                                    "0": "Howl's Moving Castle (Howl's Moving Castle, #1)",
                                    "1": "Diana Wynne Jones",
                                    "2": "4.3",
                                    "3": "11644"
                                },
                                {
                                    "0": "Rudolph the Red-Nosed Reindeer",
                                    "1": "Barbara Shook Hazen, Robert Lewis May, Richard Scarry",
                                    "2": "4.3",
                                    "3": "11644"
                                },
                                {
                                    "0": "Citizen: An American Lyric",
                                    "1": "Claudia Rankine",
                                    "2": "4.3",
                                    "3": "11644"
                                },
                                {
                                    "0": "First They Killed My Father: A Daughter of Cambodia Remembers",
                                    "1": "Loung Ung",
                                    "2": "4.29",
                                    "3": "11644"
                                },
                                {
                                    "0": "The Warrior's Apprentice (Vorkosigan Saga, #2)",
                                    "1": "Lois McMaster Bujold",
                                    "2": "4.29",
                                    "3": "11644"
                                },
                                {
                                    "0": "The Magic Faraway Tree (The Faraway Tree, #2)",
                                    "1": "Enid Blyton",
                                    "2": "4.29",
                                    "3": "11644"
                                },
                                {
                                    "0": "Tiny Beautiful Things: Advice on Love and Life from Dear Sugar",
                                    "1": "Cheryl Strayed",
                                    "2": "4.29",
                                    "3": "11644"
                                },
                                {
                                    "0": "Those Who Leave and Those Who Stay (The Neapolitan Novels #3)",
                                    "1": "Elena Ferrante, Ann Goldstein",
                                    "2": "4.29",
                                    "3": "11644"
                                },
                                {
                                    "0": "The Unabridged Journals of Sylvia Plath",
                                    "1": "Sylvia Plath, Karen V. Kukil",
                                    "2": "4.29",
                                    "3": "11644"
                                },
                                {
                                    "0": "Lioness Rampant (Song of the Lioness, #4)",
                                    "1": "Tamora Pierce",
                                    "2": "4.28",
                                    "3": "11644"
                                },
                                {
                                    "0": "Good Night, Mr. Tom",
                                    "1": "Michelle Magorian",
                                    "2": "4.28",
                                    "3": "11644"
                                },
                                {
                                    "0": "The Complete Poems",
                                    "1": "Anne Sexton, Maxine Kumin",
                                    "2": "4.28",
                                    "3": "11644"
                                },
                                {
                                    "0": "The Faraway Tree Stories (The Faraway Tree #1-3)",
                                    "1": "Enid Blyton",
                                    "2": "4.28",
                                    "3": "11644"
                                },
                                {
                                    "0": "Trickster's Queen (Daughter of the Lioness, #2)",
                                    "1": "Tamora Pierce",
                                    "2": "4.28",
                                    "3": "11644"
                                },
                                {
                                    "0": "Squire (Protector of the Small, #3)",
                                    "1": "Tamora Pierce",
                                    "2": "4.27",
                                    "3": "11644"
                                },
                                {
                                    "0": "for colored girls who have considered suicide/when the rainbow is enuf",
                                    "1": "Ntozake Shange",
                                    "2": "4.27",
                                    "3": "11644"
                                },
                                {
                                    "0": "Everything That Rises Must Converge: Stories",
                                    "1": "Flannery O'Connor, Robert Fitzgerald",
                                    "2": "4.27",
                                    "3": "11644"
                                },
                                {
                                    "0": "A Little Life",
                                    "1": "Hanya Yanagihara",
                                    "2": "4.27",
                                    "3": "11644"
                                },
                                {
                                    "0": "Trickster's Choice (Daughter of the Lioness, #1)",
                                    "1": "Tamora Pierce",
                                    "2": "4.27",
                                    "3": "11644"
                                },
                                {
                                    "0": "Alanna: The First Adventure (Song of the Lioness, #1)",
                                    "1": "Tamora Pierce",
                                    "2": "4.27",
                                    "3": "11644"
                                },
                                {
                                    "0": "The Song of Achilles",
                                    "1": "Madeline Miller",
                                    "2": "4.27",
                                    "3": "11644"
                                },
                                {
                                    "0": "Persepolis, Volume 1",
                                    "1": "Marjane Satrapi",
                                    "2": "4.27",
                                    "3": "11644"
                                },
                                {
                                    "0": "Milk and Honey",
                                    "1": "Rupi Kaur",
                                    "2": "4.27",
                                    "3": "11644"
                                },
                                {
                                    "0": "Hark! A Vagrant",
                                    "1": "Kate Beaton",
                                    "2": "4.27",
                                    "3": "11644"
                                },
                                {
                                    "0": "Fried Green Tomatoes at the Whistle Stop Cafe",
                                    "1": "Fannie Flagg",
                                    "2": "4.26",
                                    "3": "11644"
                                },
                                {
                                    "0": "Bring Up the Bodies (Thomas Cromwell, #2)",
                                    "1": "Hilary Mantel",
                                    "2": "4.26",
                                    "3": "11644"
                                },
                                {
                                    "0": "Bloodhound (Beka Cooper, #2)",
                                    "1": "Tamora Pierce",
                                    "2": "4.26",
                                    "3": "11644"
                                },
                                {
                                    "0": "Americanah",
                                    "1": "Chimamanda Ngozi Adichie",
                                    "2": "4.26",
                                    "3": "11644"
                                },
                                {
                                    "0": "Inside the Human Body (The Magic School Bus, #3)",
                                    "1": "Joanna Cole, Bruce Degen",
                                    "2": "4.26",
                                    "3": "11644"
                                },
                                {
                                    "0": "In the Hand of the Goddess (Song of the Lioness, #2)",
                                    "1": "Tamora Pierce",
                                    "2": "4.25",
                                    "3": "11644"
                                },
                                {
                                    "0": "The Earthsea Trilogy",
                                    "1": "Ursula K. Le Guin",
                                    "2": "4.25",
                                    "3": "11644"
                                },
                                {
                                    "0": "The Autobiography of Henry VIII: With Notes by His Fool, Will Somers",
                                    "1": "Margaret George",
                                    "2": "4.25",
                                    "3": "11644"
                                },
                                {
                                    "0": "Hello, Mrs. Piggle-Wiggle (Mrs. Piggle Wiggle, #4)",
                                    "1": "Betty MacDonald, Alexandra Boiger",
                                    "2": "4.24",
                                    "3": "11644"
                                },
                                {
                                    "0": "Mastiff (Beka Cooper, #3)",
                                    "1": "Tamora Pierce",
                                    "2": "4.24",
                                    "3": "11644"
                                },
                                {
                                    "0": "A Good Man is Hard to Find and Other Stories",
                                    "1": "Flannery O'Connor",
                                    "2": "4.24",
                                    "3": "11644"
                                },
                                {
                                    "0": "Slouching Towards Bethlehem",
                                    "1": "Joan Didion",
                                    "2": "4.24",
                                    "3": "11644"
                                },
                                {
                                    "0": "A Tree Grows in Brooklyn",
                                    "1": "Betty  Smith",
                                    "2": "4.24",
                                    "3": "11644"
                                },
                                {
                                    "0": "The Enchanted Wood (The Faraway Tree, #1)",
                                    "1": "Enid Blyton",
                                    "2": "4.24",
                                    "3": "11644"
                                },
                                {
                                    "0": "Persepolis: The Story of a Childhood (Persepolis, #1)",
                                    "1": "Marjane Satrapi, Mattias Ripa",
                                    "2": "4.23",
                                    "3": "11644"
                                },
                                {
                                    "0": "The Tiger Who Came to Tea",
                                    "1": "Judith Kerr",
                                    "2": "4.23",
                                    "3": "11644"
                                },
                                {
                                    "0": "Persepolis 2: The Story of a Return (Persepolis, #2)",
                                    "1": "Marjane Satrapi, Anjali Singh",
                                    "2": "4.23",
                                    "3": "11644"
                                },
                                {
                                    "0": "The Hollow Hills (Arthurian Saga, #2)",
                                    "1": "Mary  Stewart",
                                    "2": "4.23",
                                    "3": "11644"
                                },
                                {
                                    "0": "Noughts & Crosses (Noughts & Crosses, #1)",
                                    "1": "Malorie Blackman",
                                    "2": "4.23",
                                    "3": "11644"
                                },
                                {
                                    "0": "Shrill: Notes from a Loud Woman",
                                    "1": "Lindy West",
                                    "2": "4.23",
                                    "3": "11644"
                                },
                                {
                                    "0": "Ariel",
                                    "1": "Sylvia Plath",
                                    "2": "4.23",
                                    "3": "11644"
                                },
                                {
                                    "0": "Gakuen Alice, Vol. 01 (Gakuen Alice, #1)",
                                    "1": "Tachibana Higuchi, 樋口 橘",
                                    "2": "4.23",
                                    "3": "11644"
                                },
                                {
                                    "0": "Wild Swans: Three Daughters of China",
                                    "1": "Jung Chang",
                                    "2": "4.23",
                                    "3": "11644"
                                },
                                {
                                    "0": "Notorious RBG: The Life and Times of Ruth Bader Ginsburg",
                                    "1": "Irin Carmon, Shana Knizhnik",
                                    "2": "4.22",
                                    "3": "11644"
                                },
                                {
                                    "0": "The Dragonriders of Pern (Dragonriders of Pern, #1-3)",
                                    "1": "Anne McCaffrey",
                                    "2": "4.22",
                                    "3": "11644"
                                },
                                {
                                    "0": "Wild Seed (Patternmaster, #1)",
                                    "1": "Octavia E. Butler",
                                    "2": "4.22",
                                    "3": "11644"
                                },
                                {
                                    "0": "The Center Cannot Hold: My Journey Through Madness",
                                    "1": "Elyn R. Saks",
                                    "2": "4.22",
                                    "3": "11644"
                                },
                                {
                                    "0": "The Shock Doctrine: The Rise of Disaster Capitalism",
                                    "1": "Naomi Klein",
                                    "2": "4.22",
                                    "3": "11644"
                                },
                                {
                                    "0": "A Mango-Shaped Space",
                                    "1": "Wendy Mass",
                                    "2": "4.22",
                                    "3": "11644"
                                },
                                {
                                    "0": "The Thorn Birds",
                                    "1": "Colleen McCullough",
                                    "2": "4.22",
                                    "3": "11644"
                                },
                                {
                                    "0": "Ship of Destiny (Liveship Traders, #3)",
                                    "1": "Robin Hobb",
                                    "2": "4.21",
                                    "3": "11644"
                                },
                                {
                                    "0": "Anne of Avonlea (Anne of Green Gables, #2)",
                                    "1": "L.M. Montgomery",
                                    "2": "4.21",
                                    "3": "11644"
                                },
                                {
                                    "0": "The Mad Ship (Liveship Traders, #2)",
                                    "1": "Robin Hobb",
                                    "2": "4.21",
                                    "3": "11644"
                                },
                                {
                                    "0": "Parable of the Talents (Earthseed, #2)",
                                    "1": "Octavia E. Butler",
                                    "2": "4.21",
                                    "3": "11644"
                                },
                                {
                                    "0": "The Little Red Caboose (Little Golden Book)",
                                    "1": "Marian Potter",
                                    "2": "4.21",
                                    "3": "11644"
                                },
                                {
                                    "0": "Wolf-Speaker (Immortals, #2)",
                                    "1": "Tamora Pierce",
                                    "2": "4.21",
                                    "3": "11644"
                                },
                                {
                                    "0": "Nana, Vol. 1 (Nana, #1)",
                                    "1": "Ai Yazawa",
                                    "2": "4.21",
                                    "3": "11644"
                                },
                                {
                                    "0": "The Complete Poems of Emily Dickinson",
                                    "1": "Emily Dickinson, Thomas H. Johnson",
                                    "2": "4.21",
                                    "3": "11644"
                                },
                                {
                                    "0": "The Collected Poems",
                                    "1": "Sylvia Plath, Ted Hughes",
                                    "2": "4.2",
                                    "3": "11644"
                                },
                                {
                                    "0": "The Woman Who Rides Like a Man (Song of the Lioness, #3)",
                                    "1": "Tamora Pierce",
                                    "2": "4.2",
                                    "3": "11644"
                                },
                                {
                                    "0": "Nimona",
                                    "1": "Noelle Stevenson",
                                    "2": "4.2",
                                    "3": "11644"
                                },
                                {
                                    "0": "Zami: A New Spelling of My Name",
                                    "1": "Audre Lorde",
                                    "2": "4.2",
                                    "3": "11644"
                                },
                                {
                                    "0": "The Murder of Roger Ackroyd (Hercule Poirot, #4)",
                                    "1": "Agatha Christie",
                                    "2": "4.2",
                                    "3": "11644"
                                },
                                {
                                    "0": "Rebecca",
                                    "1": "Daphne du Maurier, Sally Beauman",
                                    "2": "4.2",
                                    "3": "11644"
                                },
                                {
                                    "0": "Calling on Dragons (Enchanted Forest Chronicles, #3)",
                                    "1": "Patricia C. Wrede, Peter de Sève",
                                    "2": "4.2",
                                    "3": "11644"
                                },
                                {
                                    "0": "Ancillary Mercy (Imperial Radch #3)",
                                    "1": "Ann Leckie",
                                    "2": "4.2",
                                    "3": "11644"
                                },
                                {
                                    "0": "Wit",
                                    "1": "Margaret Edson",
                                    "2": "4.2",
                                    "3": "11644"
                                },
                                {
                                    "0": "The House of the Spirits",
                                    "1": "Isabel Allende, Magda Bogin",
                                    "2": "4.2",
                                    "3": "11644"
                                },
                                {
                                    "0": "Small Sacrifices: A True Story of Passion and Murder",
                                    "1": "Ann Rule",
                                    "2": "4.2",
                                    "3": "11644"
                                },
                                {
                                    "0": "I Know Why the Caged Bird Sings",
                                    "1": "Maya Angelou",
                                    "2": "4.19",
                                    "3": "11644"
                                },
                                {
                                    "0": "The Tale of Mrs. Tiggy-Winkle",
                                    "1": "Beatrix Potter",
                                    "2": "4.19",
                                    "3": "11644"
                                },
                                {
                                    "0": "This Star Won't Go Out: The Life and Words of Esther Grace Earl",
                                    "1": "Esther Earl, Lori Earl, Wayne Earl, John Green",
                                    "2": "4.19",
                                    "3": "11644"
                                },
                                {
                                    "0": "The Heart of a Woman",
                                    "1": "Maya Angelou",
                                    "2": "4.19",
                                    "3": "11644"
                                },
                                {
                                    "0": "West with the Night",
                                    "1": "Beryl Markham",
                                    "2": "4.18",
                                    "3": "11644"
                                },
                                {
                                    "0": "The Dispossessed",
                                    "1": "Ursula K. Le Guin",
                                    "2": "4.18",
                                    "3": "11644"
                                },
                                {
                                    "0": "Kindred",
                                    "1": "Octavia E. Butler",
                                    "2": "4.18",
                                    "3": "11644"
                                },
                                {
                                    "0": "The Long Way to a Small, Angry Planet (Wayfarers, #1)",
                                    "1": "Becky  Chambers",
                                    "2": "4.18",
                                    "3": "11644"
                                },
                                {
                                    "0": "The Thing Around Your Neck",
                                    "1": "Chimamanda Ngozi Adichie",
                                    "2": "4.18",
                                    "3": "11644"
                                },
                                {
                                    "0": "The Gifts of Imperfection: Let Go of Who You Think You're Supposed to Be and Embrace Who You Are",
                                    "1": "Brené Brown",
                                    "2": "4.17",
                                    "3": "11644"
                                },
                                {
                                    "0": "The Memoirs of Cleopatra",
                                    "1": "Margaret George",
                                    "2": "4.17",
                                    "3": "11644"
                                },
                                {
                                    "0": "Hyperbole and a Half: Unfortunate Situations, Flawed Coping Mechanisms, Mayhem, and Other Things That Happened",
                                    "1": "Allie Brosh",
                                    "2": "4.17",
                                    "3": "11644"
                                },
                                {
                                    "0": "The Sparrow (The Sparrow, #1)",
                                    "1": "Mary Doria Russell",
                                    "2": "4.17",
                                    "3": "11644"
                                },
                                {
                                    "0": "The Color Purple",
                                    "1": "Alice Walker",
                                    "2": "4.17",
                                    "3": "11644"
                                },
                                {
                                    "0": "Writing Down the Bones: Freeing the Writer Within",
                                    "1": "Natalie Goldberg",
                                    "2": "4.17",
                                    "3": "11644"
                                },
                                {
                                    "0": "Rilla of Ingleside (Anne of Green Gables, #8)",
                                    "1": "L.M. Montgomery",
                                    "2": "4.16",
                                    "3": "11644"
                                },
                                {
                                    "0": "Selected Poems",
                                    "1": "Emily Dickinson",
                                    "2": "4.16",
                                    "3": "11644"
                                },
                                {
                                    "0": "The Curse of Chalion (World of the Five Gods, #1)",
                                    "1": "Lois McMaster Bujold",
                                    "2": "4.16",
                                    "3": "11644"
                                },
                                {
                                    "0": "Wir Kinder vom Bahnhof Zoo",
                                    "1": "Christiane F., Kai Hermann, Horst Rieck",
                                    "2": "4.16",
                                    "3": "11644"
                                },
                                {
                                    "0": "Murder on the Orient Express (Hercule Poirot, #10)",
                                    "1": "Agatha Christie",
                                    "2": "4.16",
                                    "3": "11644"
                                },
                                {
                                    "0": "Shatterglass (The Circle Opens, #4)",
                                    "1": "Tamora Pierce",
                                    "2": "4.16",
                                    "3": "11644"
                                },
                                {
                                    "0": "On Death and Dying",
                                    "1": "Elisabeth Kübler-Ross",
                                    "2": "4.15",
                                    "3": "11644"
                                },
                                {
                                    "0": "The Will of the Empress (Circle Reforged, #1)",
                                    "1": "Tamora Pierce",
                                    "2": "4.15",
                                    "3": "11644"
                                },
                                {
                                    "0": "Adulthood Is a Myth (Sarah's Scribbles, #1)",
                                    "1": "Sarah Andersen",
                                    "2": "4.14",
                                    "3": "11644"
                                },
                                {
                                    "0": "Parable of the Sower (Earthseed, #1)",
                                    "1": "Octavia E. Butler",
                                    "2": "4.14",
                                    "3": "11644"
                                },
                                {
                                    "0": "The Spirit Catches You and You Fall Down: A Hmong Child, Her American Doctors, and the Collision of Two Cultures",
                                    "1": "Anne Fadiman",
                                    "2": "4.14",
                                    "3": "11644"
                                },
                                {
                                    "0": "You're Never Weird on the Internet (Almost)",
                                    "1": "Felicia Day, Joss Whedon",
                                    "2": "4.14",
                                    "3": "11644"
                                },
                                {
                                    "0": "Just Kids",
                                    "1": "Patti Smith",
                                    "2": "4.14",
                                    "3": "11644"
                                },
                                {
                                    "0": "Ms. Marvel, Vol. 2: Generation Why",
                                    "1": "G. Willow Wilson, Adrian Alphona, Jacob Wyatt",
                                    "2": "4.14",
                                    "3": "11644"
                                },
                                {
                                    "0": "The Apprentice (Rizzoli & Isles, #2)",
                                    "1": "Tess Gerritsen",
                                    "2": "4.14",
                                    "3": "11644"
                                },
                                {
                                    "0": "Beaches",
                                    "1": "Iris Rainer Dart",
                                    "2": "4.14",
                                    "3": "11644"
                                },
                                {
                                    "0": "The Waves",
                                    "1": "Virginia Woolf",
                                    "2": "4.14",
                                    "3": "11644"
                                },
                                {
                                    "0": "Absent In The Spring",
                                    "1": "Mary Westmacott, Agatha Christie",
                                    "2": "4.14",
                                    "3": "11644"
                                },
                                {
                                    "0": "Briar's Book (Circle of Magic, #4)",
                                    "1": "Tamora Pierce",
                                    "2": "4.14",
                                    "3": "11644"
                                },
                                {
                                    "0": "The Joy of Cooking",
                                    "1": "Irma S. Rombauer, Marion Rombauer Becker, Ethan Becker",
                                    "2": "4.14",
                                    "3": "11644"
                                },
                                {
                                    "0": "A Ring of Endless Light (Austin Family, #4)",
                                    "1": "Madeleine L'Engle",
                                    "2": "4.14",
                                    "3": "11644"
                                },
                                {
                                    "0": "North and South",
                                    "1": "Elizabeth Gaskell, Alan Shelston",
                                    "2": "4.13",
                                    "3": "11644"
                                },
                                {
                                    "0": "Ms. Marvel, Vol. 1: No Normal",
                                    "1": "G. Willow Wilson, Adrian Alphona",
                                    "2": "4.13",
                                    "3": "11644"
                                },
                                {
                                    "0": "The Stranger Beside Me: Ted Bundy The Shocking Inside Story",
                                    "1": "Ann Rule",
                                    "2": "4.13",
                                    "3": "11644"
                                },
                                {
                                    "0": "In the Time of the Butterflies",
                                    "1": "Julia Alvarez",
                                    "2": "4.13",
                                    "3": "11644"
                                },
                                {
                                    "0": "Dibs in Search of Self",
                                    "1": "Virginia M. Axline",
                                    "2": "4.13",
                                    "3": "11644"
                                },
                                {
                                    "0": "Persuasion",
                                    "1": "Jane Austen, James Kinsley, Deidre Shauna Lynch",
                                    "2": "4.13",
                                    "3": "11644"
                                },
                                {
                                    "0": "The Women of Brewster Place",
                                    "1": "Gloria Naylor",
                                    "2": "4.13",
                                    "3": "11644"
                                },
                                {
                                    "0": "A Swiftly Tilting Planet (A Wrinkle in Time Quintet, #3)",
                                    "1": "Madeleine L'Engle",
                                    "2": "4.13",
                                    "3": "11644"
                                },
                                {
                                    "0": "Shards of Honour  (Vorkosigan Saga, #1)",
                                    "1": "Lois McMaster Bujold",
                                    "2": "4.13",
                                    "3": "11644"
                                },
                                {
                                    "0": "Street Magic (The Circle Opens, #2)",
                                    "1": "Tamora Pierce",
                                    "2": "4.12",
                                    "3": "11644"
                                },
                                {
                                    "0": "Birds of America",
                                    "1": "Lorrie Moore",
                                    "2": "4.12",
                                    "3": "11644"
                                },
                                {
                                    "0": "The Crystal Cave (Arthurian Saga, #1)",
                                    "1": "Mary  Stewart",
                                    "2": "4.12",
                                    "3": "11644"
                                },
                                {
                                    "0": "Fun Home: A Family Tragicomic",
                                    "1": "Alison Bechdel",
                                    "2": "4.12",
                                    "3": "11644"
                                },
                                {
                                    "0": "Succulent Wild Woman",
                                    "1": "S.A.R.K.",
                                    "2": "4.12",
                                    "3": "11644"
                                },
                                {
                                    "0": "Interpreter of Maladies",
                                    "1": "Jhumpa Lahiri",
                                    "2": "4.12",
                                    "3": "11644"
                                },
                                {
                                    "0": "The Passion",
                                    "1": "Jeanette Winterson",
                                    "2": "4.12",
                                    "3": "11644"
                                },
                                {
                                    "0": "The Mists of Avalon (Avalon, #1)",
                                    "1": "Marion Zimmer Bradley",
                                    "2": "4.12",
                                    "3": "11644"
                                },
                                {
                                    "0": "The Yellow Wall-Paper",
                                    "1": "Charlotte Perkins Gilman, Elaine Hedges",
                                    "2": "4.11",
                                    "3": "11644"
                                },
                                {
                                    "0": "Purple Hibiscus",
                                    "1": "Chimamanda Ngozi Adichie",
                                    "2": "4.11",
                                    "3": "11644"
                                },
                                {
                                    "0": "The Farthest Shore (Earthsea Cycle, #3)",
                                    "1": "Ursula K. Le Guin",
                                    "2": "4.11",
                                    "3": "11644"
                                },
                                {
                                    "0": "The Defining Decade: Why Your Twenties Matter--And How to Make the Most of Them Now",
                                    "1": "Meg Jay",
                                    "2": "4.11",
                                    "3": "11644"
                                },
                                {
                                    "0": "Unaccustomed Earth",
                                    "1": "Jhumpa Lahiri",
                                    "2": "4.11",
                                    "3": "11644"
                                },
                                {
                                    "0": "Unnatural Death (Lord Peter Wimsey, #3)",
                                    "1": "Dorothy L. Sayers",
                                    "2": "4.11",
                                    "3": "11644"
                                },
                                {
                                    "0": "The Palace of Illusions",
                                    "1": "Chitra Banerjee Divakaruni",
                                    "2": "4.11",
                                    "3": "11644"
                                },
                                {
                                    "0": "The Diary of a Young Girl",
                                    "1": "Anne Frank, Eleanor Roosevelt, B.M. Mooyaart-Doubleday",
                                    "2": "4.1",
                                    "3": "11644"
                                },
                                {
                                    "0": "Dawn (Xenogenesis, #1)",
                                    "1": "Octavia E. Butler",
                                    "2": "4.1",
                                    "3": "11644"
                                },
                                {
                                    "0": "The Princess and the Pea",
                                    "1": "Janet Stevens, Hans Christian Andersen",
                                    "2": "4.1",
                                    "3": "11644"
                                },
                                {
                                    "0": "Hunting and Gathering",
                                    "1": "Anna Gavalda, Alison Anderson",
                                    "2": "4.1",
                                    "3": "11644"
                                },
                                {
                                    "0": "Jane Eyre",
                                    "1": "Charlotte Brontë, Michael Mason",
                                    "2": "4.1",
                                    "3": "11644"
                                },
                                {
                                    "0": "The Fannie Farmer Cookbook: Anniversary",
                                    "1": "Marion Cunningham, Fannie Merritt Farmer, Archibald Candy Corporation",
                                    "2": "4.1",
                                    "3": "11644"
                                },
                                {
                                    "0": "Pilgrim at Tinker Creek",
                                    "1": "Annie Dillard",
                                    "2": "4.1",
                                    "3": "11644"
                                },
                                {
                                    "0": "Manga Classics: Les Misérables",
                                    "1": "Stacy King, SunNeko Lee, Crystal S. Chan, Victor Hugo",
                                    "2": "4.1",
                                    "3": "11644"
                                },
                                {
                                    "0": "A Room of One's Own",
                                    "1": "Virginia Woolf",
                                    "2": "4.1",
                                    "3": "11644"
                                },
                                {
                                    "0": "The Golem and the Jinni (The Golem and the Jinni, #1)",
                                    "1": "Helene Wecker",
                                    "2": "4.1",
                                    "3": "11644"
                                },
                                {
                                    "0": "Can't We Talk about Something More Pleasant?",
                                    "1": "Roz Chast",
                                    "2": "4.1",
                                    "3": "11644"
                                },
                                {
                                    "0": "Desert Flower",
                                    "1": "Waris Dirie, Cathleen Miller",
                                    "2": "4.09",
                                    "3": "11644"
                                },
                                {
                                    "0": "The Second Sex",
                                    "1": "Simone de Beauvoir, H.M. Parshley, Deirdre Bair",
                                    "2": "4.09",
                                    "3": "11644"
                                },
                                {
                                    "0": "The Sixth Extinction: An Unnatural History",
                                    "1": "Elizabeth Kolbert",
                                    "2": "4.09",
                                    "3": "11644"
                                },
                                {
                                    "0": "The Drama of the Gifted Child: The Search for the True Self",
                                    "1": "Alice  Miller, Ruth Ward",
                                    "2": "4.09",
                                    "3": "11644"
                                },
                                {
                                    "0": "The Lathe of Heaven",
                                    "1": "Ursula K. Le Guin",
                                    "2": "4.09",
                                    "3": "11644"
                                },
                                {
                                    "0": "Bastard Out of Carolina",
                                    "1": "Dorothy Allison",
                                    "2": "4.09",
                                    "3": "11644"
                                },
                                {
                                    "0": "The Many Lives & Secret Sorrows of Josephine B. (Josephine Bonaparte, #1)",
                                    "1": "Sandra Gulland",
                                    "2": "4.09",
                                    "3": "11644"
                                },
                                {
                                    "0": "The Lottery",
                                    "1": "Shirley Jackson",
                                    "2": "4.09",
                                    "3": "11644"
                                },
                                {
                                    "0": "The Story of an Hour",
                                    "1": "Kate Chopin",
                                    "2": "4.08",
                                    "3": "11644"
                                },
                                {
                                    "0": "Incidents in the Life of a Slave Girl",
                                    "1": "Harriet Jacobs",
                                    "2": "4.08",
                                    "3": "11644"
                                },
                                {
                                    "0": "Written on the Body",
                                    "1": "Jeanette Winterson",
                                    "2": "4.08",
                                    "3": "11644"
                                },
                                {
                                    "0": "Letter to My Daughter",
                                    "1": "Maya Angelou",
                                    "2": "4.08",
                                    "3": "11644"
                                },
                                {
                                    "0": "Luck in the Shadows (Nightrunner, #1)",
                                    "1": "Lynn Flewelling",
                                    "2": "4.08",
                                    "3": "11644"
                                },
                                {
                                    "0": "My Life on the Road",
                                    "1": "Gloria Steinem",
                                    "2": "4.08",
                                    "3": "11644"
                                },
                                {
                                    "0": "Drift: The Unmooring of American Military Power",
                                    "1": "Rachel Maddow",
                                    "2": "4.07",
                                    "3": "11644"
                                },
                                {
                                    "0": "Wives and Daughters",
                                    "1": "Elizabeth Gaskell, Pam Morris",
                                    "2": "4.07",
                                    "3": "11644"
                                },
                                {
                                    "0": "Tris's Book (Circle of Magic, #2)",
                                    "1": "Tamora Pierce",
                                    "2": "4.07",
                                    "3": "11644"
                                },
                                {
                                    "0": "Paula",
                                    "1": "Isabel Allende",
                                    "2": "4.07",
                                    "3": "11644"
                                },
                                {
                                    "0": "Stones from the River",
                                    "1": "Ursula Hegi",
                                    "2": "4.07",
                                    "3": "11644"
                                },
                                {
                                    "0": "The Story of My Life",
                                    "1": "Helen Keller",
                                    "2": "4.07",
                                    "3": "11644"
                                },
                                {
                                    "0": "The Secret History",
                                    "1": "Donna Tartt",
                                    "2": "4.07",
                                    "3": "11644"
                                },
                                {
                                    "0": "Water for Elephants",
                                    "1": "Sara Gruen",
                                    "2": "4.07",
                                    "3": "11644"
                                },
                                {
                                    "0": "The Tombs of Atuan (Earthsea Cycle, #2)",
                                    "1": "Ursula K. Le Guin",
                                    "2": "4.07",
                                    "3": "11644"
                                },
                                {
                                    "0": "Five on a Treasure Island (Famous Five, #1)",
                                    "1": "Enid Blyton",
                                    "2": "4.06",
                                    "3": "11644"
                                },
                                {
                                    "0": "Daja's Book (Circle of Magic, #3)",
                                    "1": "Tamora Pierce",
                                    "2": "4.06",
                                    "3": "11644"
                                },
                                {
                                    "0": "The Handmaid's Tale",
                                    "1": "Margaret Atwood",
                                    "2": "4.06",
                                    "3": "11644"
                                },
                                {
                                    "0": "The Lottery and Other Stories",
                                    "1": "Shirley Jackson",
                                    "2": "4.06",
                                    "3": "11644"
                                },
                                {
                                    "0": "Hateship, Friendship, Courtship, Loveship, Marriage: Stories",
                                    "1": "Alice Munro",
                                    "2": "4.06",
                                    "3": "11644"
                                },
                                {
                                    "0": "Possessing the Secret of Joy",
                                    "1": "Alice Walker",
                                    "2": "4.06",
                                    "3": "11644"
                                },
                                {
                                    "0": "Stormy, Misty's Foal (Misty, #3)",
                                    "1": "Marguerite Henry",
                                    "2": "4.06",
                                    "3": "11644"
                                },
                                {
                                    "0": "The Other Wind (Earthsea Cycle, #6)",
                                    "1": "Ursula K. Le Guin",
                                    "2": "4.06",
                                    "3": "11644"
                                },
                                {
                                    "0": "I Am Malala: The Story of the Girl Who Stood Up for Education and Was Shot by the Taliban",
                                    "1": "Malala Yousafzai, Christina Lamb",
                                    "2": "4.06",
                                    "3": "11644"
                                },
                                {
                                    "0": "The Bone People",
                                    "1": "Keri Hulme",
                                    "2": "4.06",
                                    "3": "11644"
                                },
                                {
                                    "0": "Sense and Sensibility",
                                    "1": "Jane Austen, Tony Tanner, Ros Ballaster",
                                    "2": "4.06",
                                    "3": "11644"
                                },
                                {
                                    "0": "The Goblin Emperor",
                                    "1": "Katherine Addison",
                                    "2": "4.05",
                                    "3": "11644"
                                },
                                {
                                    "0": "We Have Always Lived in the Castle",
                                    "1": "Shirley Jackson, Jonathan Lethem",
                                    "2": "4.05",
                                    "3": "11644"
                                },
                                {
                                    "0": "The Likeness (Dublin Murder Squad, #2)",
                                    "1": "Tana French",
                                    "2": "4.05",
                                    "3": "11644"
                                },
                                {
                                    "0": "Animal Dreams",
                                    "1": "Barbara Kingsolver",
                                    "2": "4.05",
                                    "3": "11644"
                                },
                                {
                                    "0": "Sweetheart (Archie Sheridan & Gretchen Lowell, #2)",
                                    "1": "Chelsea Cain",
                                    "2": "4.05",
                                    "3": "11644"
                                },
                                {
                                    "0": "Cold Fire (The Circle Opens, #3)",
                                    "1": "Tamora Pierce",
                                    "2": "4.05",
                                    "3": "11644"
                                },
                                {
                                    "0": "Year of Yes: How to Dance It Out, Stand In the Sun and Be Your Own Person",
                                    "1": "Shonda Rhimes",
                                    "2": "4.05",
                                    "3": "11644"
                                },
                                {
                                    "0": "Children of God (The Sparrow, #2)",
                                    "1": "Mary Doria Russell",
                                    "2": "4.05",
                                    "3": "11644"
                                },
                                {
                                    "0": "The Temple of My Familiar",
                                    "1": "Alice Walker",
                                    "2": "4.05",
                                    "3": "11644"
                                },
                                {
                                    "0": "The Left Hand of Darkness",
                                    "1": "Ursula K. Le Guin, Lech Jęczmyk",
                                    "2": "4.05",
                                    "3": "11644"
                                },
                                {
                                    "0": "An Untamed State",
                                    "1": "Roxane Gay",
                                    "2": "4.05",
                                    "3": "11644"
                                },
                                {
                                    "0": "Snow Flower and the Secret Fan",
                                    "1": "Lisa See",
                                    "2": "4.05",
                                    "3": "11644"
                                },
                                {
                                    "0": "The Year of the Flood  (MaddAddam, #2)",
                                    "1": "Margaret Atwood",
                                    "2": "4.05",
                                    "3": "11644"
                                },
                                {
                                    "0": "Stiff: The Curious Lives of Human Cadavers",
                                    "1": "Mary Roach",
                                    "2": "4.05",
                                    "3": "11644"
                                },
                                {
                                    "0": "The Vampire Lestat (The Vampire Chronicles, #2)",
                                    "1": "Anne Rice",
                                    "2": "4.05",
                                    "3": "11644"
                                },
                                {
                                    "0": "City of Dragons (Rain Wild Chronicles, #3)",
                                    "1": "Robin Hobb",
                                    "2": "4.05",
                                    "3": "11644"
                                },
                                {
                                    "0": "Anne of Ingleside (Anne of Green Gables, #6)",
                                    "1": "L.M. Montgomery",
                                    "2": "4.05",
                                    "3": "11644"
                                },
                                {
                                    "0": "Book of Shadows (Sweep, #1)",
                                    "1": "Cate Tiernan",
                                    "2": "4.04",
                                    "3": "11644"
                                },
                                {
                                    "0": "Drinking: A Love Story",
                                    "1": "Caroline Knapp",
                                    "2": "4.04",
                                    "3": "11644"
                                },
                                {
                                    "0": "You Are a Badass: How to Stop Doubting Your Greatness and Start Living an Awesome Life",
                                    "1": "Jen Sincero",
                                    "2": "4.04",
                                    "3": "11644"
                                },
                                {
                                    "0": "Anne of Windy Poplars (Anne of Green Gables, #4)",
                                    "1": "L.M. Montgomery",
                                    "2": "4.04",
                                    "3": "11644"
                                },
                                {
                                    "0": "Nine Parts of Desire: The Hidden World of Islamic Women",
                                    "1": "Geraldine Brooks",
                                    "2": "4.04",
                                    "3": "11644"
                                },
                                {
                                    "0": "Martha Stewart's Cookies: The Very Best Treats to Bake and to Share",
                                    "1": "Martha Stewart, Victor Schrager",
                                    "2": "4.04",
                                    "3": "11644"
                                },
                                {
                                    "0": "Little Women (Little Women, #1)",
                                    "1": "Louisa May Alcott",
                                    "2": "4.04",
                                    "3": "11644"
                                },
                                {
                                    "0": "Lab Girl",
                                    "1": "Hope Jahren",
                                    "2": "4.04",
                                    "3": "11644"
                                },
                                {
                                    "0": "Not Without My Daughter",
                                    "1": "Betty Mahmoody",
                                    "2": "4.04",
                                    "3": "11644"
                                },
                                {
                                    "0": "A Monstrous Regiment of Women (Mary Russell, #2)",
                                    "1": "Laurie R. King",
                                    "2": "4.04",
                                    "3": "11644"
                                },
                                {
                                    "0": "The Broken Kingdoms (Inheritance, #2)",
                                    "1": "N.K. Jemisin",
                                    "2": "4.04",
                                    "3": "11644"
                                },
                                {
                                    "0": "Smoke Gets in Your Eyes: And Other Lessons from the Crematory",
                                    "1": "Caitlin Doughty",
                                    "2": "4.04",
                                    "3": "11644"
                                },
                                {
                                    "0": "Regeneration (Regeneration, #1)",
                                    "1": "Pat Barker",
                                    "2": "4.03",
                                    "3": "11644"
                                },
                                {
                                    "0": "Room",
                                    "1": "Emma Donoghue",
                                    "2": "4.03",
                                    "3": "11644"
                                },
                                {
                                    "0": "Priestess of Avalon (Avalon, #4)",
                                    "1": "Marion Zimmer Bradley, Diana L. Paxson",
                                    "2": "4.03",
                                    "3": "11644"
                                },
                                {
                                    "0": "Evil at Heart (Archie Sheridan & Gretchen Lowell, #3)",
                                    "1": "Chelsea Cain",
                                    "2": "4.03",
                                    "3": "11644"
                                },
                                {
                                    "0": "Murder at the Vicarage (Miss Marple, #1)",
                                    "1": "Agatha Christie",
                                    "2": "4.03",
                                    "3": "11644"
                                },
                                {
                                    "0": "Ancillary Sword (Imperial Radch, #2)",
                                    "1": "Ann Leckie",
                                    "2": "4.03",
                                    "3": "11644"
                                },
                                {
                                    "0": "An Unquiet Mind: A Memoir of Moods and Madness",
                                    "1": "Kay Redfield Jamison",
                                    "2": "4.03",
                                    "3": "11644"
                                },
                                {
                                    "0": "When Rabbit Howls",
                                    "1": "Truddi Chase, Robert A. Phillips Jr.",
                                    "2": "4.03",
                                    "3": "11644"
                                },
                                {
                                    "0": "The Poisonwood Bible",
                                    "1": "Barbara Kingsolver",
                                    "2": "4.02",
                                    "3": "11644"
                                },
                                {
                                    "0": "Standing in the Rainbow (Elmwood Springs, #2)",
                                    "1": "Fannie Flagg",
                                    "2": "4.02",
                                    "3": "11644"
                                },
                                {
                                    "0": "The Yellow Wallpaper and Other Stories",
                                    "1": "Charlotte Perkins Gilman",
                                    "2": "4.02",
                                    "3": "11644"
                                },
                                {
                                    "0": "Station Eleven",
                                    "1": "Emily St. John Mandel",
                                    "2": "4.02",
                                    "3": "11644"
                                },
                                {
                                    "0": "How to Fall in Love",
                                    "1": "Cecelia Ahern",
                                    "2": "4.02",
                                    "3": "11644"
                                },
                                {
                                    "0": "The Master Butchers Singing Club",
                                    "1": "Louise Erdrich",
                                    "2": "4.02",
                                    "3": "11644"
                                },
                                {
                                    "0": "What I Loved",
                                    "1": "Siri Hustvedt",
                                    "2": "4.02",
                                    "3": "11644"
                                },
                                {
                                    "0": "Fingersmith",
                                    "1": "Sarah Waters",
                                    "2": "4.02",
                                    "3": "11644"
                                },
                                {
                                    "0": "The Bloody Chamber and Other Stories",
                                    "1": "Angela Carter",
                                    "2": "4.02",
                                    "3": "11644"
                                },
                                {
                                    "0": "I, Elizabeth",
                                    "1": "Rosalind Miles",
                                    "2": "4.01",
                                    "3": "11644"
                                },
                                {
                                    "0": "Island Beneath the Sea",
                                    "1": "Isabel Allende, Margaret Sayers Peden",
                                    "2": "4.01",
                                    "3": "11644"
                                },
                                {
                                    "0": "The Mephisto Club (Rizzoli & Isles, #6)",
                                    "1": "Tess Gerritsen",
                                    "2": "4.01",
                                    "3": "11644"
                                },
                                {
                                    "0": "The Secret Life of Bees",
                                    "1": "Sue Monk Kidd",
                                    "2": "4.01",
                                    "3": "11644"
                                },
                                {
                                    "0": "Burial Rites",
                                    "1": "Hannah Kent",
                                    "2": "4.01",
                                    "3": "11644"
                                },
                                {
                                    "0": "Heaven (Casteel, #1)",
                                    "1": "V.C. Andrews",
                                    "2": "4.01",
                                    "3": "11644"
                                },
                                {
                                    "0": "Song of Solomon",
                                    "1": "Toni Morrison",
                                    "2": "4.01",
                                    "3": "11644"
                                },
                                {
                                    "0": "Dancing in My Nuddy-Pants (Confessions of Georgia Nicolson, #4)",
                                    "1": "Louise Rennison",
                                    "2": "4.01",
                                    "3": "11644"
                                },
                                {
                                    "0": "The Poisoner's Handbook: Murder and the Birth of Forensic Medicine in Jazz Age New York",
                                    "1": "Deborah Blum",
                                    "2": "4",
                                    "3": "11644"
                                },
                                {
                                    "0": "Rainbow Valley (Anne of Green Gables, #7)",
                                    "1": "L.M. Montgomery",
                                    "2": "4",
                                    "3": "11644"
                                },
                                {
                                    "0": "Tales from Earthsea (Earthsea Cycle, #5)",
                                    "1": "Ursula K. Le Guin",
                                    "2": "4",
                                    "3": "11644"
                                },
                                {
                                    "0": "Tipping the Velvet",
                                    "1": "Sarah Waters",
                                    "2": "4",
                                    "3": "11644"
                                },
                                {
                                    "0": "Oryx and Crake (MaddAddam, #1)",
                                    "1": "Margaret Atwood",
                                    "2": "4",
                                    "3": "11644"
                                },
                                {
                                    "0": "The Creative Habit: Learn It and Use It for Life",
                                    "1": "Twyla Tharp",
                                    "2": "4",
                                    "3": "11644"
                                },
                                {
                                    "0": "I Capture the Castle",
                                    "1": "Dodie Smith",
                                    "2": "4",
                                    "3": "11644"
                                },
                                {
                                    "0": "Close Range",
                                    "1": "Annie Proulx",
                                    "2": "3.99",
                                    "3": "11644"
                                },
                                {
                                    "0": "The Miseducation of Cameron Post",
                                    "1": "Emily M. Danforth",
                                    "2": "3.99",
                                    "3": "11644"
                                },
                                {
                                    "0": "Gut: The Inside Story of Our Body’s Most Underrated Organ",
                                    "1": "Giulia Enders, Jill Enders",
                                    "2": "3.99",
                                    "3": "11644"
                                },
                                {
                                    "0": "Emma",
                                    "1": "Jane Austen, Fiona Stafford",
                                    "2": "3.99",
                                    "3": "11644"
                                },
                                {
                                    "0": "Five Go Adventuring Again (Famous Five, #2)",
                                    "1": "Enid Blyton",
                                    "2": "3.99",
                                    "3": "11644"
                                },
                                {
                                    "0": "The Bluest Eye",
                                    "1": "Toni Morrison",
                                    "2": "3.99",
                                    "3": "11644"
                                },
                                {
                                    "0": "A Wizard of Earthsea (Earthsea Cycle, #1)",
                                    "1": "Ursula K. Le Guin",
                                    "2": "3.99",
                                    "3": "11644"
                                },
                                {
                                    "0": "The Argonauts",
                                    "1": "Maggie Nelson",
                                    "2": "3.99",
                                    "3": "11644"
                                },
                                {
                                    "0": "Sandry's Book (Circle of Magic, #1)",
                                    "1": "Tamora Pierce",
                                    "2": "3.99",
                                    "3": "11644"
                                },
                                {
                                    "0": "Prodigal Summer",
                                    "1": "Barbara Kingsolver",
                                    "2": "3.98",
                                    "3": "11644"
                                },
                                {
                                    "0": "MaddAddam (MaddAddam, #3)",
                                    "1": "Margaret Atwood",
                                    "2": "3.98",
                                    "3": "11644"
                                },
                                {
                                    "0": "The Kitchen God's Wife",
                                    "1": "Amy Tan",
                                    "2": "3.98",
                                    "3": "11644"
                                },
                                {
                                    "0": "Keeping You a Secret",
                                    "1": "Julie Anne Peters",
                                    "2": "3.98",
                                    "3": "11644"
                                },
                                {
                                    "0": "The Hundred Secret Senses",
                                    "1": "Amy Tan",
                                    "2": "3.98",
                                    "3": "11644"
                                },
                                {
                                    "0": "Magic Steps (The Circle Opens, #1)",
                                    "1": "Tamora Pierce",
                                    "2": "3.98",
                                    "3": "11644"
                                },
                                {
                                    "0": "A Tale for the Time Being",
                                    "1": "Ruth Ozeki",
                                    "2": "3.98",
                                    "3": "11644"
                                },
                                {
                                    "0": "The Bonesetter's Daughter",
                                    "1": "Amy Tan",
                                    "2": "3.98",
                                    "3": "11644"
                                },
                                {
                                    "0": "Runaway",
                                    "1": "Alice Munro",
                                    "2": "3.98",
                                    "3": "11644"
                                },
                                {
                                    "0": "Girl at War",
                                    "1": "Sara Nović",
                                    "2": "3.98",
                                    "3": "11644"
                                },
                                {
                                    "0": "Sleeping Beauty Box Set",
                                    "1": "A.N. Roquelaure, Anne Rice",
                                    "2": "3.98",
                                    "3": "11644"
                                },
                                {
                                    "0": "Geek Love",
                                    "1": "Katherine Dunn",
                                    "2": "3.98",
                                    "3": "11644"
                                },
                                {
                                    "0": "The Space Between Us",
                                    "1": "Thrity Umrigar",
                                    "2": "3.98",
                                    "3": "11644"
                                },
                                {
                                    "0": "Assassination Vacation",
                                    "1": "Sarah Vowell",
                                    "2": "3.98",
                                    "3": "11644"
                                },
                                {
                                    "0": "Running Out of Time",
                                    "1": "Margaret Peterson Haddix",
                                    "2": "3.98",
                                    "3": "11644"
                                },
                                {
                                    "0": "Love Medicine",
                                    "1": "Louise Erdrich",
                                    "2": "3.98",
                                    "3": "11644"
                                },
                                {
                                    "0": "The Mysterious Affair at Styles (Hercule Poirot, #1)",
                                    "1": "Agatha Christie, Ροζίτα Σώκου",
                                    "2": "3.98",
                                    "3": "11644"
                                },
                                {
                                    "0": "The Art of Asking; or, How I Learned to Stop Worrying and Let People Help",
                                    "1": "Amanda Palmer",
                                    "2": "3.97",
                                    "3": "11644"
                                },
                                {
                                    "0": "Ancillary Justice (Imperial Radch #1)",
                                    "1": "Ann Leckie",
                                    "2": "3.97",
                                    "3": "11644"
                                },
                                {
                                    "0": "Heidi",
                                    "1": "Johanna Spyri, Angelo  Rinaldi, Beverly Cleary",
                                    "2": "3.97",
                                    "3": "11644"
                                },
                                {
                                    "0": "Faithful Place (Dublin Murder Squad, #3)",
                                    "1": "Tana French",
                                    "2": "3.97",
                                    "3": "11644"
                                },
                                {
                                    "0": "Alias Grace",
                                    "1": "Margaret Atwood, Brigitte Walitzek",
                                    "2": "3.97",
                                    "3": "11644"
                                },
                                {
                                    "0": "The Good Earth (House of Earth, #1)",
                                    "1": "Pearl S. Buck",
                                    "2": "3.97",
                                    "3": "11644"
                                },
                                {
                                    "0": "The Girl Who Circumnavigated Fairyland in a Ship of Her Own Making (Fairyland, #1)",
                                    "1": "Catherynne M. Valente, Ana Juan",
                                    "2": "3.97",
                                    "3": "11644"
                                },
                                {
                                    "0": "Interview with the Vampire (The Vampire Chronicles, #1)",
                                    "1": "Anne Rice",
                                    "2": "3.97",
                                    "3": "11644"
                                },
                                {
                                    "0": "Knocked Out by My Nunga-Nungas (Confessions of Georgia Nicolson, #3)",
                                    "1": "Louise Rennison",
                                    "2": "3.97",
                                    "3": "11644"
                                },
                                {
                                    "0": "The Heart is a Lonely Hunter",
                                    "1": "Carson McCullers",
                                    "2": "3.97",
                                    "3": "11644"
                                },
                                {
                                    "0": "Annie on My Mind",
                                    "1": "Nancy Garden",
                                    "2": "3.97",
                                    "3": "11644"
                                },
                                {
                                    "0": "Behind the Beautiful Forevers: Life, Death, and Hope in a Mumbai Undercity",
                                    "1": "Katherine Boo",
                                    "2": "3.97",
                                    "3": "11644"
                                },
                                {
                                    "0": "Girl in Translation",
                                    "1": "Jean Kwok",
                                    "2": "3.96",
                                    "3": "11644"
                                },
                                {
                                    "0": "Simple Abundance:  A Daybook of Comfort and Joy",
                                    "1": "Sarah Ban Breathnach",
                                    "2": "3.96",
                                    "3": "11644"
                                },
                                {
                                    "0": "Dark Angel (Casteel, #2)",
                                    "1": "V.C. Andrews",
                                    "2": "3.96",
                                    "3": "11644"
                                },
                                {
                                    "0": "On the Bright Side, I'm Now the Girlfriend of a Sex God (Confessions of Georgia Nicolson, #2)",
                                    "1": "Louise Rennison",
                                    "2": "3.96",
                                    "3": "11644"
                                },
                                {
                                    "0": "The Enchanted",
                                    "1": "Rene Denfeld",
                                    "2": "3.96",
                                    "3": "11644"
                                },
                                {
                                    "0": "Heft",
                                    "1": "Liz Moore",
                                    "2": "3.96",
                                    "3": "11644"
                                },
                                {
                                    "0": "The Stories of Eva Luna",
                                    "1": "Isabel Allende",
                                    "2": "3.96",
                                    "3": "11644"
                                },
                                {
                                    "0": "Blackout: Remembering the Things I Drank to Forget",
                                    "1": "Sarah Hepola",
                                    "2": "3.96",
                                    "3": "11644"
                                },
                                {
                                    "0": "Don't Let's Go to the Dogs Tonight",
                                    "1": "Alexandra Fuller",
                                    "2": "3.96",
                                    "3": "11644"
                                },
                                {
                                    "0": "The Namesake",
                                    "1": "Jhumpa Lahiri",
                                    "2": "3.96",
                                    "3": "11644"
                                },
                                {
                                    "0": "Harriet the Spy (Harriet the Spy #1)",
                                    "1": "Louise Fitzhugh",
                                    "2": "3.96",
                                    "3": "11644"
                                },
                                {
                                    "0": "Nigella Express: Good Food, Fast",
                                    "1": "Nigella Lawson",
                                    "2": "3.96",
                                    "3": "11644"
                                },
                                {
                                    "0": "A Murder Is Announced (Miss Marple, #5)",
                                    "1": "Agatha Christie",
                                    "2": "3.96",
                                    "3": "11644"
                                },
                                {
                                    "0": "Fugitive Pieces",
                                    "1": "Anne Michaels",
                                    "2": "3.95",
                                    "3": "11644"
                                },
                                {
                                    "0": "The Moosewood Cookbook: Recipes from Moosewood Restaurant, Ithaca, New York",
                                    "1": "Mollie Katzen",
                                    "2": "3.95",
                                    "3": "11644"
                                },
                                {
                                    "0": "The Time Traveler's Wife",
                                    "1": "Audrey Niffenegger",
                                    "2": "3.95",
                                    "3": "11644"
                                },
                                {
                                    "0": "Lullabies for Little Criminals",
                                    "1": "Heather O'Neill",
                                    "2": "3.95",
                                    "3": "11644"
                                },
                                {
                                    "0": "The Blind Assassin",
                                    "1": "Margaret Atwood",
                                    "2": "3.95",
                                    "3": "11644"
                                },
                                {
                                    "0": "The Snow Child",
                                    "1": "Eowyn Ivey",
                                    "2": "3.95",
                                    "3": "11644"
                                },
                                {
                                    "0": "Fantastic Beasts and Where to Find Them",
                                    "1": "Newt Scamander, J.K. Rowling, Albus Dumbledore",
                                    "2": "3.95",
                                    "3": "11644"
                                },
                                {
                                    "0": "Chocolat (Chocolat, #1)",
                                    "1": "Joanne Harris",
                                    "2": "3.95",
                                    "3": "11644"
                                },
                                {
                                    "0": "Fall on Your Knees",
                                    "1": "Ann-Marie MacDonald",
                                    "2": "3.95",
                                    "3": "11644"
                                },
                                {
                                    "0": "Bringing Up Bébé: One American Mother Discovers the Wisdom of French Parenting",
                                    "1": "Pamela Druckerman, Abby Craden",
                                    "2": "3.95",
                                    "3": "11644"
                                },
                                {
                                    "0": "Eva Luna",
                                    "1": "Isabel Allende, Margaret Sayers Peden",
                                    "2": "3.95",
                                    "3": "11644"
                                },
                                {
                                    "0": "Evil Under the Sun (Hercule Poirot, #23)",
                                    "1": "Agatha Christie",
                                    "2": "3.94",
                                    "3": "11644"
                                },
                                {
                                    "0": "Bossypants",
                                    "1": "Tina Fey",
                                    "2": "3.94",
                                    "3": "11644"
                                },
                                {
                                    "0": "Black Beauty",
                                    "1": "Anna Sewell",
                                    "2": "3.94",
                                    "3": "11644"
                                },
                                {
                                    "0": "Why Be Happy When You Could Be Normal?",
                                    "1": "Jeanette Winterson",
                                    "2": "3.94",
                                    "3": "11644"
                                },
                                {
                                    "0": "Silent Spring",
                                    "1": "Rachel Carson, Linda Lear, Edward O. Wilson",
                                    "2": "3.94",
                                    "3": "11644"
                                },
                                {
                                    "0": "The Housekeeper and the Professor",
                                    "1": "Yōko Ogawa, Stephen Snyder",
                                    "2": "3.94",
                                    "3": "11644"
                                },
                                {
                                    "0": "Innocent Traitor",
                                    "1": "Alison Weir",
                                    "2": "3.94",
                                    "3": "11644"
                                },
                                {
                                    "0": "Lumberjanes, Vol. 1: Beware the Kitten Holy",
                                    "1": "Noelle Stevenson, Grace Ellis, Shannon Waters, Shannon Watters, Brooke A. Allen, Faith Hicks, Kat Leyh, Brooke Allen, Carolyn Nowak, Various, Carey Pietsch",
                                    "2": "3.94",
                                    "3": "11644"
                                },
                                {
                                    "0": "Cover Her Face (Adam Dalgliesh #1)",
                                    "1": "P.D. James",
                                    "2": "3.94",
                                    "3": "11644"
                                },
                                {
                                    "0": "Like Water for Chocolate",
                                    "1": "Laura Esquivel, Thomas  Christensen, Carol Christensen",
                                    "2": "3.94",
                                    "3": "11644"
                                },
                                {
                                    "0": "Kristy's Great Idea (The Baby-Sitters Club, #1)",
                                    "1": "Ann M. Martin",
                                    "2": "3.94",
                                    "3": "11644"
                                },
                                {
                                    "0": "M Train",
                                    "1": "Patti Smith",
                                    "2": "3.94",
                                    "3": "11644"
                                },
                                {
                                    "0": "Otherwise Known as Sheila the Great (Fudge #2)",
                                    "1": "Judy Blume",
                                    "2": "3.94",
                                    "3": "11644"
                                },
                                {
                                    "0": "The Worst Witch (Worst Witch, #1)",
                                    "1": "Jill Murphy",
                                    "2": "3.94",
                                    "3": "11644"
                                },
                                {
                                    "0": "The House of Mirth",
                                    "1": "Edith Wharton, Nina Bawden",
                                    "2": "3.94",
                                    "3": "11644"
                                },
                                {
                                    "0": "The Bean Trees (Greer Family, #1)",
                                    "1": "Barbara Kingsolver",
                                    "2": "3.94",
                                    "3": "11644"
                                },
                                {
                                    "0": "Dragon Prince (Dragon Prince, #1)",
                                    "1": "Melanie Rawn",
                                    "2": "3.94",
                                    "3": "11644"
                                },
                                {
                                    "0": "Waiting to Exhale (Waiting To Exhale #1)",
                                    "1": "Terry McMillan",
                                    "2": "3.94",
                                    "3": "11644"
                                },
                                {
                                    "0": "Women of the Silk",
                                    "1": "Gail Tsukiyama",
                                    "2": "3.94",
                                    "3": "11644"
                                },
                                {
                                    "0": "Men Explain Things to Me",
                                    "1": "Rebecca Solnit",
                                    "2": "3.93",
                                    "3": "11644"
                                },
                                {
                                    "0": "Rachel's Holiday (Walsh Family, #2)",
                                    "1": "Marian Keyes",
                                    "2": "3.93",
                                    "3": "11644"
                                },
                                {
                                    "0": "Brokeback Mountain",
                                    "1": "Annie Proulx",
                                    "2": "3.93",
                                    "3": "11644"
                                },
                                {
                                    "0": "I Am Livia",
                                    "1": "Phyllis T. Smith",
                                    "2": "3.93",
                                    "3": "11644"
                                },
                                {
                                    "0": "Furiously Happy: A Funny Book About Horrible Things",
                                    "1": "Jenny  Lawson",
                                    "2": "3.93",
                                    "3": "11644"
                                },
                                {
                                    "0": "The Wayfarer Redemption (Wayfarer Redemption, #1)",
                                    "1": "Sara Douglass",
                                    "2": "3.93",
                                    "3": "11644"
                                },
                                {
                                    "0": "Portrait in Sepia",
                                    "1": "Isabel Allende, Margaret Sayers Peden",
                                    "2": "3.93",
                                    "3": "11644"
                                },
                                {
                                    "0": "Packing for Mars: The Curious Science of Life in the Void",
                                    "1": "Mary Roach",
                                    "2": "3.93",
                                    "3": "11644"
                                },
                                {
                                    "0": "Stone Mattress: Nine Tales",
                                    "1": "Margaret Atwood",
                                    "2": "3.93",
                                    "3": "11644"
                                },
                                {
                                    "0": "My Year of Meats",
                                    "1": "Ruth Ozeki",
                                    "2": "3.93",
                                    "3": "11644"
                                },
                                {
                                    "0": "White Oleander",
                                    "1": "Janet Fitch",
                                    "2": "3.93",
                                    "3": "11644"
                                },
                                {
                                    "0": "The Talented Mr. Ripley (Ripley, #1)",
                                    "1": "Patricia Highsmith",
                                    "2": "3.93",
                                    "3": "11644"
                                },
                                {
                                    "0": "The Price of Salt",
                                    "1": "Patricia Highsmith",
                                    "2": "3.93",
                                    "3": "11644"
                                },
                                {
                                    "0": "Out",
                                    "1": "Natsuo Kirino, Stephen Snyder",
                                    "2": "3.93",
                                    "3": "11644"
                                },
                                {
                                    "0": "The Age of Innocence",
                                    "1": "Edith Wharton, Maureen Howard",
                                    "2": "3.93",
                                    "3": "11644"
                                },
                                {
                                    "0": "Middlemarch",
                                    "1": "George Eliot, Michel Faber",
                                    "2": "3.93",
                                    "3": "11644"
                                },
                                {
                                    "0": "The Liars' Club",
                                    "1": "Mary Karr",
                                    "2": "3.92",
                                    "3": "11644"
                                },
                                {
                                    "0": "Cat's Eye",
                                    "1": "Margaret Atwood",
                                    "2": "3.92",
                                    "3": "11644"
                                },
                                {
                                    "0": "A God in Ruins",
                                    "1": "Kate Atkinson",
                                    "2": "3.92",
                                    "3": "11644"
                                },
                                {
                                    "0": "Sharp Objects",
                                    "1": "Gillian Flynn",
                                    "2": "3.92",
                                    "3": "11644"
                                },
                                {
                                    "0": "4:50 from Paddington (Miss Marple, #8)",
                                    "1": "Agatha Christie",
                                    "2": "3.92",
                                    "3": "11644"
                                },
                                {
                                    "0": "Good Wives (Little Women, #1.5)",
                                    "1": "Louisa May Alcott",
                                    "2": "3.92",
                                    "3": "11644"
                                },
                                {
                                    "0": "Through the Woods",
                                    "1": "Emily Carroll",
                                    "2": "3.92",
                                    "3": "11644"
                                },
                                {
                                    "0": "Bel Canto",
                                    "1": "Ann Patchett",
                                    "2": "3.92",
                                    "3": "11644"
                                },
                                {
                                    "0": "Le bleu est une couleur chaude",
                                    "1": "Julie Maroh",
                                    "2": "3.92",
                                    "3": "11644"
                                },
                                {
                                    "0": "Gulp: Adventures on the Alimentary Canal",
                                    "1": "Mary Roach",
                                    "2": "3.92",
                                    "3": "11644"
                                },
                                {
                                    "0": "My Cousin Rachel",
                                    "1": "Daphne du Maurier",
                                    "2": "3.92",
                                    "3": "11644"
                                },
                                {
                                    "0": "Homecoming (Tillerman Cycle, #1)",
                                    "1": "Cynthia Voigt",
                                    "2": "3.92",
                                    "3": "11644"
                                },
                                {
                                    "0": "Geisha, a Life",
                                    "1": "Mineko Iwasaki, Rande Brown",
                                    "2": "3.92",
                                    "3": "11644"
                                },
                                {
                                    "0": "Cold Comfort Farm",
                                    "1": "Stella Gibbons, Lynne Truss, Roz Chast",
                                    "2": "3.92",
                                    "3": "11644"
                                },
                                {
                                    "0": "Heartsick (Archie Sheridan & Gretchen Lowell, #1)",
                                    "1": "Chelsea Cain",
                                    "2": "3.92",
                                    "3": "11644"
                                },
                                {
                                    "0": "What We Keep ",
                                    "1": "Elizabeth Berg",
                                    "2": "3.91",
                                    "3": "11644"
                                },
                                {
                                    "0": "Tar Baby",
                                    "1": "Toni Morrison",
                                    "2": "3.91",
                                    "3": "11644"
                                },
                                {
                                    "0": "The Tenant of Wildfell Hall",
                                    "1": "Anne Brontë, Stevie Davies",
                                    "2": "3.91",
                                    "3": "11644"
                                },
                                {
                                    "0": "The God of Small Things",
                                    "1": "Arundhati Roy",
                                    "2": "3.91",
                                    "3": "11644"
                                },
                                {
                                    "0": "Change of Heart",
                                    "1": "Jodi Picoult",
                                    "2": "3.91",
                                    "3": "11644"
                                },
                                {
                                    "0": "Bad Feminist",
                                    "1": "Roxane Gay",
                                    "2": "3.91",
                                    "3": "11644"
                                },
                                {
                                    "0": "The Round House",
                                    "1": "Louise Erdrich",
                                    "2": "3.91",
                                    "3": "11644"
                                },
                                {
                                    "0": "Whose Body?  (Lord Peter Wimsey, #1)",
                                    "1": "Dorothy L. Sayers",
                                    "2": "3.91",
                                    "3": "11644"
                                },
                                {
                                    "0": "The History of Love",
                                    "1": "Nicole Krauss",
                                    "2": "3.91",
                                    "3": "11644"
                                },
                                {
                                    "0": "The Gift",
                                    "1": "Danielle Steel",
                                    "2": "3.91",
                                    "3": "11644"
                                },
                                {
                                    "0": "Inés of My Soul",
                                    "1": "Isabel Allende, Margaret Sayers Peden",
                                    "2": "3.9",
                                    "3": "11644"
                                },
                                {
                                    "0": "Hercule Poirot's Christmas (Hercule Poirot, #20)",
                                    "1": "Agatha Christie",
                                    "2": "3.9",
                                    "3": "11644"
                                },
                                {
                                    "0": "The Joy Luck Club",
                                    "1": "Amy Tan",
                                    "2": "3.9",
                                    "3": "11644"
                                },
                                {
                                    "0": "The Partly Cloudy Patriot",
                                    "1": "Sarah Vowell, Katherine Streeter",
                                    "2": "3.9",
                                    "3": "11644"
                                },
                                {
                                    "0": "Girl, Interrupted",
                                    "1": "Susanna Kaysen",
                                    "2": "3.9",
                                    "3": "11644"
                                },
                                {
                                    "0": "Ordinary People",
                                    "1": "Judith Guest",
                                    "2": "3.9",
                                    "3": "11644"
                                },
                                {
                                    "0": "The Sea, the Sea",
                                    "1": "Iris Murdoch, Mary Kinzie",
                                    "2": "3.9",
                                    "3": "11644"
                                },
                                {
                                    "0": "Fledgling",
                                    "1": "Octavia E. Butler",
                                    "2": "3.9",
                                    "3": "11644"
                                },
                                {
                                    "0": "The Tail of Emily Windsnap (Emily Windsnap, #1)",
                                    "1": "Liz Kessler, Sarah Gibb",
                                    "2": "3.89",
                                    "3": "11644"
                                },
                                {
                                    "0": "The Haunting of Hill House",
                                    "1": "Shirley Jackson, Laura   Miller",
                                    "2": "3.89",
                                    "3": "11644"
                                },
                                {
                                    "0": "Tehanu (Earthsea Cycle, #4)",
                                    "1": "Ursula K. Le Guin",
                                    "2": "3.89",
                                    "3": "11644"
                                },
                                {
                                    "0": "The Beauty Myth",
                                    "1": "Naomi Wolf",
                                    "2": "3.89",
                                    "3": "11644"
                                },
                                {
                                    "0": "Are You There God? It's Me, Margaret",
                                    "1": "Judy Blume",
                                    "2": "3.89",
                                    "3": "11644"
                                },
                                {
                                    "0": "Peril at End House (Hercule Poirot, #8)",
                                    "1": "Agatha Christie",
                                    "2": "3.89",
                                    "3": "11644"
                                },
                                {
                                    "0": "That Was Then, This Is Now",
                                    "1": "S.E. Hinton",
                                    "2": "3.89",
                                    "3": "11644"
                                },
                                {
                                    "0": "Daughter of Fortune",
                                    "1": "Isabel Allende, Margaret Sayers Peden",
                                    "2": "3.89",
                                    "3": "11644"
                                },
                                {
                                    "0": "Relish: My Life in the Kitchen",
                                    "1": "Lucy Knisley",
                                    "2": "3.89",
                                    "3": "11644"
                                },
                                {
                                    "0": "The Mirror Crack'd from Side to Side (Miss Marple, #9)",
                                    "1": "Agatha Christie",
                                    "2": "3.89",
                                    "3": "11644"
                                },
                                {
                                    "0": "The Beet Queen",
                                    "1": "Louise Erdrich",
                                    "2": "3.89",
                                    "3": "11644"
                                },
                                {
                                    "0": "Why Not Me?",
                                    "1": "Mindy Kaling",
                                    "2": "3.89",
                                    "3": "11644"
                                },
                                {
                                    "0": "Wise Blood",
                                    "1": "Flannery O'Connor",
                                    "2": "3.88",
                                    "3": "11644"
                                },
                                {
                                    "0": "Death Comes for the Archbishop",
                                    "1": "Willa Cather",
                                    "2": "3.88",
                                    "3": "11644"
                                },
                                {
                                    "0": "The Diary of Frida Kahlo: An Intimate Self-Portrait",
                                    "1": "Frida Kahlo, Carlos Fuentes, Sarah M. Lowe",
                                    "2": "3.88",
                                    "3": "11644"
                                },
                                {
                                    "0": "Possession",
                                    "1": "A.S. Byatt",
                                    "2": "3.88",
                                    "3": "11644"
                                },
                                {
                                    "0": "Cunt: A Declaration of Independence",
                                    "1": "Inga Muscio, Betty Dodson",
                                    "2": "3.88",
                                    "3": "11644"
                                },
                                {
                                    "0": "The Mammoth Hunters (Earth's Children, #3)",
                                    "1": "Jean M. Auel",
                                    "2": "3.88",
                                    "3": "11644"
                                },
                                {
                                    "0": "Hunger Makes Me a Modern Girl",
                                    "1": "Carrie Brownstein",
                                    "2": "3.88",
                                    "3": "11644"
                                },
                                {
                                    "0": "My Brilliant Friend (The Neapolitan Novels #1)",
                                    "1": "Elena Ferrante, Ann Goldstein",
                                    "2": "3.88",
                                    "3": "11644"
                                },
                                {
                                    "0": "Anya's Ghost",
                                    "1": "Vera Brosgol",
                                    "2": "3.88",
                                    "3": "11644"
                                },
                                {
                                    "0": "Rubyfruit Jungle",
                                    "1": "Rita Mae Brown",
                                    "2": "3.88",
                                    "3": "11644"
                                },
                                {
                                    "0": "Their Eyes Were Watching God",
                                    "1": "Zora Neale Hurston",
                                    "2": "3.87",
                                    "3": "11644"
                                },
                                {
                                    "0": "Another Brooklyn",
                                    "1": "Jacqueline Woodson",
                                    "2": "3.87",
                                    "3": "11644"
                                },
                                {
                                    "0": "Empress Orchid (Empress Orchid, #1)",
                                    "1": "Anchee Min",
                                    "2": "3.87",
                                    "3": "11644"
                                },
                                {
                                    "0": "Molly Moon's Incredible Book of Hypnotism (Molly Moon, #1)",
                                    "1": "Georgia Byng",
                                    "2": "3.87",
                                    "3": "11644"
                                },
                                {
                                    "0": "The Goldfinch",
                                    "1": "Donna Tartt",
                                    "2": "3.87",
                                    "3": "11644"
                                },
                                {
                                    "0": "Dawn (Cutler, #1)",
                                    "1": "V.C. Andrews",
                                    "2": "3.87",
                                    "3": "11644"
                                },
                                {
                                    "0": "Five Days at Memorial: Life and Death in a Storm-Ravaged Hospital",
                                    "1": "Sheri  Fink",
                                    "2": "3.87",
                                    "3": "11644"
                                },
                                {
                                    "0": "Pretend You Don't See Her",
                                    "1": "Mary Higgins Clark",
                                    "2": "3.86",
                                    "3": "11644"
                                },
                                {
                                    "0": "The Passion of Artemisia",
                                    "1": "Susan Vreeland",
                                    "2": "3.86",
                                    "3": "11644"
                                },
                                {
                                    "0": "My Stroke of Insight: A Brain Scientist's Personal Journey",
                                    "1": "Jill Bolte Taylor",
                                    "2": "3.86",
                                    "3": "11644"
                                },
                                {
                                    "0": "The Vagina Monologues",
                                    "1": "Eve Ensler, Gloria Steinem",
                                    "2": "3.86",
                                    "3": "11644"
                                },
                                {
                                    "0": "Take the Cannoli",
                                    "1": "Sarah Vowell",
                                    "2": "3.86",
                                    "3": "11644"
                                },
                                {
                                    "0": "Sula",
                                    "1": "Toni Morrison",
                                    "2": "3.86",
                                    "3": "11644"
                                },
                                {
                                    "0": "An Acceptable Time (A Wrinkle in Time Quintet, #5)",
                                    "1": "Madeleine L'Engle",
                                    "2": "3.86",
                                    "3": "11644"
                                },
                                {
                                    "0": "Breath, Eyes, Memory",
                                    "1": "Edwidge Danticat",
                                    "2": "3.86",
                                    "3": "11644"
                                },
                                {
                                    "0": "The Queen of the Damned (The Vampire Chronicles, #3)",
                                    "1": "Anne Rice",
                                    "2": "3.86",
                                    "3": "11644"
                                },
                                {
                                    "0": "The Year of Magical Thinking",
                                    "1": "Joan Didion",
                                    "2": "3.86",
                                    "3": "11644"
                                },
                                {
                                    "0": "Play It as It Lays",
                                    "1": "Joan Didion, David Thomson",
                                    "2": "3.86",
                                    "3": "11644"
                                },
                                {
                                    "0": "LaRose",
                                    "1": "Louise Erdrich",
                                    "2": "3.86",
                                    "3": "11644"
                                },
                                {
                                    "0": "No Logo",
                                    "1": "Naomi Klein",
                                    "2": "3.86",
                                    "3": "11644"
                                },
                                {
                                    "0": "Orlando",
                                    "1": "Virginia Woolf",
                                    "2": "3.86",
                                    "3": "11644"
                                },
                                {
                                    "0": "The Feminine Mystique",
                                    "1": "Betty Friedan, Anna Quindlen",
                                    "2": "3.85",
                                    "3": "11644"
                                },
                                {
                                    "0": "Girl with a Pearl Earring",
                                    "1": "Tracy Chevalier",
                                    "2": "3.85",
                                    "3": "11644"
                                },
                                {
                                    "0": "Looking for Alibrandi",
                                    "1": "Melina Marchetta",
                                    "2": "3.85",
                                    "3": "11644"
                                },
                                {
                                    "0": "Over Sea, Under Stone (The Dark Is Rising, #1)",
                                    "1": "Susan Cooper",
                                    "2": "3.85",
                                    "3": "11644"
                                },
                                {
                                    "0": "The Ladies of Grace Adieu and Other Stories",
                                    "1": "Susanna Clarke, Charles Vess",
                                    "2": "3.85",
                                    "3": "11644"
                                },
                                {
                                    "0": "Wolf Hall (Thomas Cromwell, #1)",
                                    "1": "Hilary Mantel",
                                    "2": "3.85",
                                    "3": "11644"
                                },
                                {
                                    "0": "I Never Promised You a Rose Garden",
                                    "1": "Hannah  Green, Joanne Greenberg",
                                    "2": "3.85",
                                    "3": "11644"
                                },
                                {
                                    "0": "The Body in the Library (Miss Marple, #3)",
                                    "1": "Agatha Christie",
                                    "2": "3.85",
                                    "3": "11644"
                                },
                                {
                                    "0": "Jamaica Inn",
                                    "1": "Daphne du Maurier",
                                    "2": "3.85",
                                    "3": "11644"
                                },
                                {
                                    "0": "The Book of Unknown Americans",
                                    "1": "Cristina Henriquez",
                                    "2": "3.85",
                                    "3": "11644"
                                },
                                {
                                    "0": "Cranford",
                                    "1": "Elizabeth Gaskell",
                                    "2": "3.85",
                                    "3": "11644"
                                },
                                {
                                    "0": "The Fountainhead",
                                    "1": "Ayn Rand, Leonard Peikoff",
                                    "2": "3.85",
                                    "3": "11644"
                                },
                                {
                                    "0": "The Moving Finger (Miss Marple, #4)",
                                    "1": "Agatha Christie",
                                    "2": "3.84",
                                    "3": "11644"
                                },
                                {
                                    "0": "Alif the Unseen",
                                    "1": "G. Willow Wilson",
                                    "2": "3.84",
                                    "3": "11644"
                                },
                                {
                                    "0": "After the Funeral (Hercule Poirot, #29)",
                                    "1": "Agatha Christie",
                                    "2": "3.84",
                                    "3": "11644"
                                },
                                {
                                    "0": "Tales of a Female Nomad: Living at Large in the World",
                                    "1": "Rita Golden Gelman",
                                    "2": "3.84",
                                    "3": "11644"
                                },
                                {
                                    "0": "Nemesis (Miss Marple, #12)",
                                    "1": "Agatha Christie",
                                    "2": "3.84",
                                    "3": "11644"
                                },
                                {
                                    "0": "The Stone Diaries",
                                    "1": "Carol Shields",
                                    "2": "3.84",
                                    "3": "11644"
                                },
                                {
                                    "0": "Commonwealth",
                                    "1": "Ann Patchett",
                                    "2": "3.84",
                                    "3": "11644"
                                },
                                {
                                    "0": "The Cat Who Could Read Backwards (Cat Who..., #1)",
                                    "1": "Lilian Jackson Braun",
                                    "2": "3.84",
                                    "3": "11644"
                                },
                                {
                                    "0": "Is Everyone Hanging Out Without Me? (And Other Concerns)",
                                    "1": "Mindy Kaling",
                                    "2": "3.84",
                                    "3": "11644"
                                },
                                {
                                    "0": "Euphoria",
                                    "1": "Lily King",
                                    "2": "3.84",
                                    "3": "11644"
                                },
                                {
                                    "0": "Gilead (Gilead, #1)",
                                    "1": "Marilynne Robinson",
                                    "2": "3.84",
                                    "3": "11644"
                                },
                                {
                                    "0": "On Photography",
                                    "1": "Susan Sontag",
                                    "2": "3.84",
                                    "3": "11644"
                                },
                                {
                                    "0": "Welcome to the World, Baby Girl! (Elmwood Springs, #1)",
                                    "1": "Fannie Flagg",
                                    "2": "3.84",
                                    "3": "11644"
                                },
                                {
                                    "0": "Mansfield Park",
                                    "1": "Jane Austen, Kathryn Sutherland, Tony Tanner, Claire Lamont",
                                    "2": "3.84",
                                    "3": "11644"
                                },
                                {
                                    "0": "O Pioneers!",
                                    "1": "Willa Cather",
                                    "2": "3.84",
                                    "3": "11644"
                                },
                                {
                                    "0": "1,000 Places to See Before You Die",
                                    "1": "Patricia Schultz",
                                    "2": "3.83",
                                    "3": "11644"
                                },
                                {
                                    "0": "You'll Grow Out of It",
                                    "1": "Jessi Klein",
                                    "2": "3.83",
                                    "3": "11644"
                                },
                                {
                                    "0": "Kitchen",
                                    "1": "Banana Yoshimoto, Megan Backus",
                                    "2": "3.83",
                                    "3": "11644"
                                },
                                {
                                    "0": "Five Quarters of the Orange",
                                    "1": "Joanne Harris",
                                    "2": "3.83",
                                    "3": "11644"
                                },
                                {
                                    "0": "Bonk: The Curious Coupling of Science and Sex",
                                    "1": "Mary Roach",
                                    "2": "3.83",
                                    "3": "11644"
                                },
                                {
                                    "0": "Unbearable Lightness: A Story of Loss and Gain",
                                    "1": "Portia de Rossi",
                                    "2": "3.83",
                                    "3": "11644"
                                },
                                {
                                    "0": "Uncle Tom's Cabin",
                                    "1": "Harriet Beecher Stowe",
                                    "2": "3.83",
                                    "3": "11644"
                                },
                                {
                                    "0": "Sexing the Cherry",
                                    "1": "Jeanette Winterson",
                                    "2": "3.83",
                                    "3": "11644"
                                },
                                {
                                    "0": "The Shipping News",
                                    "1": "Annie Proulx",
                                    "2": "3.83",
                                    "3": "11644"
                                },
                                {
                                    "0": "Suite Française",
                                    "1": "Irène Némirovsky, Sandra Smith",
                                    "2": "3.82",
                                    "3": "11644"
                                },
                                {
                                    "0": "Embroideries",
                                    "1": "Marjane Satrapi, Anjali Singh",
                                    "2": "3.82",
                                    "3": "11644"
                                },
                                {
                                    "0": "Life and Other Near-Death Experiences",
                                    "1": "Camille Pagán",
                                    "2": "3.82",
                                    "3": "11644"
                                },
                                {
                                    "0": "Z: A Novel of Zelda Fitzgerald",
                                    "1": "Therese Anne Fowler",
                                    "2": "3.82",
                                    "3": "11644"
                                },
                                {
                                    "0": "The Lowland",
                                    "1": "Jhumpa Lahiri",
                                    "2": "3.82",
                                    "3": "11644"
                                },
                                {
                                    "0": "The Opposite of Loneliness: Essays and Stories",
                                    "1": "Marina Keegan",
                                    "2": "3.82",
                                    "3": "11644"
                                },
                                {
                                    "0": "Dinner at the Homesick Restaurant",
                                    "1": "Anne Tyler",
                                    "2": "3.82",
                                    "3": "11644"
                                },
                                {
                                    "0": "Too Much Happiness",
                                    "1": "Alice Munro",
                                    "2": "3.82",
                                    "3": "11644"
                                },
                                {
                                    "0": "Housekeeping",
                                    "1": "Marilynne Robinson",
                                    "2": "3.82",
                                    "3": "11644"
                                },
                                {
                                    "0": "Cat Among the Pigeons (Hercule Poirot, #32)",
                                    "1": "Agatha Christie",
                                    "2": "3.82",
                                    "3": "11644"
                                },
                                {
                                    "0": "The Robber Bride",
                                    "1": "Margaret Atwood",
                                    "2": "3.82",
                                    "3": "11644"
                                },
                                {
                                    "0": "Daniel Deronda",
                                    "1": "George Eliot, Edmund White",
                                    "2": "3.82",
                                    "3": "11644"
                                },
                                {
                                    "0": "Strangers on a Train",
                                    "1": "Patricia Highsmith",
                                    "2": "3.82",
                                    "3": "11644"
                                },
                                {
                                    "0": "Spark Joy: An Illustrated Master Class on the Art of Organizing and Tidying Up",
                                    "1": "Marie Kondō",
                                    "2": "3.82",
                                    "3": "11644"
                                },
                                {
                                    "0": "Wuthering Heights",
                                    "1": "Emily Brontë, Richard J. Dunn",
                                    "2": "3.82",
                                    "3": "11644"
                                },
                                {
                                    "0": "No One Belongs Here More Than You",
                                    "1": "Miranda July",
                                    "2": "3.81",
                                    "3": "11644"
                                },
                                {
                                    "0": "Seeds of Yesterday (Dollanganger, #4)",
                                    "1": "V.C. Andrews",
                                    "2": "3.81",
                                    "3": "11644"
                                },
                                {
                                    "0": "Death at La Fenice (Commissario Brunetti, #1)",
                                    "1": "Donna Leon",
                                    "2": "3.81",
                                    "3": "11644"
                                },
                                {
                                    "0": "The Signature of All Things",
                                    "1": "Elizabeth Gilbert",
                                    "2": "3.81",
                                    "3": "11644"
                                },
                                {
                                    "0": "Remarkable Creatures ",
                                    "1": "Tracy Chevalier",
                                    "2": "3.81",
                                    "3": "11644"
                                },
                                {
                                    "0": "Yes Please",
                                    "1": "Amy Poehler",
                                    "2": "3.81",
                                    "3": "11644"
                                },
                                {
                                    "0": "The Rapture of Canaan",
                                    "1": "Sheri Reynolds",
                                    "2": "3.8",
                                    "3": "11644"
                                },
                                {
                                    "0": "Jonathan Strange & Mr Norrell",
                                    "1": "Susanna Clarke",
                                    "2": "3.8",
                                    "3": "11644"
                                },
                                {
                                    "0": "Is It Just Me?",
                                    "1": "Miranda Hart",
                                    "2": "3.8",
                                    "3": "11644"
                                },
                                {
                                    "0": "Passing",
                                    "1": "Nella Larsen, Ntozake Shange, Thadious M. Davis",
                                    "2": "3.8",
                                    "3": "11644"
                                },
                                {
                                    "0": "The Japanese Lover",
                                    "1": "Isabel Allende, Nick Caistor, Amanda Hopkinson",
                                    "2": "3.8",
                                    "3": "11644"
                                },
                                {
                                    "0": "The Murder on the Links (Hercule Poirot, #2)",
                                    "1": "Agatha Christie",
                                    "2": "3.8",
                                    "3": "11644"
                                },
                                {
                                    "0": "The Hundred Thousand Kingdoms (Inheritance Trilogy, #1)",
                                    "1": "N.K. Jemisin",
                                    "2": "3.8",
                                    "3": "11644"
                                },
                                {
                                    "0": "Northanger Abbey",
                                    "1": "Jane Austen, Alfred MacAdam",
                                    "2": "3.8",
                                    "3": "11644"
                                },
                                {
                                    "0": "Salem Falls",
                                    "1": "Jodi Picoult",
                                    "2": "3.8",
                                    "3": "11644"
                                },
                                {
                                    "0": "Spindle's End",
                                    "1": "Robin McKinley",
                                    "2": "3.79",
                                    "3": "11644"
                                },
                                {
                                    "0": "Watermelon (Walsh Family, #1)",
                                    "1": "Marian Keyes",
                                    "2": "3.79",
                                    "3": "11644"
                                },
                                {
                                    "0": "The Bastard of Istanbul",
                                    "1": "Elif Shafak",
                                    "2": "3.79",
                                    "3": "11644"
                                },
                                {
                                    "0": "The End of Mr. Y",
                                    "1": "Scarlett Thomas",
                                    "2": "3.79",
                                    "3": "11644"
                                },
                                {
                                    "0": "The Birth of Venus",
                                    "1": "Sarah Dunant",
                                    "2": "3.79",
                                    "3": "11644"
                                },
                                {
                                    "0": "One Good Turn (Jackson Brodie, #2)",
                                    "1": "Kate Atkinson",
                                    "2": "3.79",
                                    "3": "11644"
                                },
                                {
                                    "0": "Jazz",
                                    "1": "Toni Morrison",
                                    "2": "3.78",
                                    "3": "11644"
                                },
                                {
                                    "0": "A Map of the World",
                                    "1": "Jane Hamilton, Frank  Muller, C.J. Critt",
                                    "2": "3.78",
                                    "3": "11644"
                                },
                                {
                                    "0": "Blubber",
                                    "1": "Judy Blume",
                                    "2": "3.78",
                                    "3": "11644"
                                },
                                {
                                    "0": "Death in the Clouds (Hercule Poirot, #12)",
                                    "1": "Agatha Christie",
                                    "2": "3.78",
                                    "3": "11644"
                                },
                                {
                                    "0": "Last Chance Saloon",
                                    "1": "Marian Keyes",
                                    "2": "3.78",
                                    "3": "11644"
                                },
                                {
                                    "0": "Mrs. Dalloway",
                                    "1": "Virginia Woolf, Maureen Howard",
                                    "2": "3.78",
                                    "3": "11644"
                                },
                                {
                                    "0": "Everything I Never Told You",
                                    "1": "Celeste Ng",
                                    "2": "3.78",
                                    "3": "11644"
                                },
                                {
                                    "0": "Annabel (Delirium, #0.5)",
                                    "1": "Lauren Oliver",
                                    "2": "3.78",
                                    "3": "11644"
                                },
                                {
                                    "0": "Rumble Fish",
                                    "1": "S.E. Hinton",
                                    "2": "3.77",
                                    "3": "11644"
                                },
                                {
                                    "0": "The Other Side of the Story",
                                    "1": "Marian Keyes",
                                    "2": "3.77",
                                    "3": "11644"
                                },
                                {
                                    "0": "The Mill on the Floss",
                                    "1": "George Eliot, A.S. Byatt",
                                    "2": "3.77",
                                    "3": "11644"
                                },
                                {
                                    "0": "My Story",
                                    "1": "Elizabeth  Smart, Chris Stewart",
                                    "2": "3.77",
                                    "3": "11644"
                                },
                                {
                                    "0": "Lucky",
                                    "1": "Alice Sebold",
                                    "2": "3.77",
                                    "3": "11644"
                                },
                                {
                                    "0": "The Life-Changing Magic of Tidying Up: The Japanese Art of Decluttering and Organizing",
                                    "1": "Marie Kondō, Cathy Hirano",
                                    "2": "3.77",
                                    "3": "11644"
                                },
                                {
                                    "0": "Go Ask Alice",
                                    "1": "Beatrice Sparks, Anonymous",
                                    "2": "3.77",
                                    "3": "11644"
                                },
                                {
                                    "0": "Paradise",
                                    "1": "Toni Morrison",
                                    "2": "3.77",
                                    "3": "11644"
                                },
                                {
                                    "0": "Beloved",
                                    "1": "Toni Morrison",
                                    "2": "3.77",
                                    "3": "11644"
                                },
                                {
                                    "0": "Adam Bede",
                                    "1": "George Eliot, Joanna Trollope, Hugh Osborne",
                                    "2": "3.77",
                                    "3": "11644"
                                },
                                {
                                    "0": "The Mystery of the Blue Train (Hercule Poirot, #6)",
                                    "1": "Agatha Christie",
                                    "2": "3.77",
                                    "3": "11644"
                                },
                                {
                                    "0": "The Lovely Bones",
                                    "1": "Alice Sebold",
                                    "2": "3.77",
                                    "3": "11644"
                                },
                                {
                                    "0": "My Ántonia",
                                    "1": "Willa Cather",
                                    "2": "3.76",
                                    "3": "11644"
                                },
                                {
                                    "0": "To the Lighthouse",
                                    "1": "Virginia Woolf",
                                    "2": "3.76",
                                    "3": "11644"
                                },
                                {
                                    "0": "Under the Net",
                                    "1": "Iris Murdoch",
                                    "2": "3.76",
                                    "3": "11644"
                                },
                                {
                                    "0": "The Lover",
                                    "1": "Marguerite Duras, Barbara Bray, Maxine Hong Kingston",
                                    "2": "3.76",
                                    "3": "11644"
                                },
                                {
                                    "0": "The Prime of Miss Jean Brodie",
                                    "1": "Muriel Spark",
                                    "2": "3.76",
                                    "3": "11644"
                                },
                                {
                                    "0": "Please Look After Mom",
                                    "1": "Kyung-Sook Shin, 신경숙, Chi-Young Kim",
                                    "2": "3.76",
                                    "3": "11644"
                                },
                                {
                                    "0": "Blue Nights",
                                    "1": "Joan Didion",
                                    "2": "3.75",
                                    "3": "11644"
                                },
                                {
                                    "0": "Oranges Are Not the Only Fruit",
                                    "1": "Jeanette Winterson",
                                    "2": "3.75",
                                    "3": "11644"
                                },
                                {
                                    "0": "Zorro",
                                    "1": "Isabel Allende, Margaret Sayers Peden",
                                    "2": "3.75",
                                    "3": "11644"
                                },
                                {
                                    "0": "The Bloodletter's Daughter: A Novel of Old Bohemia",
                                    "1": "Linda Lafferty",
                                    "2": "3.75",
                                    "3": "11644"
                                },
                                {
                                    "0": "Living History",
                                    "1": "Hillary Rodham Clinton",
                                    "2": "3.75",
                                    "3": "11644"
                                },
                                {
                                    "0": "White Teeth",
                                    "1": "Zadie Smith",
                                    "2": "3.75",
                                    "3": "11644"
                                },
                                {
                                    "0": "Villette",
                                    "1": "Charlotte Brontë, A.S. Byatt, Μαρία Λαϊνά, Ignes Sodre",
                                    "2": "3.75",
                                    "3": "11644"
                                },
                                {
                                    "0": "Frankenstein",
                                    "1": "Mary Wollstonecraft Shelley, Percy Bysshe Shelley, Maurice Hindle",
                                    "2": "3.75",
                                    "3": "11644"
                                },
                                {
                                    "0": "The Golden Notebook",
                                    "1": "Doris Lessing",
                                    "2": "3.75",
                                    "3": "11644"
                                },
                                {
                                    "0": "Bridget Jones's Diary (Bridget Jones, #1)",
                                    "1": "Helen Fielding",
                                    "2": "3.75",
                                    "3": "11644"
                                },
                                {
                                    "0": "This Charming Man",
                                    "1": "Marian Keyes",
                                    "2": "3.75",
                                    "3": "11644"
                                },
                                {
                                    "0": "The Sisterhood of the Traveling Pants (Sisterhood, #1)",
                                    "1": "Ann Brashares",
                                    "2": "3.75",
                                    "3": "11644"
                                },
                                {
                                    "0": "Dear Life: Stories",
                                    "1": "Alice Munro",
                                    "2": "3.75",
                                    "3": "11644"
                                },
                                {
                                    "0": "H is for Hawk",
                                    "1": "Helen Macdonald",
                                    "2": "3.74",
                                    "3": "11644"
                                },
                                {
                                    "0": "One, Two, Buckle My Shoe (Hercule Poirot, #22)",
                                    "1": "Agatha Christie, Hugh Fraser",
                                    "2": "3.74",
                                    "3": "11644"
                                },
                                {
                                    "0": "In the Woods (Dublin Murder Squad, #1)",
                                    "1": "Tana French",
                                    "2": "3.74",
                                    "3": "11644"
                                },
                                {
                                    "0": "They Do It with Mirrors (Miss Marple, #6)",
                                    "1": "Agatha Christie",
                                    "2": "3.74",
                                    "3": "11644"
                                },
                                {
                                    "0": "Lies That Chelsea Handler Told Me",
                                    "1": "Chelsea Handler, Johnny Kansas, Stephanie Stehling, Heather McDonald, Roy Handler, Brad Wollack, Amber Mazzola, Josh Wolf, Shoshanna Handler, Eva Magdalenski, Amy Meyer, Glen Handler, Dave Mallow, Sarah Colonna",
                                    "2": "3.74",
                                    "3": "11644"
                                },
                                {
                                    "0": "The Illustrated Mum",
                                    "1": "Jacqueline Wilson, Nick Sharratt",
                                    "2": "3.74",
                                    "3": "11644"
                                },
                                {
                                    "0": "Affinity",
                                    "1": "Sarah Waters",
                                    "2": "3.73",
                                    "3": "11644"
                                },
                                {
                                    "0": " Angels (Walsh Family, #3)",
                                    "1": "Marian Keyes",
                                    "2": "3.73",
                                    "3": "11644"
                                },
                                {
                                    "0": "How to Be a Woman",
                                    "1": "Caitlin Moran",
                                    "2": "3.73",
                                    "3": "11644"
                                },
                                {
                                    "0": "Ceremony",
                                    "1": "Leslie Marmon Silko",
                                    "2": "3.73",
                                    "3": "11644"
                                },
                                {
                                    "0": "Nick & Norah's Infinite Playlist",
                                    "1": "Rachel Cohn, David Levithan",
                                    "2": "3.73",
                                    "3": "11644"
                                },
                                {
                                    "0": "Lady Audley's Secret",
                                    "1": "Mary Elizabeth Braddon",
                                    "2": "3.73",
                                    "3": "11644"
                                },
                                {
                                    "0": "Memnoch the Devil (The Vampire Chronicles, #5)",
                                    "1": "Anne Rice",
                                    "2": "3.73",
                                    "3": "11644"
                                },
                                {
                                    "0": "Sickened: The Memoir of a Munchausen by Proxy Childhood",
                                    "1": "Julie Gregory",
                                    "2": "3.72",
                                    "3": "11644"
                                },
                                {
                                    "0": "Dept. of Speculation",
                                    "1": "Jenny Offill",
                                    "2": "3.72",
                                    "3": "11644"
                                },
                                {
                                    "0": "A Raisin in the Sun",
                                    "1": "Lorraine Hansberry",
                                    "2": "3.72",
                                    "3": "11644"
                                },
                                {
                                    "0": "Seriously... I'm Kidding",
                                    "1": "Ellen DeGeneres",
                                    "2": "3.72",
                                    "3": "11644"
                                },
                                {
                                    "0": "Stupeur et tremblements",
                                    "1": "Amélie Nothomb",
                                    "2": "3.72",
                                    "3": "11644"
                                },
                                {
                                    "0": "The Woman Warrior",
                                    "1": "Maxine Hong Kingston",
                                    "2": "3.72",
                                    "3": "11644"
                                },
                                {
                                    "0": "We Are All Completely Beside Ourselves",
                                    "1": "Karen Joy Fowler",
                                    "2": "3.71",
                                    "3": "11644"
                                },
                                {
                                    "0": "Wishful Drinking",
                                    "1": "Carrie Fisher",
                                    "2": "3.71",
                                    "3": "11644"
                                },
                                {
                                    "0": "Shirley",
                                    "1": "Charlotte Brontë, Lucasta Miller, collaborative, Jessica Cox",
                                    "2": "3.71",
                                    "3": "11644"
                                },
                                {
                                    "0": "We Need New Names",
                                    "1": "NoViolet Bulawayo",
                                    "2": "3.71",
                                    "3": "11644"
                                },
                                {
                                    "0": "The Clocks (Hercule Poirot, #34)",
                                    "1": "Agatha Christie, Robin Bailey",
                                    "2": "3.71",
                                    "3": "11644"
                                },
                                {
                                    "0": "Home",
                                    "1": "Toni Morrison",
                                    "2": "3.71",
                                    "3": "11644"
                                },
                                {
                                    "0": "The Luminaries",
                                    "1": "Eleanor Catton",
                                    "2": "3.7",
                                    "3": "11644"
                                },
                                {
                                    "0": "God Help the Child",
                                    "1": "Toni Morrison",
                                    "2": "3.7",
                                    "3": "11644"
                                },
                                {
                                    "0": "Mary Barton",
                                    "1": "Elizabeth Gaskell, Shirley Foster",
                                    "2": "3.7",
                                    "3": "11644"
                                },
                                {
                                    "0": "We Were the Mulvaneys",
                                    "1": "Joyce Carol Oates",
                                    "2": "3.7",
                                    "3": "11644"
                                },
                                {
                                    "0": "At Bertram's Hotel (Miss Marple, #11)",
                                    "1": "Agatha Christie",
                                    "2": "3.7",
                                    "3": "11644"
                                },
                                {
                                    "0": "The Tale of the Body Thief (The Vampire Chronicles, #4)",
                                    "1": "Anne Rice",
                                    "2": "3.7",
                                    "3": "11644"
                                },
                                {
                                    "0": "Elizabeth Is Missing",
                                    "1": "Emma Healey",
                                    "2": "3.7",
                                    "3": "11644"
                                },
                                {
                                    "0": "Special Topics in Calamity Physics",
                                    "1": "Marisha Pessl",
                                    "2": "3.7",
                                    "3": "11644"
                                },
                                {
                                    "0": "Wave",
                                    "1": "Sonali Deraniyagala",
                                    "2": "3.7",
                                    "3": "11644"
                                },
                                {
                                    "0": "When the Emperor Was Divine",
                                    "1": "Julie Otsuka",
                                    "2": "3.7",
                                    "3": "11644"
                                },
                                {
                                    "0": "Valley of the Dolls",
                                    "1": "Jacqueline Susann",
                                    "2": "3.7",
                                    "3": "11644"
                                },
                                {
                                    "0": "What Looks Like Crazy on an Ordinary Day (Idlewild, #1)",
                                    "1": "Pearl Cleage",
                                    "2": "3.7",
                                    "3": "11644"
                                },
                                {
                                    "0": "Orange Is the New Black",
                                    "1": "Piper Kerman",
                                    "2": "3.7",
                                    "3": "11644"
                                },
                                {
                                    "0": "The Story of Tracy Beaker",
                                    "1": "Jacqueline Wilson, Nick Sharratt",
                                    "2": "3.69",
                                    "3": "11644"
                                },
                                {
                                    "0": "Sushi for Beginners",
                                    "1": "Marian Keyes",
                                    "2": "3.69",
                                    "3": "11644"
                                },
                                {
                                    "0": "What Was She Thinking? [Notes on a Scandal]",
                                    "1": "Zoë Heller",
                                    "2": "3.69",
                                    "3": "11644"
                                },
                                {
                                    "0": "How to Build a Girl",
                                    "1": "Caitlin Moran",
                                    "2": "3.69",
                                    "3": "11644"
                                },
                                {
                                    "0": "The Children of Men",
                                    "1": "P.D. James",
                                    "2": "3.69",
                                    "3": "11644"
                                },
                                {
                                    "0": "Thanks for the Memories",
                                    "1": "Cecelia Ahern",
                                    "2": "3.69",
                                    "3": "11644"
                                },
                                {
                                    "0": "Double Act",
                                    "1": "Jacqueline Wilson, Nick Sharratt, Sue Heap",
                                    "2": "3.69",
                                    "3": "11644"
                                },
                                {
                                    "0": "Delta of Venus",
                                    "1": "Anaïs Nin",
                                    "2": "3.69",
                                    "3": "11644"
                                },
                                {
                                    "0": "Slammerkin",
                                    "1": "Emma Donoghue",
                                    "2": "3.69",
                                    "3": "11644"
                                },
                                {
                                    "0": "Legally Blonde",
                                    "1": "Amanda Brown",
                                    "2": "3.68",
                                    "3": "11644"
                                },
                                {
                                    "0": "The Woman in Black",
                                    "1": "Susan Hill, John Lawrence",
                                    "2": "3.68",
                                    "3": "11644"
                                },
                                {
                                    "0": "Rachael Ray 365: No Repeats: A Year of Deliciously Different Dinners",
                                    "1": "Rachael Ray",
                                    "2": "3.68",
                                    "3": "11644"
                                },
                                {
                                    "0": "On Beauty",
                                    "1": "Zadie Smith",
                                    "2": "3.68",
                                    "3": "11644"
                                },
                                {
                                    "0": "Open House",
                                    "1": "Elizabeth Berg",
                                    "2": "3.68",
                                    "3": "11644"
                                },
                                {
                                    "0": "Icy Sparks",
                                    "1": "Gwyn Hyman Rubio",
                                    "2": "3.68",
                                    "3": "11644"
                                },
                                {
                                    "0": "Mother of Pearl",
                                    "1": "Melinda Haynes",
                                    "2": "3.67",
                                    "3": "11644"
                                },
                                {
                                    "0": "When God Was a Rabbit",
                                    "1": "Sarah Winman",
                                    "2": "3.67",
                                    "3": "11644"
                                },
                                {
                                    "0": "Vampires in the Lemon Grove",
                                    "1": "Karen Russell",
                                    "2": "3.67",
                                    "3": "11644"
                                },
                                {
                                    "0": "The Lady and the Unicorn",
                                    "1": "Tracy Chevalier",
                                    "2": "3.67",
                                    "3": "11644"
                                },
                                {
                                    "0": "This One Summer",
                                    "1": "Mariko Tamaki, Jillian Tamaki",
                                    "2": "3.67",
                                    "3": "11644"
                                },
                                {
                                    "0": "The Night Sister",
                                    "1": "Jennifer McMahon",
                                    "2": "3.67",
                                    "3": "11644"
                                },
                                {
                                    "0": "The Bees",
                                    "1": "Laline Paull",
                                    "2": "3.67",
                                    "3": "11644"
                                },
                                {
                                    "0": "The Edible Woman",
                                    "1": "Margaret Atwood",
                                    "2": "3.67",
                                    "3": "11644"
                                },
                                {
                                    "0": "Hallowe'en Party (Hercule Poirot, #36)",
                                    "1": "Agatha Christie",
                                    "2": "3.66",
                                    "3": "11644"
                                },
                                {
                                    "0": "The Princess Diarist",
                                    "1": "Carrie Fisher",
                                    "2": "3.66",
                                    "3": "11644"
                                },
                                {
                                    "0": "The Penelopiad",
                                    "1": "Margaret Atwood",
                                    "2": "3.66",
                                    "3": "11644"
                                },
                                {
                                    "0": "The Book of Tomorrow",
                                    "1": "Cecelia Ahern",
                                    "2": "3.66",
                                    "3": "11644"
                                },
                                {
                                    "0": "Are You My Mother?",
                                    "1": "Alison Bechdel",
                                    "2": "3.66",
                                    "3": "11644"
                                },
                                {
                                    "0": "A Place Called Here",
                                    "1": "Cecelia Ahern",
                                    "2": "3.66",
                                    "3": "11644"
                                },
                                {
                                    "0": "Wonderful Tonight",
                                    "1": "Pattie Boyd, Penny Junor",
                                    "2": "3.65",
                                    "3": "11644"
                                },
                                {
                                    "0": "Agnes Grey",
                                    "1": "Anne Brontë, Angeline Goreau",
                                    "2": "3.65",
                                    "3": "11644"
                                },
                                {
                                    "0": "I Feel Bad about My Neck: And Other Thoughts on Being a Woman",
                                    "1": "Nora Ephron",
                                    "2": "3.65",
                                    "3": "11644"
                                },
                                {
                                    "0": "The Virgin Blue",
                                    "1": "Tracy Chevalier",
                                    "2": "3.65",
                                    "3": "11644"
                                },
                                {
                                    "0": "The Wonder",
                                    "1": "Emma Donoghue",
                                    "2": "3.65",
                                    "3": "11644"
                                },
                                {
                                    "0": "A Mercy",
                                    "1": "Toni Morrison",
                                    "2": "3.65",
                                    "3": "11644"
                                },
                                {
                                    "0": "Cinderella Ate My Daughter: Dispatches from the Frontlines of the New Girlie-Girl Culture",
                                    "1": "Peggy Orenstein",
                                    "2": "3.65",
                                    "3": "11644"
                                },
                                {
                                    "0": "The Memory Keeper's Daughter",
                                    "1": "Kim Edwards",
                                    "2": "3.64",
                                    "3": "11644"
                                },
                                {
                                    "0": "A Visit from the Goon Squad",
                                    "1": "Jennifer Egan",
                                    "2": "3.64",
                                    "3": "11644"
                                },
                                {
                                    "0": "The Turner House",
                                    "1": "Angela Flournoy",
                                    "2": "3.64",
                                    "3": "11644"
                                },
                                {
                                    "0": "The Age of Miracles",
                                    "1": "Karen Thompson Walker",
                                    "2": "3.64",
                                    "3": "11644"
                                },
                                {
                                    "0": "A Complicated Kindness",
                                    "1": "Miriam Toews",
                                    "2": "3.64",
                                    "3": "11644"
                                },
                                {
                                    "0": "Kabul Beauty School: An American Woman Goes Behind the Veil",
                                    "1": "Deborah Rodriguez",
                                    "2": "3.63",
                                    "3": "11644"
                                },
                                {
                                    "0": "Half Blood Blues",
                                    "1": "Esi Edugyan",
                                    "2": "3.63",
                                    "3": "11644"
                                },
                                {
                                    "0": "The Awakening",
                                    "1": "Kate Chopin",
                                    "2": "3.63",
                                    "3": "11644"
                                },
                                {
                                    "0": "Uganda Be Kidding Me",
                                    "1": "Chelsea Handler",
                                    "2": "3.63",
                                    "3": "11644"
                                },
                                {
                                    "0": "The Weight of Water",
                                    "1": "Anita Shreve",
                                    "2": "3.62",
                                    "3": "11644"
                                },
                                {
                                    "0": "How the García Girls Lost Their Accents ",
                                    "1": "Julia Alvarez",
                                    "2": "3.62",
                                    "3": "11644"
                                },
                                {
                                    "0": "The Empathy Exams: Essays",
                                    "1": "Leslie Jamison",
                                    "2": "3.62",
                                    "3": "11644"
                                },
                                {
                                    "0": "Anthem",
                                    "1": "Ayn Rand",
                                    "2": "3.62",
                                    "3": "11644"
                                },
                                {
                                    "0": "Bonjour tristesse",
                                    "1": "Françoise Sagan",
                                    "2": "3.62",
                                    "3": "11644"
                                },
                                {
                                    "0": "The Beach House",
                                    "1": "Jane Green",
                                    "2": "3.62",
                                    "3": "11644"
                                },
                                {
                                    "0": "Elephants Can Remember (Hercule Poirot, #37)",
                                    "1": "Agatha Christie",
                                    "2": "3.62",
                                    "3": "11644"
                                },
                                {
                                    "0": "How to Be Both",
                                    "1": "Ali Smith",
                                    "2": "3.61",
                                    "3": "11644"
                                },
                                {
                                    "0": "Battle Hymn of the Tiger Mother",
                                    "1": "Amy Chua",
                                    "2": "3.61",
                                    "3": "11644"
                                },
                                {
                                    "0": "Swing Time",
                                    "1": "Zadie Smith",
                                    "2": "3.6",
                                    "3": "11644"
                                },
                                {
                                    "0": "Unfamiliar Fishes",
                                    "1": "Sarah Vowell",
                                    "2": "3.6",
                                    "3": "11644"
                                },
                                {
                                    "0": "Nickel and Dimed: On (Not) Getting By in America",
                                    "1": "Barbara Ehrenreich",
                                    "2": "3.6",
                                    "3": "11644"
                                },
                                {
                                    "0": "The Big Four (Hercule Poirot, #5)",
                                    "1": "Agatha Christie",
                                    "2": "3.6",
                                    "3": "11644"
                                },
                                {
                                    "0": "Silas Marner",
                                    "1": "George Eliot",
                                    "2": "3.6",
                                    "3": "11644"
                                },
                                {
                                    "0": "The Vegetarian",
                                    "1": "Han Kang, Deborah     Smith",
                                    "2": "3.59",
                                    "3": "11644"
                                },
                                {
                                    "0": "The Buddha in the Attic",
                                    "1": "Julie Otsuka",
                                    "2": "3.59",
                                    "3": "11644"
                                },
                                {
                                    "0": "Broken Monsters",
                                    "1": "Lauren Beukes",
                                    "2": "3.59",
                                    "3": "11644"
                                },
                                {
                                    "0": "The Monsters of Templeton",
                                    "1": "Lauren Groff",
                                    "2": "3.58",
                                    "3": "11644"
                                },
                                {
                                    "0": "The Miniaturist",
                                    "1": "Jessie Burton",
                                    "2": "3.58",
                                    "3": "11644"
                                },
                                {
                                    "0": "The First Bad Man",
                                    "1": "Miranda July",
                                    "2": "3.58",
                                    "3": "11644"
                                },
                                {
                                    "0": "Girl in a Band",
                                    "1": "Kim Gordon",
                                    "2": "3.58",
                                    "3": "11644"
                                },
                                {
                                    "0": "The Versions of Us",
                                    "1": "Laura  Barnett",
                                    "2": "3.57",
                                    "3": "11644"
                                },
                                {
                                    "0": "Spook: Science Tackles the Afterlife",
                                    "1": "Mary Roach",
                                    "2": "3.57",
                                    "3": "11644"
                                },
                                {
                                    "0": "Heartburn",
                                    "1": "Nora Ephron",
                                    "2": "3.57",
                                    "3": "11644"
                                },
                                {
                                    "0": "Girl Walks into a Bar . . .: Comedy Calamities, Dating Disasters, and a Midlife Miracle",
                                    "1": "Rachel Dratch",
                                    "2": "3.57",
                                    "3": "11644"
                                },
                                {
                                    "0": "The House on Mango Street",
                                    "1": "Sandra Cisneros",
                                    "2": "3.57",
                                    "3": "11644"
                                },
                                {
                                    "0": "Hard Choices",
                                    "1": "Hillary Rodham Clinton",
                                    "2": "3.57",
                                    "3": "11644"
                                },
                                {
                                    "0": "Prozac Nation",
                                    "1": "Elizabeth Wurtzel",
                                    "2": "3.57",
                                    "3": "11644"
                                },
                                {
                                    "0": "Reading Lolita in Tehran",
                                    "1": "Azar Nafisi",
                                    "2": "3.57",
                                    "3": "11644"
                                },
                                {
                                    "0": "The Professor",
                                    "1": "Charlotte Brontë",
                                    "2": "3.56",
                                    "3": "11644"
                                },
                                {
                                    "0": "Fates and Furies",
                                    "1": "Lauren Groff",
                                    "2": "3.56",
                                    "3": "11644"
                                },
                                {
                                    "0": "Wide Sargasso Sea",
                                    "1": "Jean Rhys",
                                    "2": "3.56",
                                    "3": "11644"
                                },
                                {
                                    "0": "Lady Susan",
                                    "1": "Jane Austen, Robert William Chapman",
                                    "2": "3.56",
                                    "3": "11644"
                                },
                                {
                                    "0": "The Other Typist",
                                    "1": "Suzanne Rindell",
                                    "2": "3.55",
                                    "3": "11644"
                                },
                                {
                                    "0": "Falling Angels",
                                    "1": "Tracy Chevalier",
                                    "2": "3.55",
                                    "3": "11644"
                                },
                                {
                                    "0": "Candy Girl: A Year in the Life of an Unlikely Stripper",
                                    "1": "Diablo Cody",
                                    "2": "3.54",
                                    "3": "11644"
                                },
                                {
                                    "0": "The Interestings",
                                    "1": "Meg Wolitzer",
                                    "2": "3.54",
                                    "3": "11644"
                                },
                                {
                                    "0": "The Grownup",
                                    "1": "Gillian Flynn",
                                    "2": "3.54",
                                    "3": "11644"
                                },
                                {
                                    "0": "Bridget Jones: The Edge of Reason (Bridget Jones, #2)",
                                    "1": "Helen Fielding",
                                    "2": "3.53",
                                    "3": "11644"
                                },
                                {
                                    "0": "The Girl in the Red Coat",
                                    "1": "Kate Hamer",
                                    "2": "3.53",
                                    "3": "11644"
                                },
                                {
                                    "0": "Girls in Love (Girls, #1)",
                                    "1": "Jacqueline Wilson",
                                    "2": "3.53",
                                    "3": "11644"
                                },
                                {
                                    "0": "The Post-Birthday World",
                                    "1": "Lionel Shriver",
                                    "2": "3.52",
                                    "3": "11644"
                                },
                                {
                                    "0": "Holy Cow: An Indian Adventure",
                                    "1": "Sarah Macdonald",
                                    "2": "3.51",
                                    "3": "11644"
                                },
                                {
                                    "0": "The Girls",
                                    "1": "Emma Cline",
                                    "2": "3.49",
                                    "3": "11644"
                                },
                                {
                                    "0": "The Shining Girls",
                                    "1": "Lauren Beukes",
                                    "2": "3.49",
                                    "3": "11644"
                                },
                                {
                                    "0": "Happier at Home: Kiss More, Jump More, Abandon a Project, Read Samuel Johnson, and My Other Experiments in the Practice of Everyday Life",
                                    "1": "Gretchen Rubin, Käthe Mazur",
                                    "2": "3.48",
                                    "3": "11644"
                                },
                                {
                                    "0": "The Last Time They Met",
                                    "1": "Anita Shreve",
                                    "2": "3.48",
                                    "3": "11644"
                                },
                                {
                                    "0": "Paint it Black",
                                    "1": "Janet Fitch",
                                    "2": "3.47",
                                    "3": "11644"
                                },
                                {
                                    "0": "The Flamethrowers",
                                    "1": "Rachel Kushner",
                                    "2": "3.46",
                                    "3": "11644"
                                },
                                {
                                    "0": "The Dirty Girls Social Club (Dirty Girls, #1)",
                                    "1": "Alisa Valdes, Alisa Valdes-Rodriguez",
                                    "2": "3.46",
                                    "3": "11644"
                                },
                                {
                                    "0": "I Was Told There'd Be Cake",
                                    "1": "Sloane Crosley",
                                    "2": "3.45",
                                    "3": "11644"
                                },
                                {
                                    "0": "Surfacing",
                                    "1": "Margaret Atwood",
                                    "2": "3.45",
                                    "3": "11644"
                                },
                                {
                                    "0": "Great House",
                                    "1": "Nicole Krauss",
                                    "2": "3.45",
                                    "3": "11644"
                                },
                                {
                                    "0": "Scarlett",
                                    "1": "Alexandra Ripley",
                                    "2": "3.44",
                                    "3": "11644"
                                },
                                {
                                    "0": "Fear of Flying",
                                    "1": "Erica Jong",
                                    "2": "3.44",
                                    "3": "11644"
                                },
                                {
                                    "0": "The Keep",
                                    "1": "Jennifer Egan",
                                    "2": "3.43",
                                    "3": "11644"
                                },
                                {
                                    "0": "The Suspicions of Mr. Whicher: A Shocking Murder and the Undoing of a Great Victorian Detective",
                                    "1": "Kate Summerscale",
                                    "2": "3.43",
                                    "3": "11644"
                                },
                                {
                                    "0": "The Little Friend",
                                    "1": "Donna Tartt",
                                    "2": "3.43",
                                    "3": "11644"
                                },
                                {
                                    "0": "Vinegar Girl",
                                    "1": "Anne Tyler",
                                    "2": "3.42",
                                    "3": "11644"
                                },
                                {
                                    "0": "The Friday Night Knitting Club (Friday Night Knitting Club, #1)",
                                    "1": "Kate Jacobs",
                                    "2": "3.41",
                                    "3": "11644"
                                },
                                {
                                    "0": "Saving Fish from Drowning",
                                    "1": "Amy Tan",
                                    "2": "3.41",
                                    "3": "11644"
                                },
                                {
                                    "0": "The Inheritance of Loss",
                                    "1": "Kiran Desai",
                                    "2": "3.41",
                                    "3": "11644"
                                },
                                {
                                    "0": "NW",
                                    "1": "Zadie Smith",
                                    "2": "3.41",
                                    "3": "11644"
                                },
                                {
                                    "0": "Down the Rabbit Hole: Curious Adventures and Cautionary Tales of a Former Playboy Bunny",
                                    "1": "Holly Madison",
                                    "2": "3.4",
                                    "3": "11644"
                                },
                                {
                                    "0": "Big Brother",
                                    "1": "Lionel Shriver",
                                    "2": "3.4",
                                    "3": "11644"
                                },
                                {
                                    "0": "The Paying Guests",
                                    "1": "Sarah Waters",
                                    "2": "3.39",
                                    "3": "11644"
                                },
                                {
                                    "0": "Brick Lane",
                                    "1": "Monica Ali",
                                    "2": "3.38",
                                    "3": "11644"
                                },
                                {
                                    "0": "Eileen",
                                    "1": "Ottessa Moshfegh",
                                    "2": "3.38",
                                    "3": "11644"
                                },
                                {
                                    "0": "I Am Having So Much Fun Here Without You",
                                    "1": "Courtney Maum",
                                    "2": "3.37",
                                    "3": "11644"
                                },
                                {
                                    "0": "The Heart Goes Last",
                                    "1": "Margaret Atwood",
                                    "2": "3.37",
                                    "3": "11644"
                                },
                                {
                                    "0": "The Tiger's Wife",
                                    "1": "Téa Obreht",
                                    "2": "3.37",
                                    "3": "11644"
                                },
                                {
                                    "0": "Sex and the City",
                                    "1": "Candace Bushnell",
                                    "2": "3.37",
                                    "3": "11644"
                                },
                                {
                                    "0": "Prep",
                                    "1": "Curtis Sittenfeld",
                                    "2": "3.36",
                                    "3": "11644"
                                },
                                {
                                    "0": "Commencement ",
                                    "1": "J. Courtney Sullivan",
                                    "2": "3.36",
                                    "3": "11644"
                                },
                                {
                                    "0": "Ethan Frome",
                                    "1": "Edith Wharton",
                                    "2": "3.35",
                                    "3": "11644"
                                },
                                {
                                    "0": "Boy, Snow, Bird",
                                    "1": "Helen Oyeyemi",
                                    "2": "3.34",
                                    "3": "11644"
                                },
                                {
                                    "0": "Story of O (Story of O #1)",
                                    "1": "Pauline Réage, Sabine d'Estree",
                                    "2": "3.34",
                                    "3": "11644"
                                },
                                {
                                    "0": "Tampa",
                                    "1": "Alissa Nutting",
                                    "2": "3.34",
                                    "3": "11644"
                                },
                                {
                                    "0": "Not That Kind of Girl: A Young Woman Tells You What She's \"Learned\"",
                                    "1": "Lena Dunham, Joana Avillez",
                                    "2": "3.33",
                                    "3": "11644"
                                },
                                {
                                    "0": "The Love Affairs of Nathaniel P.",
                                    "1": "Adelle Waldman",
                                    "2": "3.3",
                                    "3": "11644"
                                },
                                {
                                    "0": "The Postmistress",
                                    "1": "Sarah Blake, Orlagh Cassidy",
                                    "2": "3.3",
                                    "3": "11644"
                                },
                                {
                                    "0": "Sweetbitter",
                                    "1": "Stephanie Danler",
                                    "2": "3.28",
                                    "3": "11644"
                                },
                                {
                                    "0": "Hausfrau",
                                    "1": "Jill Alexander Essbaum",
                                    "2": "3.24",
                                    "3": "11644"
                                },
                                {
                                    "0": "Ripper",
                                    "1": "Isabel Allende, Oliver Brock, Frank Wynne",
                                    "2": "3.24",
                                    "3": "11644"
                                },
                                {
                                    "0": "California",
                                    "1": "Edan Lepucki",
                                    "2": "3.22",
                                    "3": "11644"
                                },
                                {
                                    "0": "Swamplandia!",
                                    "1": "Karen Russell",
                                    "2": "3.21",
                                    "3": "11644"
                                },
                                {
                                    "0": "The Lifeboat",
                                    "1": "Charlotte Rogan",
                                    "2": "3.2",
                                    "3": "11644"
                                },
                                {
                                    "0": "Today Will Be Different",
                                    "1": "Maria Semple",
                                    "2": "3.19",
                                    "3": "11644"
                                },
                                {
                                    "0": "The Particular Sadness of Lemon Cake",
                                    "1": "Aimee Bender",
                                    "2": "3.19",
                                    "3": "11644"
                                },
                                {
                                    "0": "Songs of the Humpback Whale",
                                    "1": "Jodi Picoult",
                                    "2": "3.19",
                                    "3": "11644"
                                },
                                {
                                    "0": "All He Ever Wanted",
                                    "1": "Anita Shreve",
                                    "2": "3.18",
                                    "3": "11644"
                                },
                                {
                                    "0": "The Autograph Man",
                                    "1": "Zadie Smith",
                                    "2": "3.14",
                                    "3": "11644"
                                },
                                {
                                    "0": "A Gate at the Stairs",
                                    "1": "Lorrie Moore",
                                    "2": "3.14",
                                    "3": "11644"
                                },
                                {
                                    "0": "Frog Music",
                                    "1": "Emma Donoghue",
                                    "2": "3.13",
                                    "3": "11644"
                                },
                                {
                                    "0": "The Emperor's Children",
                                    "1": "Claire Messud",
                                    "2": "2.93",
                                    "3": "11644"
                                },
                                {
                                    "0": "Four Blondes",
                                    "1": "Candace Bushnell",
                                    "2": "2.8",
                                    "3": "11644"
                                },
                                {
                                    "0": "The Almost Moon",
                                    "1": "Alice Sebold",
                                    "2": "2.67",
                                    "3": "11644"
                                }
                            ]
                        },
                        "text/html": [
                            "<table>",
                            "<tr><th>title</th><th>authors</th><th>average_rating</th><th>tag_id</th></tr>",
                            "<tr><td>The Complete Novels</td><td>Jane Austen</td><td>4.55</td><td>11644</td></tr>",
                            "<tr><td>Fool's Quest  (The Fitz and The Fool, #2)</td><td>Robin Hobb</td><td>4.53</td><td>11644</td></tr>",
                            "<tr><td>Kings Rising (Captive Prince, #3)</td><td>C.S. Pacat</td><td>4.5</td><td>11644</td></tr>",
                            "<tr><td>Fullmetal Alchemist, Vol. 1 (Fullmetal Alchemist, #1)</td><td>Hiromu Arakawa, Akira Watanabe</td><td>4.49</td><td>11644</td></tr>",
                            "<tr><td>We Should All Be Feminists</td><td>Chimamanda Ngozi Adichie</td><td>4.47</td><td>11644</td></tr>",
                            "<tr><td>The Complete Stories</td><td>Flannery O'Connor</td><td>4.44</td><td>11644</td></tr>",
                            "<tr><td>Nothing to Envy: Ordinary Lives in North Korea</td><td>Barbara Demick</td><td>4.42</td><td>11644</td></tr>",
                            "<tr><td>Homegoing</td><td>Yaa Gyasi</td><td>4.41</td><td>11644</td></tr>",
                            "<tr><td>The Story of the Lost Child (The Neapolitan Novels, #4)</td><td>Elena Ferrante, Ann Goldstein</td><td>4.39</td><td>11644</td></tr>",
                            "<tr><td>I Love You Through and Through</td><td>Bernadette Rossetti-Shustak, Caroline Jayne Church</td><td>4.39</td><td>11644</td></tr>",
                            "<tr><td>The Story of a New Name (The Neapolitan Novels #2)</td><td>Elena Ferrante, Ann Goldstein</td><td>4.37</td><td>11644</td></tr>",
                            "<tr><td>The Complete Persepolis</td><td>Marjane Satrapi, Mattias Ripa, Blake Ferris, Anjali Singh</td><td>4.36</td><td>11644</td></tr>",
                            "<tr><td>Mornings in Jenin</td><td>Susan Abulhawa</td><td>4.35</td><td>11644</td></tr>",
                            "<tr><td>Mastering the Art of French Cooking</td><td>Julia Child, Simone Beck, Louisette Bertholle</td><td>4.33</td><td>11644</td></tr>",
                            "<tr><td>The Folk of the Faraway Tree (The Faraway Tree, #3)</td><td>Enid Blyton</td><td>4.32</td><td>11644</td></tr>",
                            "<tr><td>Wild Magic (Immortals, #1)</td><td>Tamora Pierce</td><td>4.32</td><td>11644</td></tr>",
                            "<tr><td>The Way to Cook</td><td>Julia Child</td><td>4.31</td><td>11644</td></tr>",
                            "<tr><td>The Fifth Season (The Broken Earth, #1)</td><td>N.K. Jemisin</td><td>4.31</td><td>11644</td></tr>",
                            "<tr><td>Howl's Moving Castle (Howl's Moving Castle, #1)</td><td>Diana Wynne Jones</td><td>4.3</td><td>11644</td></tr>",
                            "<tr><td>Rudolph the Red-Nosed Reindeer</td><td>Barbara Shook Hazen, Robert Lewis May, Richard Scarry</td><td>4.3</td><td>11644</td></tr>",
                            "<tr><td>Citizen: An American Lyric</td><td>Claudia Rankine</td><td>4.3</td><td>11644</td></tr>",
                            "<tr><td>First They Killed My Father: A Daughter of Cambodia Remembers</td><td>Loung Ung</td><td>4.29</td><td>11644</td></tr>",
                            "<tr><td>The Warrior's Apprentice (Vorkosigan Saga, #2)</td><td>Lois McMaster Bujold</td><td>4.29</td><td>11644</td></tr>",
                            "<tr><td>The Magic Faraway Tree (The Faraway Tree, #2)</td><td>Enid Blyton</td><td>4.29</td><td>11644</td></tr>",
                            "<tr><td>Tiny Beautiful Things: Advice on Love and Life from Dear Sugar</td><td>Cheryl Strayed</td><td>4.29</td><td>11644</td></tr>",
                            "<tr><td>Those Who Leave and Those Who Stay (The Neapolitan Novels #3)</td><td>Elena Ferrante, Ann Goldstein</td><td>4.29</td><td>11644</td></tr>",
                            "<tr><td>The Unabridged Journals of Sylvia Plath</td><td>Sylvia Plath, Karen V. Kukil</td><td>4.29</td><td>11644</td></tr>",
                            "<tr><td>Lioness Rampant (Song of the Lioness, #4)</td><td>Tamora Pierce</td><td>4.28</td><td>11644</td></tr>",
                            "<tr><td>Good Night, Mr. Tom</td><td>Michelle Magorian</td><td>4.28</td><td>11644</td></tr>",
                            "<tr><td>The Complete Poems</td><td>Anne Sexton, Maxine Kumin</td><td>4.28</td><td>11644</td></tr>",
                            "<tr><td>The Faraway Tree Stories (The Faraway Tree #1-3)</td><td>Enid Blyton</td><td>4.28</td><td>11644</td></tr>",
                            "<tr><td>Trickster's Queen (Daughter of the Lioness, #2)</td><td>Tamora Pierce</td><td>4.28</td><td>11644</td></tr>",
                            "<tr><td>Squire (Protector of the Small, #3)</td><td>Tamora Pierce</td><td>4.27</td><td>11644</td></tr>",
                            "<tr><td>for colored girls who have considered suicide/when the rainbow is enuf</td><td>Ntozake Shange</td><td>4.27</td><td>11644</td></tr>",
                            "<tr><td>Everything That Rises Must Converge: Stories</td><td>Flannery O'Connor, Robert Fitzgerald</td><td>4.27</td><td>11644</td></tr>",
                            "<tr><td>A Little Life</td><td>Hanya Yanagihara</td><td>4.27</td><td>11644</td></tr>",
                            "<tr><td>Trickster's Choice (Daughter of the Lioness, #1)</td><td>Tamora Pierce</td><td>4.27</td><td>11644</td></tr>",
                            "<tr><td>Alanna: The First Adventure (Song of the Lioness, #1)</td><td>Tamora Pierce</td><td>4.27</td><td>11644</td></tr>",
                            "<tr><td>The Song of Achilles</td><td>Madeline Miller</td><td>4.27</td><td>11644</td></tr>",
                            "<tr><td>Persepolis, Volume 1</td><td>Marjane Satrapi</td><td>4.27</td><td>11644</td></tr>",
                            "<tr><td>Milk and Honey</td><td>Rupi Kaur</td><td>4.27</td><td>11644</td></tr>",
                            "<tr><td>Hark! A Vagrant</td><td>Kate Beaton</td><td>4.27</td><td>11644</td></tr>",
                            "<tr><td>Fried Green Tomatoes at the Whistle Stop Cafe</td><td>Fannie Flagg</td><td>4.26</td><td>11644</td></tr>",
                            "<tr><td>Bring Up the Bodies (Thomas Cromwell, #2)</td><td>Hilary Mantel</td><td>4.26</td><td>11644</td></tr>",
                            "<tr><td>Bloodhound (Beka Cooper, #2)</td><td>Tamora Pierce</td><td>4.26</td><td>11644</td></tr>",
                            "<tr><td>Americanah</td><td>Chimamanda Ngozi Adichie</td><td>4.26</td><td>11644</td></tr>",
                            "<tr><td>Inside the Human Body (The Magic School Bus, #3)</td><td>Joanna Cole, Bruce Degen</td><td>4.26</td><td>11644</td></tr>",
                            "<tr><td>In the Hand of the Goddess (Song of the Lioness, #2)</td><td>Tamora Pierce</td><td>4.25</td><td>11644</td></tr>",
                            "<tr><td>The Earthsea Trilogy</td><td>Ursula K. Le Guin</td><td>4.25</td><td>11644</td></tr>",
                            "<tr><td>The Autobiography of Henry VIII: With Notes by His Fool, Will Somers</td><td>Margaret George</td><td>4.25</td><td>11644</td></tr>",
                            "<tr><td>Hello, Mrs. Piggle-Wiggle (Mrs. Piggle Wiggle, #4)</td><td>Betty MacDonald, Alexandra Boiger</td><td>4.24</td><td>11644</td></tr>",
                            "<tr><td>Mastiff (Beka Cooper, #3)</td><td>Tamora Pierce</td><td>4.24</td><td>11644</td></tr>",
                            "<tr><td>A Good Man is Hard to Find and Other Stories</td><td>Flannery O'Connor</td><td>4.24</td><td>11644</td></tr>",
                            "<tr><td>Slouching Towards Bethlehem</td><td>Joan Didion</td><td>4.24</td><td>11644</td></tr>",
                            "<tr><td>A Tree Grows in Brooklyn</td><td>Betty  Smith</td><td>4.24</td><td>11644</td></tr>",
                            "<tr><td>The Enchanted Wood (The Faraway Tree, #1)</td><td>Enid Blyton</td><td>4.24</td><td>11644</td></tr>",
                            "<tr><td>Persepolis: The Story of a Childhood (Persepolis, #1)</td><td>Marjane Satrapi, Mattias Ripa</td><td>4.23</td><td>11644</td></tr>",
                            "<tr><td>The Tiger Who Came to Tea</td><td>Judith Kerr</td><td>4.23</td><td>11644</td></tr>",
                            "<tr><td>Persepolis 2: The Story of a Return (Persepolis, #2)</td><td>Marjane Satrapi, Anjali Singh</td><td>4.23</td><td>11644</td></tr>",
                            "<tr><td>The Hollow Hills (Arthurian Saga, #2)</td><td>Mary  Stewart</td><td>4.23</td><td>11644</td></tr>",
                            "<tr><td>Noughts &amp; Crosses (Noughts &amp; Crosses, #1)</td><td>Malorie Blackman</td><td>4.23</td><td>11644</td></tr>",
                            "<tr><td>Shrill: Notes from a Loud Woman</td><td>Lindy West</td><td>4.23</td><td>11644</td></tr>",
                            "<tr><td>Ariel</td><td>Sylvia Plath</td><td>4.23</td><td>11644</td></tr>",
                            "<tr><td>Gakuen Alice, Vol. 01 (Gakuen Alice, #1)</td><td>Tachibana Higuchi, 樋口 橘</td><td>4.23</td><td>11644</td></tr>",
                            "<tr><td>Wild Swans: Three Daughters of China</td><td>Jung Chang</td><td>4.23</td><td>11644</td></tr>",
                            "<tr><td>Notorious RBG: The Life and Times of Ruth Bader Ginsburg</td><td>Irin Carmon, Shana Knizhnik</td><td>4.22</td><td>11644</td></tr>",
                            "<tr><td>The Dragonriders of Pern (Dragonriders of Pern, #1-3)</td><td>Anne McCaffrey</td><td>4.22</td><td>11644</td></tr>",
                            "<tr><td>Wild Seed (Patternmaster, #1)</td><td>Octavia E. Butler</td><td>4.22</td><td>11644</td></tr>",
                            "<tr><td>The Center Cannot Hold: My Journey Through Madness</td><td>Elyn R. Saks</td><td>4.22</td><td>11644</td></tr>",
                            "<tr><td>The Shock Doctrine: The Rise of Disaster Capitalism</td><td>Naomi Klein</td><td>4.22</td><td>11644</td></tr>",
                            "<tr><td>A Mango-Shaped Space</td><td>Wendy Mass</td><td>4.22</td><td>11644</td></tr>",
                            "<tr><td>The Thorn Birds</td><td>Colleen McCullough</td><td>4.22</td><td>11644</td></tr>",
                            "<tr><td>Ship of Destiny (Liveship Traders, #3)</td><td>Robin Hobb</td><td>4.21</td><td>11644</td></tr>",
                            "<tr><td>Anne of Avonlea (Anne of Green Gables, #2)</td><td>L.M. Montgomery</td><td>4.21</td><td>11644</td></tr>",
                            "<tr><td>The Mad Ship (Liveship Traders, #2)</td><td>Robin Hobb</td><td>4.21</td><td>11644</td></tr>",
                            "<tr><td>Parable of the Talents (Earthseed, #2)</td><td>Octavia E. Butler</td><td>4.21</td><td>11644</td></tr>",
                            "<tr><td>The Little Red Caboose (Little Golden Book)</td><td>Marian Potter</td><td>4.21</td><td>11644</td></tr>",
                            "<tr><td>Wolf-Speaker (Immortals, #2)</td><td>Tamora Pierce</td><td>4.21</td><td>11644</td></tr>",
                            "<tr><td>Nana, Vol. 1 (Nana, #1)</td><td>Ai Yazawa</td><td>4.21</td><td>11644</td></tr>",
                            "<tr><td>The Complete Poems of Emily Dickinson</td><td>Emily Dickinson, Thomas H. Johnson</td><td>4.21</td><td>11644</td></tr>",
                            "<tr><td>The Collected Poems</td><td>Sylvia Plath, Ted Hughes</td><td>4.2</td><td>11644</td></tr>",
                            "<tr><td>The Woman Who Rides Like a Man (Song of the Lioness, #3)</td><td>Tamora Pierce</td><td>4.2</td><td>11644</td></tr>",
                            "<tr><td>Nimona</td><td>Noelle Stevenson</td><td>4.2</td><td>11644</td></tr>",
                            "<tr><td>Zami: A New Spelling of My Name</td><td>Audre Lorde</td><td>4.2</td><td>11644</td></tr>",
                            "<tr><td>The Murder of Roger Ackroyd (Hercule Poirot, #4)</td><td>Agatha Christie</td><td>4.2</td><td>11644</td></tr>",
                            "<tr><td>Rebecca</td><td>Daphne du Maurier, Sally Beauman</td><td>4.2</td><td>11644</td></tr>",
                            "<tr><td>Calling on Dragons (Enchanted Forest Chronicles, #3)</td><td>Patricia C. Wrede, Peter de Sève</td><td>4.2</td><td>11644</td></tr>",
                            "<tr><td>Ancillary Mercy (Imperial Radch #3)</td><td>Ann Leckie</td><td>4.2</td><td>11644</td></tr>",
                            "<tr><td>Wit</td><td>Margaret Edson</td><td>4.2</td><td>11644</td></tr>",
                            "<tr><td>The House of the Spirits</td><td>Isabel Allende, Magda Bogin</td><td>4.2</td><td>11644</td></tr>",
                            "<tr><td>Small Sacrifices: A True Story of Passion and Murder</td><td>Ann Rule</td><td>4.2</td><td>11644</td></tr>",
                            "<tr><td>I Know Why the Caged Bird Sings</td><td>Maya Angelou</td><td>4.19</td><td>11644</td></tr>",
                            "<tr><td>The Tale of Mrs. Tiggy-Winkle</td><td>Beatrix Potter</td><td>4.19</td><td>11644</td></tr>",
                            "<tr><td>This Star Won't Go Out: The Life and Words of Esther Grace Earl</td><td>Esther Earl, Lori Earl, Wayne Earl, John Green</td><td>4.19</td><td>11644</td></tr>",
                            "<tr><td>The Heart of a Woman</td><td>Maya Angelou</td><td>4.19</td><td>11644</td></tr>",
                            "<tr><td>West with the Night</td><td>Beryl Markham</td><td>4.18</td><td>11644</td></tr>",
                            "<tr><td>The Dispossessed</td><td>Ursula K. Le Guin</td><td>4.18</td><td>11644</td></tr>",
                            "<tr><td>Kindred</td><td>Octavia E. Butler</td><td>4.18</td><td>11644</td></tr>",
                            "<tr><td>The Long Way to a Small, Angry Planet (Wayfarers, #1)</td><td>Becky  Chambers</td><td>4.18</td><td>11644</td></tr>",
                            "<tr><td>The Thing Around Your Neck</td><td>Chimamanda Ngozi Adichie</td><td>4.18</td><td>11644</td></tr>",
                            "<tr><td>The Gifts of Imperfection: Let Go of Who You Think You're Supposed to Be and Embrace Who You Are</td><td>Brené Brown</td><td>4.17</td><td>11644</td></tr>",
                            "<tr><td>The Memoirs of Cleopatra</td><td>Margaret George</td><td>4.17</td><td>11644</td></tr>",
                            "<tr><td>Hyperbole and a Half: Unfortunate Situations, Flawed Coping Mechanisms, Mayhem, and Other Things That Happened</td><td>Allie Brosh</td><td>4.17</td><td>11644</td></tr>",
                            "<tr><td>The Sparrow (The Sparrow, #1)</td><td>Mary Doria Russell</td><td>4.17</td><td>11644</td></tr>",
                            "<tr><td>The Color Purple</td><td>Alice Walker</td><td>4.17</td><td>11644</td></tr>",
                            "<tr><td>Writing Down the Bones: Freeing the Writer Within</td><td>Natalie Goldberg</td><td>4.17</td><td>11644</td></tr>",
                            "<tr><td>Rilla of Ingleside (Anne of Green Gables, #8)</td><td>L.M. Montgomery</td><td>4.16</td><td>11644</td></tr>",
                            "<tr><td>Selected Poems</td><td>Emily Dickinson</td><td>4.16</td><td>11644</td></tr>",
                            "<tr><td>The Curse of Chalion (World of the Five Gods, #1)</td><td>Lois McMaster Bujold</td><td>4.16</td><td>11644</td></tr>",
                            "<tr><td>Wir Kinder vom Bahnhof Zoo</td><td>Christiane F., Kai Hermann, Horst Rieck</td><td>4.16</td><td>11644</td></tr>",
                            "<tr><td>Murder on the Orient Express (Hercule Poirot, #10)</td><td>Agatha Christie</td><td>4.16</td><td>11644</td></tr>",
                            "<tr><td>Shatterglass (The Circle Opens, #4)</td><td>Tamora Pierce</td><td>4.16</td><td>11644</td></tr>",
                            "<tr><td>On Death and Dying</td><td>Elisabeth Kübler-Ross</td><td>4.15</td><td>11644</td></tr>",
                            "<tr><td>The Will of the Empress (Circle Reforged, #1)</td><td>Tamora Pierce</td><td>4.15</td><td>11644</td></tr>",
                            "<tr><td>Adulthood Is a Myth (Sarah's Scribbles, #1)</td><td>Sarah Andersen</td><td>4.14</td><td>11644</td></tr>",
                            "<tr><td>Parable of the Sower (Earthseed, #1)</td><td>Octavia E. Butler</td><td>4.14</td><td>11644</td></tr>",
                            "<tr><td>The Spirit Catches You and You Fall Down: A Hmong Child, Her American Doctors, and the Collision of Two Cultures</td><td>Anne Fadiman</td><td>4.14</td><td>11644</td></tr>",
                            "<tr><td>You're Never Weird on the Internet (Almost)</td><td>Felicia Day, Joss Whedon</td><td>4.14</td><td>11644</td></tr>",
                            "<tr><td>Just Kids</td><td>Patti Smith</td><td>4.14</td><td>11644</td></tr>",
                            "<tr><td>Ms. Marvel, Vol. 2: Generation Why</td><td>G. Willow Wilson, Adrian Alphona, Jacob Wyatt</td><td>4.14</td><td>11644</td></tr>",
                            "<tr><td>The Apprentice (Rizzoli &amp; Isles, #2)</td><td>Tess Gerritsen</td><td>4.14</td><td>11644</td></tr>",
                            "<tr><td>Beaches</td><td>Iris Rainer Dart</td><td>4.14</td><td>11644</td></tr>",
                            "<tr><td>The Waves</td><td>Virginia Woolf</td><td>4.14</td><td>11644</td></tr>",
                            "<tr><td>Absent In The Spring</td><td>Mary Westmacott, Agatha Christie</td><td>4.14</td><td>11644</td></tr>",
                            "<tr><td>Briar's Book (Circle of Magic, #4)</td><td>Tamora Pierce</td><td>4.14</td><td>11644</td></tr>",
                            "<tr><td>The Joy of Cooking</td><td>Irma S. Rombauer, Marion Rombauer Becker, Ethan Becker</td><td>4.14</td><td>11644</td></tr>",
                            "<tr><td>A Ring of Endless Light (Austin Family, #4)</td><td>Madeleine L'Engle</td><td>4.14</td><td>11644</td></tr>",
                            "<tr><td>North and South</td><td>Elizabeth Gaskell, Alan Shelston</td><td>4.13</td><td>11644</td></tr>",
                            "<tr><td>Ms. Marvel, Vol. 1: No Normal</td><td>G. Willow Wilson, Adrian Alphona</td><td>4.13</td><td>11644</td></tr>",
                            "<tr><td>The Stranger Beside Me: Ted Bundy The Shocking Inside Story</td><td>Ann Rule</td><td>4.13</td><td>11644</td></tr>",
                            "<tr><td>In the Time of the Butterflies</td><td>Julia Alvarez</td><td>4.13</td><td>11644</td></tr>",
                            "<tr><td>Dibs in Search of Self</td><td>Virginia M. Axline</td><td>4.13</td><td>11644</td></tr>",
                            "<tr><td>Persuasion</td><td>Jane Austen, James Kinsley, Deidre Shauna Lynch</td><td>4.13</td><td>11644</td></tr>",
                            "<tr><td>The Women of Brewster Place</td><td>Gloria Naylor</td><td>4.13</td><td>11644</td></tr>",
                            "<tr><td>A Swiftly Tilting Planet (A Wrinkle in Time Quintet, #3)</td><td>Madeleine L'Engle</td><td>4.13</td><td>11644</td></tr>",
                            "<tr><td>Shards of Honour  (Vorkosigan Saga, #1)</td><td>Lois McMaster Bujold</td><td>4.13</td><td>11644</td></tr>",
                            "<tr><td>Street Magic (The Circle Opens, #2)</td><td>Tamora Pierce</td><td>4.12</td><td>11644</td></tr>",
                            "<tr><td>Birds of America</td><td>Lorrie Moore</td><td>4.12</td><td>11644</td></tr>",
                            "<tr><td>The Crystal Cave (Arthurian Saga, #1)</td><td>Mary  Stewart</td><td>4.12</td><td>11644</td></tr>",
                            "<tr><td>Fun Home: A Family Tragicomic</td><td>Alison Bechdel</td><td>4.12</td><td>11644</td></tr>",
                            "<tr><td>Succulent Wild Woman</td><td>S.A.R.K.</td><td>4.12</td><td>11644</td></tr>",
                            "<tr><td>Interpreter of Maladies</td><td>Jhumpa Lahiri</td><td>4.12</td><td>11644</td></tr>",
                            "<tr><td>The Passion</td><td>Jeanette Winterson</td><td>4.12</td><td>11644</td></tr>",
                            "<tr><td>The Mists of Avalon (Avalon, #1)</td><td>Marion Zimmer Bradley</td><td>4.12</td><td>11644</td></tr>",
                            "<tr><td>The Yellow Wall-Paper</td><td>Charlotte Perkins Gilman, Elaine Hedges</td><td>4.11</td><td>11644</td></tr>",
                            "<tr><td>Purple Hibiscus</td><td>Chimamanda Ngozi Adichie</td><td>4.11</td><td>11644</td></tr>",
                            "<tr><td>The Farthest Shore (Earthsea Cycle, #3)</td><td>Ursula K. Le Guin</td><td>4.11</td><td>11644</td></tr>",
                            "<tr><td>The Defining Decade: Why Your Twenties Matter--And How to Make the Most of Them Now</td><td>Meg Jay</td><td>4.11</td><td>11644</td></tr>",
                            "<tr><td>Unaccustomed Earth</td><td>Jhumpa Lahiri</td><td>4.11</td><td>11644</td></tr>",
                            "<tr><td>Unnatural Death (Lord Peter Wimsey, #3)</td><td>Dorothy L. Sayers</td><td>4.11</td><td>11644</td></tr>",
                            "<tr><td>The Palace of Illusions</td><td>Chitra Banerjee Divakaruni</td><td>4.11</td><td>11644</td></tr>",
                            "<tr><td>The Diary of a Young Girl</td><td>Anne Frank, Eleanor Roosevelt, B.M. Mooyaart-Doubleday</td><td>4.1</td><td>11644</td></tr>",
                            "<tr><td>Dawn (Xenogenesis, #1)</td><td>Octavia E. Butler</td><td>4.1</td><td>11644</td></tr>",
                            "<tr><td>The Princess and the Pea</td><td>Janet Stevens, Hans Christian Andersen</td><td>4.1</td><td>11644</td></tr>",
                            "<tr><td>Hunting and Gathering</td><td>Anna Gavalda, Alison Anderson</td><td>4.1</td><td>11644</td></tr>",
                            "<tr><td>Jane Eyre</td><td>Charlotte Brontë, Michael Mason</td><td>4.1</td><td>11644</td></tr>",
                            "<tr><td>The Fannie Farmer Cookbook: Anniversary</td><td>Marion Cunningham, Fannie Merritt Farmer, Archibald Candy Corporation</td><td>4.1</td><td>11644</td></tr>",
                            "<tr><td>Pilgrim at Tinker Creek</td><td>Annie Dillard</td><td>4.1</td><td>11644</td></tr>",
                            "<tr><td>Manga Classics: Les Misérables</td><td>Stacy King, SunNeko Lee, Crystal S. Chan, Victor Hugo</td><td>4.1</td><td>11644</td></tr>",
                            "<tr><td>A Room of One's Own</td><td>Virginia Woolf</td><td>4.1</td><td>11644</td></tr>",
                            "<tr><td>The Golem and the Jinni (The Golem and the Jinni, #1)</td><td>Helene Wecker</td><td>4.1</td><td>11644</td></tr>",
                            "<tr><td>Can't We Talk about Something More Pleasant?</td><td>Roz Chast</td><td>4.1</td><td>11644</td></tr>",
                            "<tr><td>Desert Flower</td><td>Waris Dirie, Cathleen Miller</td><td>4.09</td><td>11644</td></tr>",
                            "<tr><td>The Second Sex</td><td>Simone de Beauvoir, H.M. Parshley, Deirdre Bair</td><td>4.09</td><td>11644</td></tr>",
                            "<tr><td>The Sixth Extinction: An Unnatural History</td><td>Elizabeth Kolbert</td><td>4.09</td><td>11644</td></tr>",
                            "<tr><td>The Drama of the Gifted Child: The Search for the True Self</td><td>Alice  Miller, Ruth Ward</td><td>4.09</td><td>11644</td></tr>",
                            "<tr><td>The Lathe of Heaven</td><td>Ursula K. Le Guin</td><td>4.09</td><td>11644</td></tr>",
                            "<tr><td>Bastard Out of Carolina</td><td>Dorothy Allison</td><td>4.09</td><td>11644</td></tr>",
                            "<tr><td>The Many Lives &amp; Secret Sorrows of Josephine B. (Josephine Bonaparte, #1)</td><td>Sandra Gulland</td><td>4.09</td><td>11644</td></tr>",
                            "<tr><td>The Lottery</td><td>Shirley Jackson</td><td>4.09</td><td>11644</td></tr>",
                            "<tr><td>The Story of an Hour</td><td>Kate Chopin</td><td>4.08</td><td>11644</td></tr>",
                            "<tr><td>Incidents in the Life of a Slave Girl</td><td>Harriet Jacobs</td><td>4.08</td><td>11644</td></tr>",
                            "<tr><td>Written on the Body</td><td>Jeanette Winterson</td><td>4.08</td><td>11644</td></tr>",
                            "<tr><td>Letter to My Daughter</td><td>Maya Angelou</td><td>4.08</td><td>11644</td></tr>",
                            "<tr><td>Luck in the Shadows (Nightrunner, #1)</td><td>Lynn Flewelling</td><td>4.08</td><td>11644</td></tr>",
                            "<tr><td>My Life on the Road</td><td>Gloria Steinem</td><td>4.08</td><td>11644</td></tr>",
                            "<tr><td>Drift: The Unmooring of American Military Power</td><td>Rachel Maddow</td><td>4.07</td><td>11644</td></tr>",
                            "<tr><td>Wives and Daughters</td><td>Elizabeth Gaskell, Pam Morris</td><td>4.07</td><td>11644</td></tr>",
                            "<tr><td>Tris's Book (Circle of Magic, #2)</td><td>Tamora Pierce</td><td>4.07</td><td>11644</td></tr>",
                            "<tr><td>Paula</td><td>Isabel Allende</td><td>4.07</td><td>11644</td></tr>",
                            "<tr><td>Stones from the River</td><td>Ursula Hegi</td><td>4.07</td><td>11644</td></tr>",
                            "<tr><td>The Story of My Life</td><td>Helen Keller</td><td>4.07</td><td>11644</td></tr>",
                            "<tr><td>The Secret History</td><td>Donna Tartt</td><td>4.07</td><td>11644</td></tr>",
                            "<tr><td>Water for Elephants</td><td>Sara Gruen</td><td>4.07</td><td>11644</td></tr>",
                            "<tr><td>The Tombs of Atuan (Earthsea Cycle, #2)</td><td>Ursula K. Le Guin</td><td>4.07</td><td>11644</td></tr>",
                            "<tr><td>Five on a Treasure Island (Famous Five, #1)</td><td>Enid Blyton</td><td>4.06</td><td>11644</td></tr>",
                            "<tr><td>Daja's Book (Circle of Magic, #3)</td><td>Tamora Pierce</td><td>4.06</td><td>11644</td></tr>",
                            "<tr><td>The Handmaid's Tale</td><td>Margaret Atwood</td><td>4.06</td><td>11644</td></tr>",
                            "<tr><td>The Lottery and Other Stories</td><td>Shirley Jackson</td><td>4.06</td><td>11644</td></tr>",
                            "<tr><td>Hateship, Friendship, Courtship, Loveship, Marriage: Stories</td><td>Alice Munro</td><td>4.06</td><td>11644</td></tr>",
                            "<tr><td>Possessing the Secret of Joy</td><td>Alice Walker</td><td>4.06</td><td>11644</td></tr>",
                            "<tr><td>Stormy, Misty's Foal (Misty, #3)</td><td>Marguerite Henry</td><td>4.06</td><td>11644</td></tr>",
                            "<tr><td>The Other Wind (Earthsea Cycle, #6)</td><td>Ursula K. Le Guin</td><td>4.06</td><td>11644</td></tr>",
                            "<tr><td>I Am Malala: The Story of the Girl Who Stood Up for Education and Was Shot by the Taliban</td><td>Malala Yousafzai, Christina Lamb</td><td>4.06</td><td>11644</td></tr>",
                            "<tr><td>The Bone People</td><td>Keri Hulme</td><td>4.06</td><td>11644</td></tr>",
                            "<tr><td>Sense and Sensibility</td><td>Jane Austen, Tony Tanner, Ros Ballaster</td><td>4.06</td><td>11644</td></tr>",
                            "<tr><td>The Goblin Emperor</td><td>Katherine Addison</td><td>4.05</td><td>11644</td></tr>",
                            "<tr><td>We Have Always Lived in the Castle</td><td>Shirley Jackson, Jonathan Lethem</td><td>4.05</td><td>11644</td></tr>",
                            "<tr><td>The Likeness (Dublin Murder Squad, #2)</td><td>Tana French</td><td>4.05</td><td>11644</td></tr>",
                            "<tr><td>Animal Dreams</td><td>Barbara Kingsolver</td><td>4.05</td><td>11644</td></tr>",
                            "<tr><td>Sweetheart (Archie Sheridan &amp; Gretchen Lowell, #2)</td><td>Chelsea Cain</td><td>4.05</td><td>11644</td></tr>",
                            "<tr><td>Cold Fire (The Circle Opens, #3)</td><td>Tamora Pierce</td><td>4.05</td><td>11644</td></tr>",
                            "<tr><td>Year of Yes: How to Dance It Out, Stand In the Sun and Be Your Own Person</td><td>Shonda Rhimes</td><td>4.05</td><td>11644</td></tr>",
                            "<tr><td>Children of God (The Sparrow, #2)</td><td>Mary Doria Russell</td><td>4.05</td><td>11644</td></tr>",
                            "<tr><td>The Temple of My Familiar</td><td>Alice Walker</td><td>4.05</td><td>11644</td></tr>",
                            "<tr><td>The Left Hand of Darkness</td><td>Ursula K. Le Guin, Lech Jęczmyk</td><td>4.05</td><td>11644</td></tr>",
                            "<tr><td>An Untamed State</td><td>Roxane Gay</td><td>4.05</td><td>11644</td></tr>",
                            "<tr><td>Snow Flower and the Secret Fan</td><td>Lisa See</td><td>4.05</td><td>11644</td></tr>",
                            "<tr><td>The Year of the Flood  (MaddAddam, #2)</td><td>Margaret Atwood</td><td>4.05</td><td>11644</td></tr>",
                            "<tr><td>Stiff: The Curious Lives of Human Cadavers</td><td>Mary Roach</td><td>4.05</td><td>11644</td></tr>",
                            "<tr><td>The Vampire Lestat (The Vampire Chronicles, #2)</td><td>Anne Rice</td><td>4.05</td><td>11644</td></tr>",
                            "<tr><td>City of Dragons (Rain Wild Chronicles, #3)</td><td>Robin Hobb</td><td>4.05</td><td>11644</td></tr>",
                            "<tr><td>Anne of Ingleside (Anne of Green Gables, #6)</td><td>L.M. Montgomery</td><td>4.05</td><td>11644</td></tr>",
                            "<tr><td>Book of Shadows (Sweep, #1)</td><td>Cate Tiernan</td><td>4.04</td><td>11644</td></tr>",
                            "<tr><td>Drinking: A Love Story</td><td>Caroline Knapp</td><td>4.04</td><td>11644</td></tr>",
                            "<tr><td>You Are a Badass: How to Stop Doubting Your Greatness and Start Living an Awesome Life</td><td>Jen Sincero</td><td>4.04</td><td>11644</td></tr>",
                            "<tr><td>Anne of Windy Poplars (Anne of Green Gables, #4)</td><td>L.M. Montgomery</td><td>4.04</td><td>11644</td></tr>",
                            "<tr><td>Nine Parts of Desire: The Hidden World of Islamic Women</td><td>Geraldine Brooks</td><td>4.04</td><td>11644</td></tr>",
                            "<tr><td>Martha Stewart's Cookies: The Very Best Treats to Bake and to Share</td><td>Martha Stewart, Victor Schrager</td><td>4.04</td><td>11644</td></tr>",
                            "<tr><td>Little Women (Little Women, #1)</td><td>Louisa May Alcott</td><td>4.04</td><td>11644</td></tr>",
                            "<tr><td>Lab Girl</td><td>Hope Jahren</td><td>4.04</td><td>11644</td></tr>",
                            "<tr><td>Not Without My Daughter</td><td>Betty Mahmoody</td><td>4.04</td><td>11644</td></tr>",
                            "<tr><td>A Monstrous Regiment of Women (Mary Russell, #2)</td><td>Laurie R. King</td><td>4.04</td><td>11644</td></tr>",
                            "<tr><td>The Broken Kingdoms (Inheritance, #2)</td><td>N.K. Jemisin</td><td>4.04</td><td>11644</td></tr>",
                            "<tr><td>Smoke Gets in Your Eyes: And Other Lessons from the Crematory</td><td>Caitlin Doughty</td><td>4.04</td><td>11644</td></tr>",
                            "<tr><td>Regeneration (Regeneration, #1)</td><td>Pat Barker</td><td>4.03</td><td>11644</td></tr>",
                            "<tr><td>Room</td><td>Emma Donoghue</td><td>4.03</td><td>11644</td></tr>",
                            "<tr><td>Priestess of Avalon (Avalon, #4)</td><td>Marion Zimmer Bradley, Diana L. Paxson</td><td>4.03</td><td>11644</td></tr>",
                            "<tr><td>Evil at Heart (Archie Sheridan &amp; Gretchen Lowell, #3)</td><td>Chelsea Cain</td><td>4.03</td><td>11644</td></tr>",
                            "<tr><td>Murder at the Vicarage (Miss Marple, #1)</td><td>Agatha Christie</td><td>4.03</td><td>11644</td></tr>",
                            "<tr><td>Ancillary Sword (Imperial Radch, #2)</td><td>Ann Leckie</td><td>4.03</td><td>11644</td></tr>",
                            "<tr><td>An Unquiet Mind: A Memoir of Moods and Madness</td><td>Kay Redfield Jamison</td><td>4.03</td><td>11644</td></tr>",
                            "<tr><td>When Rabbit Howls</td><td>Truddi Chase, Robert A. Phillips Jr.</td><td>4.03</td><td>11644</td></tr>",
                            "<tr><td>The Poisonwood Bible</td><td>Barbara Kingsolver</td><td>4.02</td><td>11644</td></tr>",
                            "<tr><td>Standing in the Rainbow (Elmwood Springs, #2)</td><td>Fannie Flagg</td><td>4.02</td><td>11644</td></tr>",
                            "<tr><td>The Yellow Wallpaper and Other Stories</td><td>Charlotte Perkins Gilman</td><td>4.02</td><td>11644</td></tr>",
                            "<tr><td>Station Eleven</td><td>Emily St. John Mandel</td><td>4.02</td><td>11644</td></tr>",
                            "<tr><td>How to Fall in Love</td><td>Cecelia Ahern</td><td>4.02</td><td>11644</td></tr>",
                            "<tr><td>The Master Butchers Singing Club</td><td>Louise Erdrich</td><td>4.02</td><td>11644</td></tr>",
                            "<tr><td>What I Loved</td><td>Siri Hustvedt</td><td>4.02</td><td>11644</td></tr>",
                            "<tr><td>Fingersmith</td><td>Sarah Waters</td><td>4.02</td><td>11644</td></tr>",
                            "<tr><td>The Bloody Chamber and Other Stories</td><td>Angela Carter</td><td>4.02</td><td>11644</td></tr>",
                            "<tr><td>I, Elizabeth</td><td>Rosalind Miles</td><td>4.01</td><td>11644</td></tr>",
                            "<tr><td>Island Beneath the Sea</td><td>Isabel Allende, Margaret Sayers Peden</td><td>4.01</td><td>11644</td></tr>",
                            "<tr><td>The Mephisto Club (Rizzoli &amp; Isles, #6)</td><td>Tess Gerritsen</td><td>4.01</td><td>11644</td></tr>",
                            "<tr><td>The Secret Life of Bees</td><td>Sue Monk Kidd</td><td>4.01</td><td>11644</td></tr>",
                            "<tr><td>Burial Rites</td><td>Hannah Kent</td><td>4.01</td><td>11644</td></tr>",
                            "<tr><td>Heaven (Casteel, #1)</td><td>V.C. Andrews</td><td>4.01</td><td>11644</td></tr>",
                            "<tr><td>Song of Solomon</td><td>Toni Morrison</td><td>4.01</td><td>11644</td></tr>",
                            "<tr><td>Dancing in My Nuddy-Pants (Confessions of Georgia Nicolson, #4)</td><td>Louise Rennison</td><td>4.01</td><td>11644</td></tr>",
                            "<tr><td>The Poisoner's Handbook: Murder and the Birth of Forensic Medicine in Jazz Age New York</td><td>Deborah Blum</td><td>4</td><td>11644</td></tr>",
                            "<tr><td>Rainbow Valley (Anne of Green Gables, #7)</td><td>L.M. Montgomery</td><td>4</td><td>11644</td></tr>",
                            "<tr><td>Tales from Earthsea (Earthsea Cycle, #5)</td><td>Ursula K. Le Guin</td><td>4</td><td>11644</td></tr>",
                            "<tr><td>Tipping the Velvet</td><td>Sarah Waters</td><td>4</td><td>11644</td></tr>",
                            "<tr><td>Oryx and Crake (MaddAddam, #1)</td><td>Margaret Atwood</td><td>4</td><td>11644</td></tr>",
                            "<tr><td>The Creative Habit: Learn It and Use It for Life</td><td>Twyla Tharp</td><td>4</td><td>11644</td></tr>",
                            "<tr><td>I Capture the Castle</td><td>Dodie Smith</td><td>4</td><td>11644</td></tr>",
                            "<tr><td>Close Range</td><td>Annie Proulx</td><td>3.99</td><td>11644</td></tr>",
                            "<tr><td>The Miseducation of Cameron Post</td><td>Emily M. Danforth</td><td>3.99</td><td>11644</td></tr>",
                            "<tr><td>Gut: The Inside Story of Our Body’s Most Underrated Organ</td><td>Giulia Enders, Jill Enders</td><td>3.99</td><td>11644</td></tr>",
                            "<tr><td>Emma</td><td>Jane Austen, Fiona Stafford</td><td>3.99</td><td>11644</td></tr>",
                            "<tr><td>Five Go Adventuring Again (Famous Five, #2)</td><td>Enid Blyton</td><td>3.99</td><td>11644</td></tr>",
                            "<tr><td>The Bluest Eye</td><td>Toni Morrison</td><td>3.99</td><td>11644</td></tr>",
                            "<tr><td>A Wizard of Earthsea (Earthsea Cycle, #1)</td><td>Ursula K. Le Guin</td><td>3.99</td><td>11644</td></tr>",
                            "<tr><td>The Argonauts</td><td>Maggie Nelson</td><td>3.99</td><td>11644</td></tr>",
                            "<tr><td>Sandry's Book (Circle of Magic, #1)</td><td>Tamora Pierce</td><td>3.99</td><td>11644</td></tr>",
                            "<tr><td>Prodigal Summer</td><td>Barbara Kingsolver</td><td>3.98</td><td>11644</td></tr>",
                            "<tr><td>MaddAddam (MaddAddam, #3)</td><td>Margaret Atwood</td><td>3.98</td><td>11644</td></tr>",
                            "<tr><td>The Kitchen God's Wife</td><td>Amy Tan</td><td>3.98</td><td>11644</td></tr>",
                            "<tr><td>Keeping You a Secret</td><td>Julie Anne Peters</td><td>3.98</td><td>11644</td></tr>",
                            "<tr><td>The Hundred Secret Senses</td><td>Amy Tan</td><td>3.98</td><td>11644</td></tr>",
                            "<tr><td>Magic Steps (The Circle Opens, #1)</td><td>Tamora Pierce</td><td>3.98</td><td>11644</td></tr>",
                            "<tr><td>A Tale for the Time Being</td><td>Ruth Ozeki</td><td>3.98</td><td>11644</td></tr>",
                            "<tr><td>The Bonesetter's Daughter</td><td>Amy Tan</td><td>3.98</td><td>11644</td></tr>",
                            "<tr><td>Runaway</td><td>Alice Munro</td><td>3.98</td><td>11644</td></tr>",
                            "<tr><td>Girl at War</td><td>Sara Nović</td><td>3.98</td><td>11644</td></tr>",
                            "<tr><td>Sleeping Beauty Box Set</td><td>A.N. Roquelaure, Anne Rice</td><td>3.98</td><td>11644</td></tr>",
                            "<tr><td>Geek Love</td><td>Katherine Dunn</td><td>3.98</td><td>11644</td></tr>",
                            "<tr><td>The Space Between Us</td><td>Thrity Umrigar</td><td>3.98</td><td>11644</td></tr>",
                            "<tr><td>Assassination Vacation</td><td>Sarah Vowell</td><td>3.98</td><td>11644</td></tr>",
                            "<tr><td>Running Out of Time</td><td>Margaret Peterson Haddix</td><td>3.98</td><td>11644</td></tr>",
                            "<tr><td>Love Medicine</td><td>Louise Erdrich</td><td>3.98</td><td>11644</td></tr>",
                            "<tr><td>The Mysterious Affair at Styles (Hercule Poirot, #1)</td><td>Agatha Christie, Ροζίτα Σώκου</td><td>3.98</td><td>11644</td></tr>",
                            "<tr><td>The Art of Asking; or, How I Learned to Stop Worrying and Let People Help</td><td>Amanda Palmer</td><td>3.97</td><td>11644</td></tr>",
                            "<tr><td>Ancillary Justice (Imperial Radch #1)</td><td>Ann Leckie</td><td>3.97</td><td>11644</td></tr>",
                            "<tr><td>Heidi</td><td>Johanna Spyri, Angelo  Rinaldi, Beverly Cleary</td><td>3.97</td><td>11644</td></tr>",
                            "<tr><td>Faithful Place (Dublin Murder Squad, #3)</td><td>Tana French</td><td>3.97</td><td>11644</td></tr>",
                            "<tr><td>Alias Grace</td><td>Margaret Atwood, Brigitte Walitzek</td><td>3.97</td><td>11644</td></tr>",
                            "<tr><td>The Good Earth (House of Earth, #1)</td><td>Pearl S. Buck</td><td>3.97</td><td>11644</td></tr>",
                            "<tr><td>The Girl Who Circumnavigated Fairyland in a Ship of Her Own Making (Fairyland, #1)</td><td>Catherynne M. Valente, Ana Juan</td><td>3.97</td><td>11644</td></tr>",
                            "<tr><td>Interview with the Vampire (The Vampire Chronicles, #1)</td><td>Anne Rice</td><td>3.97</td><td>11644</td></tr>",
                            "<tr><td>Knocked Out by My Nunga-Nungas (Confessions of Georgia Nicolson, #3)</td><td>Louise Rennison</td><td>3.97</td><td>11644</td></tr>",
                            "<tr><td>The Heart is a Lonely Hunter</td><td>Carson McCullers</td><td>3.97</td><td>11644</td></tr>",
                            "<tr><td>Annie on My Mind</td><td>Nancy Garden</td><td>3.97</td><td>11644</td></tr>",
                            "<tr><td>Behind the Beautiful Forevers: Life, Death, and Hope in a Mumbai Undercity</td><td>Katherine Boo</td><td>3.97</td><td>11644</td></tr>",
                            "<tr><td>Girl in Translation</td><td>Jean Kwok</td><td>3.96</td><td>11644</td></tr>",
                            "<tr><td>Simple Abundance:  A Daybook of Comfort and Joy</td><td>Sarah Ban Breathnach</td><td>3.96</td><td>11644</td></tr>",
                            "<tr><td>Dark Angel (Casteel, #2)</td><td>V.C. Andrews</td><td>3.96</td><td>11644</td></tr>",
                            "<tr><td>On the Bright Side, I'm Now the Girlfriend of a Sex God (Confessions of Georgia Nicolson, #2)</td><td>Louise Rennison</td><td>3.96</td><td>11644</td></tr>",
                            "<tr><td>The Enchanted</td><td>Rene Denfeld</td><td>3.96</td><td>11644</td></tr>",
                            "<tr><td>Heft</td><td>Liz Moore</td><td>3.96</td><td>11644</td></tr>",
                            "<tr><td>The Stories of Eva Luna</td><td>Isabel Allende</td><td>3.96</td><td>11644</td></tr>",
                            "<tr><td>Blackout: Remembering the Things I Drank to Forget</td><td>Sarah Hepola</td><td>3.96</td><td>11644</td></tr>",
                            "<tr><td>Don't Let's Go to the Dogs Tonight</td><td>Alexandra Fuller</td><td>3.96</td><td>11644</td></tr>",
                            "<tr><td>The Namesake</td><td>Jhumpa Lahiri</td><td>3.96</td><td>11644</td></tr>",
                            "<tr><td>Harriet the Spy (Harriet the Spy #1)</td><td>Louise Fitzhugh</td><td>3.96</td><td>11644</td></tr>",
                            "<tr><td>Nigella Express: Good Food, Fast</td><td>Nigella Lawson</td><td>3.96</td><td>11644</td></tr>",
                            "<tr><td>A Murder Is Announced (Miss Marple, #5)</td><td>Agatha Christie</td><td>3.96</td><td>11644</td></tr>",
                            "<tr><td>Fugitive Pieces</td><td>Anne Michaels</td><td>3.95</td><td>11644</td></tr>",
                            "<tr><td>The Moosewood Cookbook: Recipes from Moosewood Restaurant, Ithaca, New York</td><td>Mollie Katzen</td><td>3.95</td><td>11644</td></tr>",
                            "<tr><td>The Time Traveler's Wife</td><td>Audrey Niffenegger</td><td>3.95</td><td>11644</td></tr>",
                            "<tr><td>Lullabies for Little Criminals</td><td>Heather O'Neill</td><td>3.95</td><td>11644</td></tr>",
                            "<tr><td>The Blind Assassin</td><td>Margaret Atwood</td><td>3.95</td><td>11644</td></tr>",
                            "<tr><td>The Snow Child</td><td>Eowyn Ivey</td><td>3.95</td><td>11644</td></tr>",
                            "<tr><td>Fantastic Beasts and Where to Find Them</td><td>Newt Scamander, J.K. Rowling, Albus Dumbledore</td><td>3.95</td><td>11644</td></tr>",
                            "<tr><td>Chocolat (Chocolat, #1)</td><td>Joanne Harris</td><td>3.95</td><td>11644</td></tr>",
                            "<tr><td>Fall on Your Knees</td><td>Ann-Marie MacDonald</td><td>3.95</td><td>11644</td></tr>",
                            "<tr><td>Bringing Up Bébé: One American Mother Discovers the Wisdom of French Parenting</td><td>Pamela Druckerman, Abby Craden</td><td>3.95</td><td>11644</td></tr>",
                            "<tr><td>Eva Luna</td><td>Isabel Allende, Margaret Sayers Peden</td><td>3.95</td><td>11644</td></tr>",
                            "<tr><td>Evil Under the Sun (Hercule Poirot, #23)</td><td>Agatha Christie</td><td>3.94</td><td>11644</td></tr>",
                            "<tr><td>Bossypants</td><td>Tina Fey</td><td>3.94</td><td>11644</td></tr>",
                            "<tr><td>Black Beauty</td><td>Anna Sewell</td><td>3.94</td><td>11644</td></tr>",
                            "<tr><td>Why Be Happy When You Could Be Normal?</td><td>Jeanette Winterson</td><td>3.94</td><td>11644</td></tr>",
                            "<tr><td>Silent Spring</td><td>Rachel Carson, Linda Lear, Edward O. Wilson</td><td>3.94</td><td>11644</td></tr>",
                            "<tr><td>The Housekeeper and the Professor</td><td>Yōko Ogawa, Stephen Snyder</td><td>3.94</td><td>11644</td></tr>",
                            "<tr><td>Innocent Traitor</td><td>Alison Weir</td><td>3.94</td><td>11644</td></tr>",
                            "<tr><td>Lumberjanes, Vol. 1: Beware the Kitten Holy</td><td>Noelle Stevenson, Grace Ellis, Shannon Waters, Shannon Watters, Brooke A. Allen, Faith Hicks, Kat Leyh, Brooke Allen, Carolyn Nowak, Various, Carey Pietsch</td><td>3.94</td><td>11644</td></tr>",
                            "<tr><td>Cover Her Face (Adam Dalgliesh #1)</td><td>P.D. James</td><td>3.94</td><td>11644</td></tr>",
                            "<tr><td>Like Water for Chocolate</td><td>Laura Esquivel, Thomas  Christensen, Carol Christensen</td><td>3.94</td><td>11644</td></tr>",
                            "<tr><td>Kristy's Great Idea (The Baby-Sitters Club, #1)</td><td>Ann M. Martin</td><td>3.94</td><td>11644</td></tr>",
                            "<tr><td>M Train</td><td>Patti Smith</td><td>3.94</td><td>11644</td></tr>",
                            "<tr><td>Otherwise Known as Sheila the Great (Fudge #2)</td><td>Judy Blume</td><td>3.94</td><td>11644</td></tr>",
                            "<tr><td>The Worst Witch (Worst Witch, #1)</td><td>Jill Murphy</td><td>3.94</td><td>11644</td></tr>",
                            "<tr><td>The House of Mirth</td><td>Edith Wharton, Nina Bawden</td><td>3.94</td><td>11644</td></tr>",
                            "<tr><td>The Bean Trees (Greer Family, #1)</td><td>Barbara Kingsolver</td><td>3.94</td><td>11644</td></tr>",
                            "<tr><td>Dragon Prince (Dragon Prince, #1)</td><td>Melanie Rawn</td><td>3.94</td><td>11644</td></tr>",
                            "<tr><td>Waiting to Exhale (Waiting To Exhale #1)</td><td>Terry McMillan</td><td>3.94</td><td>11644</td></tr>",
                            "<tr><td>Women of the Silk</td><td>Gail Tsukiyama</td><td>3.94</td><td>11644</td></tr>",
                            "<tr><td>Men Explain Things to Me</td><td>Rebecca Solnit</td><td>3.93</td><td>11644</td></tr>",
                            "<tr><td>Rachel's Holiday (Walsh Family, #2)</td><td>Marian Keyes</td><td>3.93</td><td>11644</td></tr>",
                            "<tr><td>Brokeback Mountain</td><td>Annie Proulx</td><td>3.93</td><td>11644</td></tr>",
                            "<tr><td>I Am Livia</td><td>Phyllis T. Smith</td><td>3.93</td><td>11644</td></tr>",
                            "<tr><td>Furiously Happy: A Funny Book About Horrible Things</td><td>Jenny  Lawson</td><td>3.93</td><td>11644</td></tr>",
                            "<tr><td>The Wayfarer Redemption (Wayfarer Redemption, #1)</td><td>Sara Douglass</td><td>3.93</td><td>11644</td></tr>",
                            "<tr><td>Portrait in Sepia</td><td>Isabel Allende, Margaret Sayers Peden</td><td>3.93</td><td>11644</td></tr>",
                            "<tr><td>Packing for Mars: The Curious Science of Life in the Void</td><td>Mary Roach</td><td>3.93</td><td>11644</td></tr>",
                            "<tr><td>Stone Mattress: Nine Tales</td><td>Margaret Atwood</td><td>3.93</td><td>11644</td></tr>",
                            "<tr><td>My Year of Meats</td><td>Ruth Ozeki</td><td>3.93</td><td>11644</td></tr>",
                            "<tr><td>White Oleander</td><td>Janet Fitch</td><td>3.93</td><td>11644</td></tr>",
                            "<tr><td>The Talented Mr. Ripley (Ripley, #1)</td><td>Patricia Highsmith</td><td>3.93</td><td>11644</td></tr>",
                            "<tr><td>The Price of Salt</td><td>Patricia Highsmith</td><td>3.93</td><td>11644</td></tr>",
                            "<tr><td>Out</td><td>Natsuo Kirino, Stephen Snyder</td><td>3.93</td><td>11644</td></tr>",
                            "<tr><td>The Age of Innocence</td><td>Edith Wharton, Maureen Howard</td><td>3.93</td><td>11644</td></tr>",
                            "<tr><td>Middlemarch</td><td>George Eliot, Michel Faber</td><td>3.93</td><td>11644</td></tr>",
                            "<tr><td>The Liars' Club</td><td>Mary Karr</td><td>3.92</td><td>11644</td></tr>",
                            "<tr><td>Cat's Eye</td><td>Margaret Atwood</td><td>3.92</td><td>11644</td></tr>",
                            "<tr><td>A God in Ruins</td><td>Kate Atkinson</td><td>3.92</td><td>11644</td></tr>",
                            "<tr><td>Sharp Objects</td><td>Gillian Flynn</td><td>3.92</td><td>11644</td></tr>",
                            "<tr><td>4:50 from Paddington (Miss Marple, #8)</td><td>Agatha Christie</td><td>3.92</td><td>11644</td></tr>",
                            "<tr><td>Good Wives (Little Women, #1.5)</td><td>Louisa May Alcott</td><td>3.92</td><td>11644</td></tr>",
                            "<tr><td>Through the Woods</td><td>Emily Carroll</td><td>3.92</td><td>11644</td></tr>",
                            "<tr><td>Bel Canto</td><td>Ann Patchett</td><td>3.92</td><td>11644</td></tr>",
                            "<tr><td>Le bleu est une couleur chaude</td><td>Julie Maroh</td><td>3.92</td><td>11644</td></tr>",
                            "<tr><td>Gulp: Adventures on the Alimentary Canal</td><td>Mary Roach</td><td>3.92</td><td>11644</td></tr>",
                            "<tr><td>My Cousin Rachel</td><td>Daphne du Maurier</td><td>3.92</td><td>11644</td></tr>",
                            "<tr><td>Homecoming (Tillerman Cycle, #1)</td><td>Cynthia Voigt</td><td>3.92</td><td>11644</td></tr>",
                            "<tr><td>Geisha, a Life</td><td>Mineko Iwasaki, Rande Brown</td><td>3.92</td><td>11644</td></tr>",
                            "<tr><td>Cold Comfort Farm</td><td>Stella Gibbons, Lynne Truss, Roz Chast</td><td>3.92</td><td>11644</td></tr>",
                            "<tr><td>Heartsick (Archie Sheridan &amp; Gretchen Lowell, #1)</td><td>Chelsea Cain</td><td>3.92</td><td>11644</td></tr>",
                            "<tr><td>What We Keep </td><td>Elizabeth Berg</td><td>3.91</td><td>11644</td></tr>",
                            "<tr><td>Tar Baby</td><td>Toni Morrison</td><td>3.91</td><td>11644</td></tr>",
                            "<tr><td>The Tenant of Wildfell Hall</td><td>Anne Brontë, Stevie Davies</td><td>3.91</td><td>11644</td></tr>",
                            "<tr><td>The God of Small Things</td><td>Arundhati Roy</td><td>3.91</td><td>11644</td></tr>",
                            "<tr><td>Change of Heart</td><td>Jodi Picoult</td><td>3.91</td><td>11644</td></tr>",
                            "<tr><td>Bad Feminist</td><td>Roxane Gay</td><td>3.91</td><td>11644</td></tr>",
                            "<tr><td>The Round House</td><td>Louise Erdrich</td><td>3.91</td><td>11644</td></tr>",
                            "<tr><td>Whose Body?  (Lord Peter Wimsey, #1)</td><td>Dorothy L. Sayers</td><td>3.91</td><td>11644</td></tr>",
                            "<tr><td>The History of Love</td><td>Nicole Krauss</td><td>3.91</td><td>11644</td></tr>",
                            "<tr><td>The Gift</td><td>Danielle Steel</td><td>3.91</td><td>11644</td></tr>",
                            "<tr><td>Inés of My Soul</td><td>Isabel Allende, Margaret Sayers Peden</td><td>3.9</td><td>11644</td></tr>",
                            "<tr><td>Hercule Poirot's Christmas (Hercule Poirot, #20)</td><td>Agatha Christie</td><td>3.9</td><td>11644</td></tr>",
                            "<tr><td>The Joy Luck Club</td><td>Amy Tan</td><td>3.9</td><td>11644</td></tr>",
                            "<tr><td>The Partly Cloudy Patriot</td><td>Sarah Vowell, Katherine Streeter</td><td>3.9</td><td>11644</td></tr>",
                            "<tr><td>Girl, Interrupted</td><td>Susanna Kaysen</td><td>3.9</td><td>11644</td></tr>",
                            "<tr><td>Ordinary People</td><td>Judith Guest</td><td>3.9</td><td>11644</td></tr>",
                            "<tr><td>The Sea, the Sea</td><td>Iris Murdoch, Mary Kinzie</td><td>3.9</td><td>11644</td></tr>",
                            "<tr><td>Fledgling</td><td>Octavia E. Butler</td><td>3.9</td><td>11644</td></tr>",
                            "<tr><td>The Tail of Emily Windsnap (Emily Windsnap, #1)</td><td>Liz Kessler, Sarah Gibb</td><td>3.89</td><td>11644</td></tr>",
                            "<tr><td>The Haunting of Hill House</td><td>Shirley Jackson, Laura   Miller</td><td>3.89</td><td>11644</td></tr>",
                            "<tr><td>Tehanu (Earthsea Cycle, #4)</td><td>Ursula K. Le Guin</td><td>3.89</td><td>11644</td></tr>",
                            "<tr><td>The Beauty Myth</td><td>Naomi Wolf</td><td>3.89</td><td>11644</td></tr>",
                            "<tr><td>Are You There God? It's Me, Margaret</td><td>Judy Blume</td><td>3.89</td><td>11644</td></tr>",
                            "<tr><td>Peril at End House (Hercule Poirot, #8)</td><td>Agatha Christie</td><td>3.89</td><td>11644</td></tr>",
                            "<tr><td>That Was Then, This Is Now</td><td>S.E. Hinton</td><td>3.89</td><td>11644</td></tr>",
                            "<tr><td>Daughter of Fortune</td><td>Isabel Allende, Margaret Sayers Peden</td><td>3.89</td><td>11644</td></tr>",
                            "<tr><td>Relish: My Life in the Kitchen</td><td>Lucy Knisley</td><td>3.89</td><td>11644</td></tr>",
                            "<tr><td>The Mirror Crack'd from Side to Side (Miss Marple, #9)</td><td>Agatha Christie</td><td>3.89</td><td>11644</td></tr>",
                            "<tr><td>The Beet Queen</td><td>Louise Erdrich</td><td>3.89</td><td>11644</td></tr>",
                            "<tr><td>Why Not Me?</td><td>Mindy Kaling</td><td>3.89</td><td>11644</td></tr>",
                            "<tr><td>Wise Blood</td><td>Flannery O'Connor</td><td>3.88</td><td>11644</td></tr>",
                            "<tr><td>Death Comes for the Archbishop</td><td>Willa Cather</td><td>3.88</td><td>11644</td></tr>",
                            "<tr><td>The Diary of Frida Kahlo: An Intimate Self-Portrait</td><td>Frida Kahlo, Carlos Fuentes, Sarah M. Lowe</td><td>3.88</td><td>11644</td></tr>",
                            "<tr><td>Possession</td><td>A.S. Byatt</td><td>3.88</td><td>11644</td></tr>",
                            "<tr><td>Cunt: A Declaration of Independence</td><td>Inga Muscio, Betty Dodson</td><td>3.88</td><td>11644</td></tr>",
                            "<tr><td>The Mammoth Hunters (Earth's Children, #3)</td><td>Jean M. Auel</td><td>3.88</td><td>11644</td></tr>",
                            "<tr><td>Hunger Makes Me a Modern Girl</td><td>Carrie Brownstein</td><td>3.88</td><td>11644</td></tr>",
                            "<tr><td>My Brilliant Friend (The Neapolitan Novels #1)</td><td>Elena Ferrante, Ann Goldstein</td><td>3.88</td><td>11644</td></tr>",
                            "<tr><td>Anya's Ghost</td><td>Vera Brosgol</td><td>3.88</td><td>11644</td></tr>",
                            "<tr><td>Rubyfruit Jungle</td><td>Rita Mae Brown</td><td>3.88</td><td>11644</td></tr>",
                            "<tr><td>Their Eyes Were Watching God</td><td>Zora Neale Hurston</td><td>3.87</td><td>11644</td></tr>",
                            "<tr><td>Another Brooklyn</td><td>Jacqueline Woodson</td><td>3.87</td><td>11644</td></tr>",
                            "<tr><td>Empress Orchid (Empress Orchid, #1)</td><td>Anchee Min</td><td>3.87</td><td>11644</td></tr>",
                            "<tr><td>Molly Moon's Incredible Book of Hypnotism (Molly Moon, #1)</td><td>Georgia Byng</td><td>3.87</td><td>11644</td></tr>",
                            "<tr><td>The Goldfinch</td><td>Donna Tartt</td><td>3.87</td><td>11644</td></tr>",
                            "<tr><td>Dawn (Cutler, #1)</td><td>V.C. Andrews</td><td>3.87</td><td>11644</td></tr>",
                            "<tr><td>Five Days at Memorial: Life and Death in a Storm-Ravaged Hospital</td><td>Sheri  Fink</td><td>3.87</td><td>11644</td></tr>",
                            "<tr><td>Pretend You Don't See Her</td><td>Mary Higgins Clark</td><td>3.86</td><td>11644</td></tr>",
                            "<tr><td>The Passion of Artemisia</td><td>Susan Vreeland</td><td>3.86</td><td>11644</td></tr>",
                            "<tr><td>My Stroke of Insight: A Brain Scientist's Personal Journey</td><td>Jill Bolte Taylor</td><td>3.86</td><td>11644</td></tr>",
                            "<tr><td>The Vagina Monologues</td><td>Eve Ensler, Gloria Steinem</td><td>3.86</td><td>11644</td></tr>",
                            "<tr><td>Take the Cannoli</td><td>Sarah Vowell</td><td>3.86</td><td>11644</td></tr>",
                            "<tr><td>Sula</td><td>Toni Morrison</td><td>3.86</td><td>11644</td></tr>",
                            "<tr><td>An Acceptable Time (A Wrinkle in Time Quintet, #5)</td><td>Madeleine L'Engle</td><td>3.86</td><td>11644</td></tr>",
                            "<tr><td>Breath, Eyes, Memory</td><td>Edwidge Danticat</td><td>3.86</td><td>11644</td></tr>",
                            "<tr><td>The Queen of the Damned (The Vampire Chronicles, #3)</td><td>Anne Rice</td><td>3.86</td><td>11644</td></tr>",
                            "<tr><td>The Year of Magical Thinking</td><td>Joan Didion</td><td>3.86</td><td>11644</td></tr>",
                            "<tr><td>Play It as It Lays</td><td>Joan Didion, David Thomson</td><td>3.86</td><td>11644</td></tr>",
                            "<tr><td>LaRose</td><td>Louise Erdrich</td><td>3.86</td><td>11644</td></tr>",
                            "<tr><td>No Logo</td><td>Naomi Klein</td><td>3.86</td><td>11644</td></tr>",
                            "<tr><td>Orlando</td><td>Virginia Woolf</td><td>3.86</td><td>11644</td></tr>",
                            "<tr><td>The Feminine Mystique</td><td>Betty Friedan, Anna Quindlen</td><td>3.85</td><td>11644</td></tr>",
                            "<tr><td>Girl with a Pearl Earring</td><td>Tracy Chevalier</td><td>3.85</td><td>11644</td></tr>",
                            "<tr><td>Looking for Alibrandi</td><td>Melina Marchetta</td><td>3.85</td><td>11644</td></tr>",
                            "<tr><td>Over Sea, Under Stone (The Dark Is Rising, #1)</td><td>Susan Cooper</td><td>3.85</td><td>11644</td></tr>",
                            "<tr><td>The Ladies of Grace Adieu and Other Stories</td><td>Susanna Clarke, Charles Vess</td><td>3.85</td><td>11644</td></tr>",
                            "<tr><td>Wolf Hall (Thomas Cromwell, #1)</td><td>Hilary Mantel</td><td>3.85</td><td>11644</td></tr>",
                            "<tr><td>I Never Promised You a Rose Garden</td><td>Hannah  Green, Joanne Greenberg</td><td>3.85</td><td>11644</td></tr>",
                            "<tr><td>The Body in the Library (Miss Marple, #3)</td><td>Agatha Christie</td><td>3.85</td><td>11644</td></tr>",
                            "<tr><td>Jamaica Inn</td><td>Daphne du Maurier</td><td>3.85</td><td>11644</td></tr>",
                            "<tr><td>The Book of Unknown Americans</td><td>Cristina Henriquez</td><td>3.85</td><td>11644</td></tr>",
                            "<tr><td>Cranford</td><td>Elizabeth Gaskell</td><td>3.85</td><td>11644</td></tr>",
                            "<tr><td>The Fountainhead</td><td>Ayn Rand, Leonard Peikoff</td><td>3.85</td><td>11644</td></tr>",
                            "<tr><td>The Moving Finger (Miss Marple, #4)</td><td>Agatha Christie</td><td>3.84</td><td>11644</td></tr>",
                            "<tr><td>Alif the Unseen</td><td>G. Willow Wilson</td><td>3.84</td><td>11644</td></tr>",
                            "<tr><td>After the Funeral (Hercule Poirot, #29)</td><td>Agatha Christie</td><td>3.84</td><td>11644</td></tr>",
                            "<tr><td>Tales of a Female Nomad: Living at Large in the World</td><td>Rita Golden Gelman</td><td>3.84</td><td>11644</td></tr>",
                            "<tr><td>Nemesis (Miss Marple, #12)</td><td>Agatha Christie</td><td>3.84</td><td>11644</td></tr>",
                            "<tr><td>The Stone Diaries</td><td>Carol Shields</td><td>3.84</td><td>11644</td></tr>",
                            "<tr><td>Commonwealth</td><td>Ann Patchett</td><td>3.84</td><td>11644</td></tr>",
                            "<tr><td>The Cat Who Could Read Backwards (Cat Who..., #1)</td><td>Lilian Jackson Braun</td><td>3.84</td><td>11644</td></tr>",
                            "<tr><td>Is Everyone Hanging Out Without Me? (And Other Concerns)</td><td>Mindy Kaling</td><td>3.84</td><td>11644</td></tr>",
                            "<tr><td>Euphoria</td><td>Lily King</td><td>3.84</td><td>11644</td></tr>",
                            "<tr><td>Gilead (Gilead, #1)</td><td>Marilynne Robinson</td><td>3.84</td><td>11644</td></tr>",
                            "<tr><td>On Photography</td><td>Susan Sontag</td><td>3.84</td><td>11644</td></tr>",
                            "<tr><td>Welcome to the World, Baby Girl! (Elmwood Springs, #1)</td><td>Fannie Flagg</td><td>3.84</td><td>11644</td></tr>",
                            "<tr><td>Mansfield Park</td><td>Jane Austen, Kathryn Sutherland, Tony Tanner, Claire Lamont</td><td>3.84</td><td>11644</td></tr>",
                            "<tr><td>O Pioneers!</td><td>Willa Cather</td><td>3.84</td><td>11644</td></tr>",
                            "<tr><td>1,000 Places to See Before You Die</td><td>Patricia Schultz</td><td>3.83</td><td>11644</td></tr>",
                            "<tr><td>You'll Grow Out of It</td><td>Jessi Klein</td><td>3.83</td><td>11644</td></tr>",
                            "<tr><td>Kitchen</td><td>Banana Yoshimoto, Megan Backus</td><td>3.83</td><td>11644</td></tr>",
                            "<tr><td>Five Quarters of the Orange</td><td>Joanne Harris</td><td>3.83</td><td>11644</td></tr>",
                            "<tr><td>Bonk: The Curious Coupling of Science and Sex</td><td>Mary Roach</td><td>3.83</td><td>11644</td></tr>",
                            "<tr><td>Unbearable Lightness: A Story of Loss and Gain</td><td>Portia de Rossi</td><td>3.83</td><td>11644</td></tr>",
                            "<tr><td>Uncle Tom's Cabin</td><td>Harriet Beecher Stowe</td><td>3.83</td><td>11644</td></tr>",
                            "<tr><td>Sexing the Cherry</td><td>Jeanette Winterson</td><td>3.83</td><td>11644</td></tr>",
                            "<tr><td>The Shipping News</td><td>Annie Proulx</td><td>3.83</td><td>11644</td></tr>",
                            "<tr><td>Suite Française</td><td>Irène Némirovsky, Sandra Smith</td><td>3.82</td><td>11644</td></tr>",
                            "<tr><td>Embroideries</td><td>Marjane Satrapi, Anjali Singh</td><td>3.82</td><td>11644</td></tr>",
                            "<tr><td>Life and Other Near-Death Experiences</td><td>Camille Pagán</td><td>3.82</td><td>11644</td></tr>",
                            "<tr><td>Z: A Novel of Zelda Fitzgerald</td><td>Therese Anne Fowler</td><td>3.82</td><td>11644</td></tr>",
                            "<tr><td>The Lowland</td><td>Jhumpa Lahiri</td><td>3.82</td><td>11644</td></tr>",
                            "<tr><td>The Opposite of Loneliness: Essays and Stories</td><td>Marina Keegan</td><td>3.82</td><td>11644</td></tr>",
                            "<tr><td>Dinner at the Homesick Restaurant</td><td>Anne Tyler</td><td>3.82</td><td>11644</td></tr>",
                            "<tr><td>Too Much Happiness</td><td>Alice Munro</td><td>3.82</td><td>11644</td></tr>",
                            "<tr><td>Housekeeping</td><td>Marilynne Robinson</td><td>3.82</td><td>11644</td></tr>",
                            "<tr><td>Cat Among the Pigeons (Hercule Poirot, #32)</td><td>Agatha Christie</td><td>3.82</td><td>11644</td></tr>",
                            "<tr><td>The Robber Bride</td><td>Margaret Atwood</td><td>3.82</td><td>11644</td></tr>",
                            "<tr><td>Daniel Deronda</td><td>George Eliot, Edmund White</td><td>3.82</td><td>11644</td></tr>",
                            "<tr><td>Strangers on a Train</td><td>Patricia Highsmith</td><td>3.82</td><td>11644</td></tr>",
                            "<tr><td>Spark Joy: An Illustrated Master Class on the Art of Organizing and Tidying Up</td><td>Marie Kondō</td><td>3.82</td><td>11644</td></tr>",
                            "<tr><td>Wuthering Heights</td><td>Emily Brontë, Richard J. Dunn</td><td>3.82</td><td>11644</td></tr>",
                            "<tr><td>No One Belongs Here More Than You</td><td>Miranda July</td><td>3.81</td><td>11644</td></tr>",
                            "<tr><td>Seeds of Yesterday (Dollanganger, #4)</td><td>V.C. Andrews</td><td>3.81</td><td>11644</td></tr>",
                            "<tr><td>Death at La Fenice (Commissario Brunetti, #1)</td><td>Donna Leon</td><td>3.81</td><td>11644</td></tr>",
                            "<tr><td>The Signature of All Things</td><td>Elizabeth Gilbert</td><td>3.81</td><td>11644</td></tr>",
                            "<tr><td>Remarkable Creatures </td><td>Tracy Chevalier</td><td>3.81</td><td>11644</td></tr>",
                            "<tr><td>Yes Please</td><td>Amy Poehler</td><td>3.81</td><td>11644</td></tr>",
                            "<tr><td>The Rapture of Canaan</td><td>Sheri Reynolds</td><td>3.8</td><td>11644</td></tr>",
                            "<tr><td>Jonathan Strange &amp; Mr Norrell</td><td>Susanna Clarke</td><td>3.8</td><td>11644</td></tr>",
                            "<tr><td>Is It Just Me?</td><td>Miranda Hart</td><td>3.8</td><td>11644</td></tr>",
                            "<tr><td>Passing</td><td>Nella Larsen, Ntozake Shange, Thadious M. Davis</td><td>3.8</td><td>11644</td></tr>",
                            "<tr><td>The Japanese Lover</td><td>Isabel Allende, Nick Caistor, Amanda Hopkinson</td><td>3.8</td><td>11644</td></tr>",
                            "<tr><td>The Murder on the Links (Hercule Poirot, #2)</td><td>Agatha Christie</td><td>3.8</td><td>11644</td></tr>",
                            "<tr><td>The Hundred Thousand Kingdoms (Inheritance Trilogy, #1)</td><td>N.K. Jemisin</td><td>3.8</td><td>11644</td></tr>",
                            "<tr><td>Northanger Abbey</td><td>Jane Austen, Alfred MacAdam</td><td>3.8</td><td>11644</td></tr>",
                            "<tr><td>Salem Falls</td><td>Jodi Picoult</td><td>3.8</td><td>11644</td></tr>",
                            "<tr><td>Spindle's End</td><td>Robin McKinley</td><td>3.79</td><td>11644</td></tr>",
                            "<tr><td>Watermelon (Walsh Family, #1)</td><td>Marian Keyes</td><td>3.79</td><td>11644</td></tr>",
                            "<tr><td>The Bastard of Istanbul</td><td>Elif Shafak</td><td>3.79</td><td>11644</td></tr>",
                            "<tr><td>The End of Mr. Y</td><td>Scarlett Thomas</td><td>3.79</td><td>11644</td></tr>",
                            "<tr><td>The Birth of Venus</td><td>Sarah Dunant</td><td>3.79</td><td>11644</td></tr>",
                            "<tr><td>One Good Turn (Jackson Brodie, #2)</td><td>Kate Atkinson</td><td>3.79</td><td>11644</td></tr>",
                            "<tr><td>Jazz</td><td>Toni Morrison</td><td>3.78</td><td>11644</td></tr>",
                            "<tr><td>A Map of the World</td><td>Jane Hamilton, Frank  Muller, C.J. Critt</td><td>3.78</td><td>11644</td></tr>",
                            "<tr><td>Blubber</td><td>Judy Blume</td><td>3.78</td><td>11644</td></tr>",
                            "<tr><td>Death in the Clouds (Hercule Poirot, #12)</td><td>Agatha Christie</td><td>3.78</td><td>11644</td></tr>",
                            "<tr><td>Last Chance Saloon</td><td>Marian Keyes</td><td>3.78</td><td>11644</td></tr>",
                            "<tr><td>Mrs. Dalloway</td><td>Virginia Woolf, Maureen Howard</td><td>3.78</td><td>11644</td></tr>",
                            "<tr><td>Everything I Never Told You</td><td>Celeste Ng</td><td>3.78</td><td>11644</td></tr>",
                            "<tr><td>Annabel (Delirium, #0.5)</td><td>Lauren Oliver</td><td>3.78</td><td>11644</td></tr>",
                            "<tr><td>Rumble Fish</td><td>S.E. Hinton</td><td>3.77</td><td>11644</td></tr>",
                            "<tr><td>The Other Side of the Story</td><td>Marian Keyes</td><td>3.77</td><td>11644</td></tr>",
                            "<tr><td>The Mill on the Floss</td><td>George Eliot, A.S. Byatt</td><td>3.77</td><td>11644</td></tr>",
                            "<tr><td>My Story</td><td>Elizabeth  Smart, Chris Stewart</td><td>3.77</td><td>11644</td></tr>",
                            "<tr><td>Lucky</td><td>Alice Sebold</td><td>3.77</td><td>11644</td></tr>",
                            "<tr><td>The Life-Changing Magic of Tidying Up: The Japanese Art of Decluttering and Organizing</td><td>Marie Kondō, Cathy Hirano</td><td>3.77</td><td>11644</td></tr>",
                            "<tr><td>Go Ask Alice</td><td>Beatrice Sparks, Anonymous</td><td>3.77</td><td>11644</td></tr>",
                            "<tr><td>Paradise</td><td>Toni Morrison</td><td>3.77</td><td>11644</td></tr>",
                            "<tr><td>Beloved</td><td>Toni Morrison</td><td>3.77</td><td>11644</td></tr>",
                            "<tr><td>Adam Bede</td><td>George Eliot, Joanna Trollope, Hugh Osborne</td><td>3.77</td><td>11644</td></tr>",
                            "<tr><td>The Mystery of the Blue Train (Hercule Poirot, #6)</td><td>Agatha Christie</td><td>3.77</td><td>11644</td></tr>",
                            "<tr><td>The Lovely Bones</td><td>Alice Sebold</td><td>3.77</td><td>11644</td></tr>",
                            "<tr><td>My Ántonia</td><td>Willa Cather</td><td>3.76</td><td>11644</td></tr>",
                            "<tr><td>To the Lighthouse</td><td>Virginia Woolf</td><td>3.76</td><td>11644</td></tr>",
                            "<tr><td>Under the Net</td><td>Iris Murdoch</td><td>3.76</td><td>11644</td></tr>",
                            "<tr><td>The Lover</td><td>Marguerite Duras, Barbara Bray, Maxine Hong Kingston</td><td>3.76</td><td>11644</td></tr>",
                            "<tr><td>The Prime of Miss Jean Brodie</td><td>Muriel Spark</td><td>3.76</td><td>11644</td></tr>",
                            "<tr><td>Please Look After Mom</td><td>Kyung-Sook Shin, 신경숙, Chi-Young Kim</td><td>3.76</td><td>11644</td></tr>",
                            "<tr><td>Blue Nights</td><td>Joan Didion</td><td>3.75</td><td>11644</td></tr>",
                            "<tr><td>Oranges Are Not the Only Fruit</td><td>Jeanette Winterson</td><td>3.75</td><td>11644</td></tr>",
                            "<tr><td>Zorro</td><td>Isabel Allende, Margaret Sayers Peden</td><td>3.75</td><td>11644</td></tr>",
                            "<tr><td>The Bloodletter's Daughter: A Novel of Old Bohemia</td><td>Linda Lafferty</td><td>3.75</td><td>11644</td></tr>",
                            "<tr><td>Living History</td><td>Hillary Rodham Clinton</td><td>3.75</td><td>11644</td></tr>",
                            "<tr><td>White Teeth</td><td>Zadie Smith</td><td>3.75</td><td>11644</td></tr>",
                            "<tr><td>Villette</td><td>Charlotte Brontë, A.S. Byatt, Μαρία Λαϊνά, Ignes Sodre</td><td>3.75</td><td>11644</td></tr>",
                            "<tr><td>Frankenstein</td><td>Mary Wollstonecraft Shelley, Percy Bysshe Shelley, Maurice Hindle</td><td>3.75</td><td>11644</td></tr>",
                            "<tr><td>The Golden Notebook</td><td>Doris Lessing</td><td>3.75</td><td>11644</td></tr>",
                            "<tr><td>Bridget Jones's Diary (Bridget Jones, #1)</td><td>Helen Fielding</td><td>3.75</td><td>11644</td></tr>",
                            "<tr><td>This Charming Man</td><td>Marian Keyes</td><td>3.75</td><td>11644</td></tr>",
                            "<tr><td>The Sisterhood of the Traveling Pants (Sisterhood, #1)</td><td>Ann Brashares</td><td>3.75</td><td>11644</td></tr>",
                            "<tr><td>Dear Life: Stories</td><td>Alice Munro</td><td>3.75</td><td>11644</td></tr>",
                            "<tr><td>H is for Hawk</td><td>Helen Macdonald</td><td>3.74</td><td>11644</td></tr>",
                            "<tr><td>One, Two, Buckle My Shoe (Hercule Poirot, #22)</td><td>Agatha Christie, Hugh Fraser</td><td>3.74</td><td>11644</td></tr>",
                            "<tr><td>In the Woods (Dublin Murder Squad, #1)</td><td>Tana French</td><td>3.74</td><td>11644</td></tr>",
                            "<tr><td>They Do It with Mirrors (Miss Marple, #6)</td><td>Agatha Christie</td><td>3.74</td><td>11644</td></tr>",
                            "<tr><td>Lies That Chelsea Handler Told Me</td><td>Chelsea Handler, Johnny Kansas, Stephanie Stehling, Heather McDonald, Roy Handler, Brad Wollack, Amber Mazzola, Josh Wolf, Shoshanna Handler, Eva Magdalenski, Amy Meyer, Glen Handler, Dave Mallow, Sarah Colonna</td><td>3.74</td><td>11644</td></tr>",
                            "<tr><td>The Illustrated Mum</td><td>Jacqueline Wilson, Nick Sharratt</td><td>3.74</td><td>11644</td></tr>",
                            "<tr><td>Affinity</td><td>Sarah Waters</td><td>3.73</td><td>11644</td></tr>",
                            "<tr><td> Angels (Walsh Family, #3)</td><td>Marian Keyes</td><td>3.73</td><td>11644</td></tr>",
                            "<tr><td>How to Be a Woman</td><td>Caitlin Moran</td><td>3.73</td><td>11644</td></tr>",
                            "<tr><td>Ceremony</td><td>Leslie Marmon Silko</td><td>3.73</td><td>11644</td></tr>",
                            "<tr><td>Nick &amp; Norah's Infinite Playlist</td><td>Rachel Cohn, David Levithan</td><td>3.73</td><td>11644</td></tr>",
                            "<tr><td>Lady Audley's Secret</td><td>Mary Elizabeth Braddon</td><td>3.73</td><td>11644</td></tr>",
                            "<tr><td>Memnoch the Devil (The Vampire Chronicles, #5)</td><td>Anne Rice</td><td>3.73</td><td>11644</td></tr>",
                            "<tr><td>Sickened: The Memoir of a Munchausen by Proxy Childhood</td><td>Julie Gregory</td><td>3.72</td><td>11644</td></tr>",
                            "<tr><td>Dept. of Speculation</td><td>Jenny Offill</td><td>3.72</td><td>11644</td></tr>",
                            "<tr><td>A Raisin in the Sun</td><td>Lorraine Hansberry</td><td>3.72</td><td>11644</td></tr>",
                            "<tr><td>Seriously... I'm Kidding</td><td>Ellen DeGeneres</td><td>3.72</td><td>11644</td></tr>",
                            "<tr><td>Stupeur et tremblements</td><td>Amélie Nothomb</td><td>3.72</td><td>11644</td></tr>",
                            "<tr><td>The Woman Warrior</td><td>Maxine Hong Kingston</td><td>3.72</td><td>11644</td></tr>",
                            "<tr><td>We Are All Completely Beside Ourselves</td><td>Karen Joy Fowler</td><td>3.71</td><td>11644</td></tr>",
                            "<tr><td>Wishful Drinking</td><td>Carrie Fisher</td><td>3.71</td><td>11644</td></tr>",
                            "<tr><td>Shirley</td><td>Charlotte Brontë, Lucasta Miller, collaborative, Jessica Cox</td><td>3.71</td><td>11644</td></tr>",
                            "<tr><td>We Need New Names</td><td>NoViolet Bulawayo</td><td>3.71</td><td>11644</td></tr>",
                            "<tr><td>The Clocks (Hercule Poirot, #34)</td><td>Agatha Christie, Robin Bailey</td><td>3.71</td><td>11644</td></tr>",
                            "<tr><td>Home</td><td>Toni Morrison</td><td>3.71</td><td>11644</td></tr>",
                            "<tr><td>The Luminaries</td><td>Eleanor Catton</td><td>3.7</td><td>11644</td></tr>",
                            "<tr><td>God Help the Child</td><td>Toni Morrison</td><td>3.7</td><td>11644</td></tr>",
                            "<tr><td>Mary Barton</td><td>Elizabeth Gaskell, Shirley Foster</td><td>3.7</td><td>11644</td></tr>",
                            "<tr><td>We Were the Mulvaneys</td><td>Joyce Carol Oates</td><td>3.7</td><td>11644</td></tr>",
                            "<tr><td>At Bertram's Hotel (Miss Marple, #11)</td><td>Agatha Christie</td><td>3.7</td><td>11644</td></tr>",
                            "<tr><td>The Tale of the Body Thief (The Vampire Chronicles, #4)</td><td>Anne Rice</td><td>3.7</td><td>11644</td></tr>",
                            "<tr><td>Elizabeth Is Missing</td><td>Emma Healey</td><td>3.7</td><td>11644</td></tr>",
                            "<tr><td>Special Topics in Calamity Physics</td><td>Marisha Pessl</td><td>3.7</td><td>11644</td></tr>",
                            "<tr><td>Wave</td><td>Sonali Deraniyagala</td><td>3.7</td><td>11644</td></tr>",
                            "<tr><td>When the Emperor Was Divine</td><td>Julie Otsuka</td><td>3.7</td><td>11644</td></tr>",
                            "<tr><td>Valley of the Dolls</td><td>Jacqueline Susann</td><td>3.7</td><td>11644</td></tr>",
                            "<tr><td>What Looks Like Crazy on an Ordinary Day (Idlewild, #1)</td><td>Pearl Cleage</td><td>3.7</td><td>11644</td></tr>",
                            "<tr><td>Orange Is the New Black</td><td>Piper Kerman</td><td>3.7</td><td>11644</td></tr>",
                            "<tr><td>The Story of Tracy Beaker</td><td>Jacqueline Wilson, Nick Sharratt</td><td>3.69</td><td>11644</td></tr>",
                            "<tr><td>Sushi for Beginners</td><td>Marian Keyes</td><td>3.69</td><td>11644</td></tr>",
                            "<tr><td>What Was She Thinking? [Notes on a Scandal]</td><td>Zoë Heller</td><td>3.69</td><td>11644</td></tr>",
                            "<tr><td>How to Build a Girl</td><td>Caitlin Moran</td><td>3.69</td><td>11644</td></tr>",
                            "<tr><td>The Children of Men</td><td>P.D. James</td><td>3.69</td><td>11644</td></tr>",
                            "<tr><td>Thanks for the Memories</td><td>Cecelia Ahern</td><td>3.69</td><td>11644</td></tr>",
                            "<tr><td>Double Act</td><td>Jacqueline Wilson, Nick Sharratt, Sue Heap</td><td>3.69</td><td>11644</td></tr>",
                            "<tr><td>Delta of Venus</td><td>Anaïs Nin</td><td>3.69</td><td>11644</td></tr>",
                            "<tr><td>Slammerkin</td><td>Emma Donoghue</td><td>3.69</td><td>11644</td></tr>",
                            "<tr><td>Legally Blonde</td><td>Amanda Brown</td><td>3.68</td><td>11644</td></tr>",
                            "<tr><td>The Woman in Black</td><td>Susan Hill, John Lawrence</td><td>3.68</td><td>11644</td></tr>",
                            "<tr><td>Rachael Ray 365: No Repeats: A Year of Deliciously Different Dinners</td><td>Rachael Ray</td><td>3.68</td><td>11644</td></tr>",
                            "<tr><td>On Beauty</td><td>Zadie Smith</td><td>3.68</td><td>11644</td></tr>",
                            "<tr><td>Open House</td><td>Elizabeth Berg</td><td>3.68</td><td>11644</td></tr>",
                            "<tr><td>Icy Sparks</td><td>Gwyn Hyman Rubio</td><td>3.68</td><td>11644</td></tr>",
                            "<tr><td>Mother of Pearl</td><td>Melinda Haynes</td><td>3.67</td><td>11644</td></tr>",
                            "<tr><td>When God Was a Rabbit</td><td>Sarah Winman</td><td>3.67</td><td>11644</td></tr>",
                            "<tr><td>Vampires in the Lemon Grove</td><td>Karen Russell</td><td>3.67</td><td>11644</td></tr>",
                            "<tr><td>The Lady and the Unicorn</td><td>Tracy Chevalier</td><td>3.67</td><td>11644</td></tr>",
                            "<tr><td>This One Summer</td><td>Mariko Tamaki, Jillian Tamaki</td><td>3.67</td><td>11644</td></tr>",
                            "<tr><td>The Night Sister</td><td>Jennifer McMahon</td><td>3.67</td><td>11644</td></tr>",
                            "<tr><td>The Bees</td><td>Laline Paull</td><td>3.67</td><td>11644</td></tr>",
                            "<tr><td>The Edible Woman</td><td>Margaret Atwood</td><td>3.67</td><td>11644</td></tr>",
                            "<tr><td>Hallowe'en Party (Hercule Poirot, #36)</td><td>Agatha Christie</td><td>3.66</td><td>11644</td></tr>",
                            "<tr><td>The Princess Diarist</td><td>Carrie Fisher</td><td>3.66</td><td>11644</td></tr>",
                            "<tr><td>The Penelopiad</td><td>Margaret Atwood</td><td>3.66</td><td>11644</td></tr>",
                            "<tr><td>The Book of Tomorrow</td><td>Cecelia Ahern</td><td>3.66</td><td>11644</td></tr>",
                            "<tr><td>Are You My Mother?</td><td>Alison Bechdel</td><td>3.66</td><td>11644</td></tr>",
                            "<tr><td>A Place Called Here</td><td>Cecelia Ahern</td><td>3.66</td><td>11644</td></tr>",
                            "<tr><td>Wonderful Tonight</td><td>Pattie Boyd, Penny Junor</td><td>3.65</td><td>11644</td></tr>",
                            "<tr><td>Agnes Grey</td><td>Anne Brontë, Angeline Goreau</td><td>3.65</td><td>11644</td></tr>",
                            "<tr><td>I Feel Bad about My Neck: And Other Thoughts on Being a Woman</td><td>Nora Ephron</td><td>3.65</td><td>11644</td></tr>",
                            "<tr><td>The Virgin Blue</td><td>Tracy Chevalier</td><td>3.65</td><td>11644</td></tr>",
                            "<tr><td>The Wonder</td><td>Emma Donoghue</td><td>3.65</td><td>11644</td></tr>",
                            "<tr><td>A Mercy</td><td>Toni Morrison</td><td>3.65</td><td>11644</td></tr>",
                            "<tr><td>Cinderella Ate My Daughter: Dispatches from the Frontlines of the New Girlie-Girl Culture</td><td>Peggy Orenstein</td><td>3.65</td><td>11644</td></tr>",
                            "<tr><td>The Memory Keeper's Daughter</td><td>Kim Edwards</td><td>3.64</td><td>11644</td></tr>",
                            "<tr><td>A Visit from the Goon Squad</td><td>Jennifer Egan</td><td>3.64</td><td>11644</td></tr>",
                            "<tr><td>The Turner House</td><td>Angela Flournoy</td><td>3.64</td><td>11644</td></tr>",
                            "<tr><td>The Age of Miracles</td><td>Karen Thompson Walker</td><td>3.64</td><td>11644</td></tr>",
                            "<tr><td>A Complicated Kindness</td><td>Miriam Toews</td><td>3.64</td><td>11644</td></tr>",
                            "<tr><td>Kabul Beauty School: An American Woman Goes Behind the Veil</td><td>Deborah Rodriguez</td><td>3.63</td><td>11644</td></tr>",
                            "<tr><td>Half Blood Blues</td><td>Esi Edugyan</td><td>3.63</td><td>11644</td></tr>",
                            "<tr><td>The Awakening</td><td>Kate Chopin</td><td>3.63</td><td>11644</td></tr>",
                            "<tr><td>Uganda Be Kidding Me</td><td>Chelsea Handler</td><td>3.63</td><td>11644</td></tr>",
                            "<tr><td>The Weight of Water</td><td>Anita Shreve</td><td>3.62</td><td>11644</td></tr>",
                            "<tr><td>How the García Girls Lost Their Accents </td><td>Julia Alvarez</td><td>3.62</td><td>11644</td></tr>",
                            "<tr><td>The Empathy Exams: Essays</td><td>Leslie Jamison</td><td>3.62</td><td>11644</td></tr>",
                            "<tr><td>Anthem</td><td>Ayn Rand</td><td>3.62</td><td>11644</td></tr>",
                            "<tr><td>Bonjour tristesse</td><td>Françoise Sagan</td><td>3.62</td><td>11644</td></tr>",
                            "<tr><td>The Beach House</td><td>Jane Green</td><td>3.62</td><td>11644</td></tr>",
                            "<tr><td>Elephants Can Remember (Hercule Poirot, #37)</td><td>Agatha Christie</td><td>3.62</td><td>11644</td></tr>",
                            "<tr><td>How to Be Both</td><td>Ali Smith</td><td>3.61</td><td>11644</td></tr>",
                            "<tr><td>Battle Hymn of the Tiger Mother</td><td>Amy Chua</td><td>3.61</td><td>11644</td></tr>",
                            "<tr><td>Swing Time</td><td>Zadie Smith</td><td>3.6</td><td>11644</td></tr>",
                            "<tr><td>Unfamiliar Fishes</td><td>Sarah Vowell</td><td>3.6</td><td>11644</td></tr>",
                            "<tr><td>Nickel and Dimed: On (Not) Getting By in America</td><td>Barbara Ehrenreich</td><td>3.6</td><td>11644</td></tr>",
                            "<tr><td>The Big Four (Hercule Poirot, #5)</td><td>Agatha Christie</td><td>3.6</td><td>11644</td></tr>",
                            "<tr><td>Silas Marner</td><td>George Eliot</td><td>3.6</td><td>11644</td></tr>",
                            "<tr><td>The Vegetarian</td><td>Han Kang, Deborah     Smith</td><td>3.59</td><td>11644</td></tr>",
                            "<tr><td>The Buddha in the Attic</td><td>Julie Otsuka</td><td>3.59</td><td>11644</td></tr>",
                            "<tr><td>Broken Monsters</td><td>Lauren Beukes</td><td>3.59</td><td>11644</td></tr>",
                            "<tr><td>The Monsters of Templeton</td><td>Lauren Groff</td><td>3.58</td><td>11644</td></tr>",
                            "<tr><td>The Miniaturist</td><td>Jessie Burton</td><td>3.58</td><td>11644</td></tr>",
                            "<tr><td>The First Bad Man</td><td>Miranda July</td><td>3.58</td><td>11644</td></tr>",
                            "<tr><td>Girl in a Band</td><td>Kim Gordon</td><td>3.58</td><td>11644</td></tr>",
                            "<tr><td>The Versions of Us</td><td>Laura  Barnett</td><td>3.57</td><td>11644</td></tr>",
                            "<tr><td>Spook: Science Tackles the Afterlife</td><td>Mary Roach</td><td>3.57</td><td>11644</td></tr>",
                            "<tr><td>Heartburn</td><td>Nora Ephron</td><td>3.57</td><td>11644</td></tr>",
                            "<tr><td>Girl Walks into a Bar . . .: Comedy Calamities, Dating Disasters, and a Midlife Miracle</td><td>Rachel Dratch</td><td>3.57</td><td>11644</td></tr>",
                            "<tr><td>The House on Mango Street</td><td>Sandra Cisneros</td><td>3.57</td><td>11644</td></tr>",
                            "<tr><td>Hard Choices</td><td>Hillary Rodham Clinton</td><td>3.57</td><td>11644</td></tr>",
                            "<tr><td>Prozac Nation</td><td>Elizabeth Wurtzel</td><td>3.57</td><td>11644</td></tr>",
                            "<tr><td>Reading Lolita in Tehran</td><td>Azar Nafisi</td><td>3.57</td><td>11644</td></tr>",
                            "<tr><td>The Professor</td><td>Charlotte Brontë</td><td>3.56</td><td>11644</td></tr>",
                            "<tr><td>Fates and Furies</td><td>Lauren Groff</td><td>3.56</td><td>11644</td></tr>",
                            "<tr><td>Wide Sargasso Sea</td><td>Jean Rhys</td><td>3.56</td><td>11644</td></tr>",
                            "<tr><td>Lady Susan</td><td>Jane Austen, Robert William Chapman</td><td>3.56</td><td>11644</td></tr>",
                            "<tr><td>The Other Typist</td><td>Suzanne Rindell</td><td>3.55</td><td>11644</td></tr>",
                            "<tr><td>Falling Angels</td><td>Tracy Chevalier</td><td>3.55</td><td>11644</td></tr>",
                            "<tr><td>Candy Girl: A Year in the Life of an Unlikely Stripper</td><td>Diablo Cody</td><td>3.54</td><td>11644</td></tr>",
                            "<tr><td>The Interestings</td><td>Meg Wolitzer</td><td>3.54</td><td>11644</td></tr>",
                            "<tr><td>The Grownup</td><td>Gillian Flynn</td><td>3.54</td><td>11644</td></tr>",
                            "<tr><td>Bridget Jones: The Edge of Reason (Bridget Jones, #2)</td><td>Helen Fielding</td><td>3.53</td><td>11644</td></tr>",
                            "<tr><td>The Girl in the Red Coat</td><td>Kate Hamer</td><td>3.53</td><td>11644</td></tr>",
                            "<tr><td>Girls in Love (Girls, #1)</td><td>Jacqueline Wilson</td><td>3.53</td><td>11644</td></tr>",
                            "<tr><td>The Post-Birthday World</td><td>Lionel Shriver</td><td>3.52</td><td>11644</td></tr>",
                            "<tr><td>Holy Cow: An Indian Adventure</td><td>Sarah Macdonald</td><td>3.51</td><td>11644</td></tr>",
                            "<tr><td>The Girls</td><td>Emma Cline</td><td>3.49</td><td>11644</td></tr>",
                            "<tr><td>The Shining Girls</td><td>Lauren Beukes</td><td>3.49</td><td>11644</td></tr>",
                            "<tr><td>Happier at Home: Kiss More, Jump More, Abandon a Project, Read Samuel Johnson, and My Other Experiments in the Practice of Everyday Life</td><td>Gretchen Rubin, Käthe Mazur</td><td>3.48</td><td>11644</td></tr>",
                            "<tr><td>The Last Time They Met</td><td>Anita Shreve</td><td>3.48</td><td>11644</td></tr>",
                            "<tr><td>Paint it Black</td><td>Janet Fitch</td><td>3.47</td><td>11644</td></tr>",
                            "<tr><td>The Flamethrowers</td><td>Rachel Kushner</td><td>3.46</td><td>11644</td></tr>",
                            "<tr><td>The Dirty Girls Social Club (Dirty Girls, #1)</td><td>Alisa Valdes, Alisa Valdes-Rodriguez</td><td>3.46</td><td>11644</td></tr>",
                            "<tr><td>I Was Told There'd Be Cake</td><td>Sloane Crosley</td><td>3.45</td><td>11644</td></tr>",
                            "<tr><td>Surfacing</td><td>Margaret Atwood</td><td>3.45</td><td>11644</td></tr>",
                            "<tr><td>Great House</td><td>Nicole Krauss</td><td>3.45</td><td>11644</td></tr>",
                            "<tr><td>Scarlett</td><td>Alexandra Ripley</td><td>3.44</td><td>11644</td></tr>",
                            "<tr><td>Fear of Flying</td><td>Erica Jong</td><td>3.44</td><td>11644</td></tr>",
                            "<tr><td>The Keep</td><td>Jennifer Egan</td><td>3.43</td><td>11644</td></tr>",
                            "<tr><td>The Suspicions of Mr. Whicher: A Shocking Murder and the Undoing of a Great Victorian Detective</td><td>Kate Summerscale</td><td>3.43</td><td>11644</td></tr>",
                            "<tr><td>The Little Friend</td><td>Donna Tartt</td><td>3.43</td><td>11644</td></tr>",
                            "<tr><td>Vinegar Girl</td><td>Anne Tyler</td><td>3.42</td><td>11644</td></tr>",
                            "<tr><td>The Friday Night Knitting Club (Friday Night Knitting Club, #1)</td><td>Kate Jacobs</td><td>3.41</td><td>11644</td></tr>",
                            "<tr><td>Saving Fish from Drowning</td><td>Amy Tan</td><td>3.41</td><td>11644</td></tr>",
                            "<tr><td>The Inheritance of Loss</td><td>Kiran Desai</td><td>3.41</td><td>11644</td></tr>",
                            "<tr><td>NW</td><td>Zadie Smith</td><td>3.41</td><td>11644</td></tr>",
                            "<tr><td>Down the Rabbit Hole: Curious Adventures and Cautionary Tales of a Former Playboy Bunny</td><td>Holly Madison</td><td>3.4</td><td>11644</td></tr>",
                            "<tr><td>Big Brother</td><td>Lionel Shriver</td><td>3.4</td><td>11644</td></tr>",
                            "<tr><td>The Paying Guests</td><td>Sarah Waters</td><td>3.39</td><td>11644</td></tr>",
                            "<tr><td>Brick Lane</td><td>Monica Ali</td><td>3.38</td><td>11644</td></tr>",
                            "<tr><td>Eileen</td><td>Ottessa Moshfegh</td><td>3.38</td><td>11644</td></tr>",
                            "<tr><td>I Am Having So Much Fun Here Without You</td><td>Courtney Maum</td><td>3.37</td><td>11644</td></tr>",
                            "<tr><td>The Heart Goes Last</td><td>Margaret Atwood</td><td>3.37</td><td>11644</td></tr>",
                            "<tr><td>The Tiger's Wife</td><td>Téa Obreht</td><td>3.37</td><td>11644</td></tr>",
                            "<tr><td>Sex and the City</td><td>Candace Bushnell</td><td>3.37</td><td>11644</td></tr>",
                            "<tr><td>Prep</td><td>Curtis Sittenfeld</td><td>3.36</td><td>11644</td></tr>",
                            "<tr><td>Commencement </td><td>J. Courtney Sullivan</td><td>3.36</td><td>11644</td></tr>",
                            "<tr><td>Ethan Frome</td><td>Edith Wharton</td><td>3.35</td><td>11644</td></tr>",
                            "<tr><td>Boy, Snow, Bird</td><td>Helen Oyeyemi</td><td>3.34</td><td>11644</td></tr>",
                            "<tr><td>Story of O (Story of O #1)</td><td>Pauline Réage, Sabine d'Estree</td><td>3.34</td><td>11644</td></tr>",
                            "<tr><td>Tampa</td><td>Alissa Nutting</td><td>3.34</td><td>11644</td></tr>",
                            "<tr><td>Not That Kind of Girl: A Young Woman Tells You What She's &quot;Learned&quot;</td><td>Lena Dunham, Joana Avillez</td><td>3.33</td><td>11644</td></tr>",
                            "<tr><td>The Love Affairs of Nathaniel P.</td><td>Adelle Waldman</td><td>3.3</td><td>11644</td></tr>",
                            "<tr><td>The Postmistress</td><td>Sarah Blake, Orlagh Cassidy</td><td>3.3</td><td>11644</td></tr>",
                            "<tr><td>Sweetbitter</td><td>Stephanie Danler</td><td>3.28</td><td>11644</td></tr>",
                            "<tr><td>Hausfrau</td><td>Jill Alexander Essbaum</td><td>3.24</td><td>11644</td></tr>",
                            "<tr><td>Ripper</td><td>Isabel Allende, Oliver Brock, Frank Wynne</td><td>3.24</td><td>11644</td></tr>",
                            "<tr><td>California</td><td>Edan Lepucki</td><td>3.22</td><td>11644</td></tr>",
                            "<tr><td>Swamplandia!</td><td>Karen Russell</td><td>3.21</td><td>11644</td></tr>",
                            "<tr><td>The Lifeboat</td><td>Charlotte Rogan</td><td>3.2</td><td>11644</td></tr>",
                            "<tr><td>Today Will Be Different</td><td>Maria Semple</td><td>3.19</td><td>11644</td></tr>",
                            "<tr><td>The Particular Sadness of Lemon Cake</td><td>Aimee Bender</td><td>3.19</td><td>11644</td></tr>",
                            "<tr><td>Songs of the Humpback Whale</td><td>Jodi Picoult</td><td>3.19</td><td>11644</td></tr>",
                            "<tr><td>All He Ever Wanted</td><td>Anita Shreve</td><td>3.18</td><td>11644</td></tr>",
                            "<tr><td>The Autograph Man</td><td>Zadie Smith</td><td>3.14</td><td>11644</td></tr>",
                            "<tr><td>A Gate at the Stairs</td><td>Lorrie Moore</td><td>3.14</td><td>11644</td></tr>",
                            "<tr><td>Frog Music</td><td>Emma Donoghue</td><td>3.13</td><td>11644</td></tr>",
                            "<tr><td>The Emperor's Children</td><td>Claire Messud</td><td>2.93</td><td>11644</td></tr>",
                            "<tr><td>Four Blondes</td><td>Candace Bushnell</td><td>2.8</td><td>11644</td></tr>",
                            "<tr><td>The Almost Moon</td><td>Alice Sebold</td><td>2.67</td><td>11644</td></tr>",
                            "</table>"
                        ]
                    }
                }
            ],
            "execution_count": 28
        },
        {
            "cell_type": "markdown",
            "source": [
                "### **Record your thoughts about why you wrote the query the way you did.**"
            ],
            "metadata": {
                "azdata_cell_guid": "1e19a72c-1bca-446b-a0c7-a8efbc35dcf1"
            },
            "attachments": {}
        },
        {
            "cell_type": "markdown",
            "source": [
                "# Part 2: Choose Another Month\n",
                "\n",
                "Choose another month and plan at least 2 events / promotions and answer the following questions.\n",
                "\n",
                "Which month did you choose?  \n",
                "\n",
                "What 2 events / promotions are you highlighting?"
            ],
            "metadata": {
                "azdata_cell_guid": "3eaf376d-9de3-4553-a9d0-9caf74ee3d6a"
            },
            "attachments": {}
        },
        {
            "cell_type": "code",
            "source": [
                "SELECT TOP 10 t.tag_name, bt.tag_id, SUM(bt.count) AS BookToRead\r\n",
                "FROM BooksDB.dbo.book_tags AS bt\r\n",
                "INNER JOIN BooksDB.dbo.tags AS t\r\n",
                "ON bt.tag_id = t.tag_id\r\n",
                "GROUP BY t.tag_name, bt.tag_id\r\n",
                "HAVING t.tag_name like '%love%'\r\n",
                "ORDER BY BookToRead DESC"
            ],
            "metadata": {
                "azdata_cell_guid": "ffd53fc9-c6d1-4095-aa4c-fbcd348ef35d",
                "language": "sql"
            },
            "outputs": [
                {
                    "output_type": "display_data",
                    "data": {
                        "text/html": "(10 rows affected)"
                    },
                    "metadata": {}
                },
                {
                    "output_type": "display_data",
                    "data": {
                        "text/html": "Total execution time: 00:00:02.009"
                    },
                    "metadata": {}
                },
                {
                    "output_type": "execute_result",
                    "metadata": {},
                    "execution_count": 29,
                    "data": {
                        "application/vnd.dataresource+json": {
                            "schema": {
                                "fields": [
                                    {
                                        "name": "tag_name"
                                    },
                                    {
                                        "name": "tag_id"
                                    },
                                    {
                                        "name": "BookToRead"
                                    }
                                ]
                            },
                            "data": [
                                {
                                    "0": "love",
                                    "1": "18640",
                                    "2": "46686"
                                },
                                {
                                    "0": "love-triangle",
                                    "1": "18668",
                                    "2": "23758"
                                },
                                {
                                    "0": "loved",
                                    "1": "18680",
                                    "2": "13450"
                                },
                                {
                                    "0": "cover-love",
                                    "1": "8408",
                                    "2": "11761"
                                },
                                {
                                    "0": "friends-to-lovers",
                                    "1": "12598",
                                    "2": "8411"
                                },
                                {
                                    "0": "loved-it",
                                    "1": "18682",
                                    "2": "5756"
                                },
                                {
                                    "0": "enemies-to-lovers",
                                    "1": "10615",
                                    "2": "4132"
                                },
                                {
                                    "0": "love-stories",
                                    "1": "18663",
                                    "2": "3940"
                                },
                                {
                                    "0": "forbidden-love",
                                    "1": "12334",
                                    "2": "3901"
                                },
                                {
                                    "0": "love-story",
                                    "1": "18664",
                                    "2": "3878"
                                }
                            ]
                        },
                        "text/html": [
                            "<table>",
                            "<tr><th>tag_name</th><th>tag_id</th><th>BookToRead</th></tr>",
                            "<tr><td>love</td><td>18640</td><td>46686</td></tr>",
                            "<tr><td>love-triangle</td><td>18668</td><td>23758</td></tr>",
                            "<tr><td>loved</td><td>18680</td><td>13450</td></tr>",
                            "<tr><td>cover-love</td><td>8408</td><td>11761</td></tr>",
                            "<tr><td>friends-to-lovers</td><td>12598</td><td>8411</td></tr>",
                            "<tr><td>loved-it</td><td>18682</td><td>5756</td></tr>",
                            "<tr><td>enemies-to-lovers</td><td>10615</td><td>4132</td></tr>",
                            "<tr><td>love-stories</td><td>18663</td><td>3940</td></tr>",
                            "<tr><td>forbidden-love</td><td>12334</td><td>3901</td></tr>",
                            "<tr><td>love-story</td><td>18664</td><td>3878</td></tr>",
                            "</table>"
                        ]
                    }
                }
            ],
            "execution_count": 29
        },
        {
            "cell_type": "code",
            "source": [
                "SELECT  b.title, b.authors, b.average_rating, bt.tag_id\r\n",
                "FROM BooksDB.dbo.books AS b\r\n",
                "INNER JOIN BooksDB.dbo.book_tags AS bt\r\n",
                "ON b.book_id = bt.goodreads_book_id\r\n",
                "WHERE tag_id = 12598\r\n",
                "ORDER BY tag_id,average_rating DESC;"
            ],
            "metadata": {
                "language": "sql",
                "azdata_cell_guid": "35cd0fdf-3cb6-417e-802e-b15fb9fed833"
            },
            "outputs": [
                {
                    "output_type": "display_data",
                    "data": {
                        "text/html": "(175 rows affected)"
                    },
                    "metadata": {}
                },
                {
                    "output_type": "display_data",
                    "data": {
                        "text/html": "Total execution time: 00:00:00.561"
                    },
                    "metadata": {}
                },
                {
                    "output_type": "execute_result",
                    "metadata": {},
                    "execution_count": 30,
                    "data": {
                        "application/vnd.dataresource+json": {
                            "schema": {
                                "fields": [
                                    {
                                        "name": "title"
                                    },
                                    {
                                        "name": "authors"
                                    },
                                    {
                                        "name": "average_rating"
                                    },
                                    {
                                        "name": "tag_id"
                                    }
                                ]
                            },
                            "data": [
                                {
                                    "0": "Rock Chick Revenge (Rock Chick, #5)",
                                    "1": "Kristen Ashley",
                                    "2": "4.5",
                                    "3": "12598"
                                },
                                {
                                    "0": "Rock Bottom (Tristan & Danika, #2)",
                                    "1": "R.K. Lilley",
                                    "2": "4.46",
                                    "3": "12598"
                                },
                                {
                                    "0": "Ride Steady (Chaos, #3)",
                                    "1": "Kristen Ashley",
                                    "2": "4.45",
                                    "3": "12598"
                                },
                                {
                                    "0": "Archer's Voice",
                                    "1": "Mia Sheridan",
                                    "2": "4.45",
                                    "3": "12598"
                                },
                                {
                                    "0": "Bright Side (Bright Side, #1)",
                                    "1": "Kim Holden",
                                    "2": "4.42",
                                    "3": "12598"
                                },
                                {
                                    "0": "Breathe (Colorado Mountain, #4)",
                                    "1": "Kristen Ashley",
                                    "2": "4.38",
                                    "3": "12598"
                                },
                                {
                                    "0": "Beautiful Player (Beautiful Bastard, #3)",
                                    "1": "Christina Lauren",
                                    "2": "4.38",
                                    "3": "12598"
                                },
                                {
                                    "0": "The Law of Moses (The Law of Moses, #1)",
                                    "1": "Amy Harmon",
                                    "2": "4.37",
                                    "3": "12598"
                                },
                                {
                                    "0": "Safe with Me (With Me in Seattle, #5)",
                                    "1": "Kristen Proby",
                                    "2": "4.37",
                                    "3": "12598"
                                },
                                {
                                    "0": "Making Faces",
                                    "1": "Amy Harmon",
                                    "2": "4.36",
                                    "3": "12598"
                                },
                                {
                                    "0": "Until You (Fall Away, #1.5)",
                                    "1": "Penelope Douglas, Nelson Hobbs",
                                    "2": "4.36",
                                    "3": "12598"
                                },
                                {
                                    "0": "Kulti",
                                    "1": "Mariana Zapata",
                                    "2": "4.36",
                                    "3": "12598"
                                },
                                {
                                    "0": "Egomaniac",
                                    "1": "Vi Keeland",
                                    "2": "4.34",
                                    "3": "12598"
                                },
                                {
                                    "0": "Truce (Neighbor from Hell, #4)",
                                    "1": "R.L. Mathewson",
                                    "2": "4.34",
                                    "3": "12598"
                                },
                                {
                                    "0": "The Sea of Tranquility",
                                    "1": "Katja Millay",
                                    "2": "4.34",
                                    "3": "12598"
                                },
                                {
                                    "0": "Hopeless (Hopeless, #1)",
                                    "1": "Colleen Hoover",
                                    "2": "4.34",
                                    "3": "12598"
                                },
                                {
                                    "0": "The Wall of Winnipeg and Me",
                                    "1": "Mariana Zapata",
                                    "2": "4.34",
                                    "3": "12598"
                                },
                                {
                                    "0": "Wethering the Storm (The Storm, #2)",
                                    "1": "Samantha Towle",
                                    "2": "4.33",
                                    "3": "12598"
                                },
                                {
                                    "0": "Law Man (Dream Man, #3)",
                                    "1": "Kristen Ashley",
                                    "2": "4.33",
                                    "3": "12598"
                                },
                                {
                                    "0": "Bad Things (Tristan & Danika, #1)",
                                    "1": "R.K. Lilley",
                                    "2": "4.33",
                                    "3": "12598"
                                },
                                {
                                    "0": "Fire Inside (Chaos, #2)",
                                    "1": "Kristen Ashley",
                                    "2": "4.33",
                                    "3": "12598"
                                },
                                {
                                    "0": "Maybe Someday (Maybe, #1)",
                                    "1": "Colleen Hoover",
                                    "2": "4.33",
                                    "3": "12598"
                                },
                                {
                                    "0": "Play (Stage Dive, #2)",
                                    "1": "Kylie Scott",
                                    "2": "4.33",
                                    "3": "12598"
                                },
                                {
                                    "0": "Lead (Stage Dive, #3)",
                                    "1": "Kylie Scott",
                                    "2": "4.32",
                                    "3": "12598"
                                },
                                {
                                    "0": "Unattainable (Undeniable, #3)",
                                    "1": "Madeline Sheehan",
                                    "2": "4.31",
                                    "3": "12598"
                                },
                                {
                                    "0": "The Will (Magdalene, #1)",
                                    "1": "Kristen Ashley",
                                    "2": "4.3",
                                    "3": "12598"
                                },
                                {
                                    "0": "The Sweet Gum Tree",
                                    "1": "Katherine Allred",
                                    "2": "4.3",
                                    "3": "12598"
                                },
                                {
                                    "0": "Bad for You (Sea Breeze, #7)",
                                    "1": "Abbi Glines",
                                    "2": "4.3",
                                    "3": "12598"
                                },
                                {
                                    "0": "The Deal (Off-Campus, #1)",
                                    "1": "Elle Kennedy",
                                    "2": "4.3",
                                    "3": "12598"
                                },
                                {
                                    "0": "Lover at Last (Black Dagger Brotherhood, #11)",
                                    "1": "J.R. Ward",
                                    "2": "4.3",
                                    "3": "12598"
                                },
                                {
                                    "0": "A Thousand Boy Kisses",
                                    "1": "Tillie Cole",
                                    "2": "4.29",
                                    "3": "12598"
                                },
                                {
                                    "0": "Play of Passion (Psy-Changeling #9)",
                                    "1": "Nalini Singh",
                                    "2": "4.28",
                                    "3": "12598"
                                },
                                {
                                    "0": "The Score (Off-Campus, #3)",
                                    "1": "Elle Kennedy",
                                    "2": "4.27",
                                    "3": "12598"
                                },
                                {
                                    "0": "Reaper's Legacy (Reapers MC, #2)",
                                    "1": "Joanna Wylde",
                                    "2": "4.27",
                                    "3": "12598"
                                },
                                {
                                    "0": "Trust in Me (Wait for You, #1.5)",
                                    "1": "J. Lynn, Jennifer L. Armentrout",
                                    "2": "4.27",
                                    "3": "12598"
                                },
                                {
                                    "0": "The Edge of Never (The Edge of Never, #1)",
                                    "1": "J.A. Redmerski",
                                    "2": "4.26",
                                    "3": "12598"
                                },
                                {
                                    "0": "Bossman",
                                    "1": "Vi Keeland",
                                    "2": "4.25",
                                    "3": "12598"
                                },
                                {
                                    "0": "Just for Now (Sea Breeze, #4)",
                                    "1": "Abbi Glines",
                                    "2": "4.25",
                                    "3": "12598"
                                },
                                {
                                    "0": "Down London Road (On Dublin Street, #2)",
                                    "1": "Samantha Young",
                                    "2": "4.24",
                                    "3": "12598"
                                },
                                {
                                    "0": "Walking Disaster (Beautiful, #2)",
                                    "1": "Jamie McGuire",
                                    "2": "4.23",
                                    "3": "12598"
                                },
                                {
                                    "0": "Neighbor Dearest",
                                    "1": "Penelope Ward",
                                    "2": "4.23",
                                    "3": "12598"
                                },
                                {
                                    "0": "Wait for It",
                                    "1": "Mariana Zapata",
                                    "2": "4.22",
                                    "3": "12598"
                                },
                                {
                                    "0": "Own the Wind (Chaos, #1)",
                                    "1": "Kristen Ashley",
                                    "2": "4.22",
                                    "3": "12598"
                                },
                                {
                                    "0": "Punk 57",
                                    "1": "Penelope Douglas",
                                    "2": "4.22",
                                    "3": "12598"
                                },
                                {
                                    "0": "A Different Blue",
                                    "1": "Amy Harmon",
                                    "2": "4.22",
                                    "3": "12598"
                                },
                                {
                                    "0": "The Friend Zone (Game On, #2)",
                                    "1": "Kristen Callihan",
                                    "2": "4.21",
                                    "3": "12598"
                                },
                                {
                                    "0": "The Coincidence of Callie & Kayden (The Coincidence, #1)",
                                    "1": "Jessica Sorensen",
                                    "2": "4.21",
                                    "3": "12598"
                                },
                                {
                                    "0": "The Air He Breathes (Elements, #1)",
                                    "1": "Brittainy C. Cherry",
                                    "2": "4.2",
                                    "3": "12598"
                                },
                                {
                                    "0": "Romancing Mister Bridgerton (Bridgertons, #4)",
                                    "1": "Julia Quinn",
                                    "2": "4.2",
                                    "3": "12598"
                                },
                                {
                                    "0": "Rock Chick (Rock Chick, #1)",
                                    "1": "Kristen Ashley",
                                    "2": "4.2",
                                    "3": "12598"
                                },
                                {
                                    "0": "Until Trevor (Until, #2)",
                                    "1": "Aurora Rose Reynolds",
                                    "2": "4.2",
                                    "3": "12598"
                                },
                                {
                                    "0": "Ruin (Ruin, #1)",
                                    "1": "Rachel Van Dyken",
                                    "2": "4.19",
                                    "3": "12598"
                                },
                                {
                                    "0": "Tears of the Moon (Gallaghers of Ardmore / Irish Trilogy, #2)",
                                    "1": "Nora Roberts",
                                    "2": "4.19",
                                    "3": "12598"
                                },
                                {
                                    "0": "Wait for You (Wait for You, #1)",
                                    "1": "J. Lynn, Jennifer L. Armentrout",
                                    "2": "4.19",
                                    "3": "12598"
                                },
                                {
                                    "0": "The Mighty Storm (The Storm, #1)",
                                    "1": "Samantha Towle",
                                    "2": "4.19",
                                    "3": "12598"
                                },
                                {
                                    "0": "Reasonable Doubt: Volume 3 (Reasonable Doubt, #3)",
                                    "1": "Whitney G.",
                                    "2": "4.19",
                                    "3": "12598"
                                },
                                {
                                    "0": "Cocky Bastard",
                                    "1": "Penelope Ward, Vi Keeland",
                                    "2": "4.18",
                                    "3": "12598"
                                },
                                {
                                    "0": "Creed (Unfinished Hero, #2)",
                                    "1": "Kristen Ashley",
                                    "2": "4.17",
                                    "3": "12598"
                                },
                                {
                                    "0": "Rival (Fall Away, #2)",
                                    "1": "Penelope Douglas, Abby Craden, Nelson Hobbs",
                                    "2": "4.16",
                                    "3": "12598"
                                },
                                {
                                    "0": "Perfection (Neighbor from Hell, #2)",
                                    "1": "R.L. Mathewson",
                                    "2": "4.16",
                                    "3": "12598"
                                },
                                {
                                    "0": "Rule (Marked Men, #1)",
                                    "1": "Jay Crownover, Charlotte Connan de vries",
                                    "2": "4.16",
                                    "3": "12598"
                                },
                                {
                                    "0": "Rising Tides (Chesapeake Bay Saga, #2)",
                                    "1": "Nora Roberts",
                                    "2": "4.16",
                                    "3": "12598"
                                },
                                {
                                    "0": "Be with Me (Wait for You, #2)",
                                    "1": "J. Lynn, Jennifer L. Armentrout",
                                    "2": "4.15",
                                    "3": "12598"
                                },
                                {
                                    "0": "Take a Chance (Rosemary Beach, #7; Chance, #1)",
                                    "1": "Abbi Glines",
                                    "2": "4.15",
                                    "3": "12598"
                                },
                                {
                                    "0": "Checkmate (Neighbor from Hell, #3)",
                                    "1": "R.L. Mathewson",
                                    "2": "4.15",
                                    "3": "12598"
                                },
                                {
                                    "0": "Beautiful Disaster (Beautiful, #1)",
                                    "1": "Jamie McGuire",
                                    "2": "4.15",
                                    "3": "12598"
                                },
                                {
                                    "0": "Bully (Fall Away, #1)",
                                    "1": "Penelope Douglas",
                                    "2": "4.15",
                                    "3": "12598"
                                },
                                {
                                    "0": "More Than This (More Than, #1)",
                                    "1": "Jay McLean",
                                    "2": "4.15",
                                    "3": "12598"
                                },
                                {
                                    "0": "Beautiful Broken Rules (Broken, #1)",
                                    "1": "Kimberly Lauren",
                                    "2": "4.15",
                                    "3": "12598"
                                },
                                {
                                    "0": "Natural Born Charmer (Chicago Stars, #7)",
                                    "1": "Susan Elizabeth Phillips",
                                    "2": "4.15",
                                    "3": "12598"
                                },
                                {
                                    "0": "Jake Undone (Jake, #1)",
                                    "1": "Penelope Ward",
                                    "2": "4.15",
                                    "3": "12598"
                                },
                                {
                                    "0": "Anti-Stepbrother",
                                    "1": "Tijan",
                                    "2": "4.14",
                                    "3": "12598"
                                },
                                {
                                    "0": "Broken Silence (Silence, #2)",
                                    "1": "Natasha Preston",
                                    "2": "4.14",
                                    "3": "12598"
                                },
                                {
                                    "0": "Reasonable Doubt: Volume 2 (Reasonable Doubt, #2)",
                                    "1": "Whitney G.",
                                    "2": "4.14",
                                    "3": "12598"
                                },
                                {
                                    "0": "Left Drowning (Left Drowning, #1)",
                                    "1": "Jessica Park",
                                    "2": "4.14",
                                    "3": "12598"
                                },
                                {
                                    "0": "The Baller: A Down and Dirty Football Novel",
                                    "1": "Vi Keeland",
                                    "2": "4.13",
                                    "3": "12598"
                                },
                                {
                                    "0": "F*ck Love",
                                    "1": "Tarryn Fisher",
                                    "2": "4.13",
                                    "3": "12598"
                                },
                                {
                                    "0": "Reasonable Doubt: Volume 1 (Reasonable Doubt, #1)",
                                    "1": "Whitney G.",
                                    "2": "4.13",
                                    "3": "12598"
                                },
                                {
                                    "0": "Beautiful Oblivion (The Maddox Brothers, #1)",
                                    "1": "Jamie McGuire",
                                    "2": "4.13",
                                    "3": "12598"
                                },
                                {
                                    "0": "The Vincent Brothers (The Vincent Boys, #2)",
                                    "1": "Abbi Glines",
                                    "2": "4.13",
                                    "3": "12598"
                                },
                                {
                                    "0": "On the Island (On the Island, #1)",
                                    "1": "Tracey Garvis-Graves",
                                    "2": "4.13",
                                    "3": "12598"
                                },
                                {
                                    "0": "Match Me If You Can (Chicago Stars, #6)",
                                    "1": "Susan Elizabeth Phillips",
                                    "2": "4.13",
                                    "3": "12598"
                                },
                                {
                                    "0": "Savor the Moment (Bride Quartet, #3)",
                                    "1": "Nora Roberts, Angela Dawe",
                                    "2": "4.13",
                                    "3": "12598"
                                },
                                {
                                    "0": "From Ashes (From Ashes, #1)",
                                    "1": "Molly McAdams",
                                    "2": "4.13",
                                    "3": "12598"
                                },
                                {
                                    "0": "Mine to Possess (Psy-Changeling #4)",
                                    "1": "Nalini Singh",
                                    "2": "4.13",
                                    "3": "12598"
                                },
                                {
                                    "0": "Radiance (Wraith Kings, #1)",
                                    "1": "Grace Draven",
                                    "2": "4.12",
                                    "3": "12598"
                                },
                                {
                                    "0": "Thoughtless (Thoughtless, #1)",
                                    "1": "S.C. Stephens",
                                    "2": "4.12",
                                    "3": "12598"
                                },
                                {
                                    "0": "Bed of Roses (Bride Quartet, #2)",
                                    "1": "Nora Roberts",
                                    "2": "4.11",
                                    "3": "12598"
                                },
                                {
                                    "0": "The Duke and I (Bridgertons, #1)",
                                    "1": "Julia Quinn",
                                    "2": "4.11",
                                    "3": "12598"
                                },
                                {
                                    "0": "The Redemption of Callie & Kayden (The Coincidence, #2)",
                                    "1": "Jessica Sorensen",
                                    "2": "4.11",
                                    "3": "12598"
                                },
                                {
                                    "0": "Under Locke",
                                    "1": "Mariana Zapata",
                                    "2": "4.11",
                                    "3": "12598"
                                },
                                {
                                    "0": "Seduce Me at Sunrise (The Hathaways, #2)",
                                    "1": "Lisa Kleypas",
                                    "2": "4.1",
                                    "3": "12598"
                                },
                                {
                                    "0": "Sincerely, Carter (Sincerely Carter, #1)",
                                    "1": "Whitney G.",
                                    "2": "4.1",
                                    "3": "12598"
                                },
                                {
                                    "0": "The Forever of Ella and Micha (The Secret, #2)",
                                    "1": "Jessica Sorensen",
                                    "2": "4.1",
                                    "3": "12598"
                                },
                                {
                                    "0": "Price of a Kiss (Forbidden Men, #1)",
                                    "1": "Linda Kage",
                                    "2": "4.1",
                                    "3": "12598"
                                },
                                {
                                    "0": "Wallbanger (Cocktail, #1)",
                                    "1": "Alice Clayton",
                                    "2": "4.1",
                                    "3": "12598"
                                },
                                {
                                    "0": "Bad Romeo (Starcrossed, #1)",
                                    "1": "Leisa Rayven",
                                    "2": "4.1",
                                    "3": "12598"
                                },
                                {
                                    "0": "Rock Me (Ross Siblings, #2)",
                                    "1": "Cherrie Lynn",
                                    "2": "4.09",
                                    "3": "12598"
                                },
                                {
                                    "0": "Jet (Marked Men, #2)",
                                    "1": "Jay Crownover",
                                    "2": "4.09",
                                    "3": "12598"
                                },
                                {
                                    "0": "Deep (Stage Dive, #4)",
                                    "1": "Kylie Scott",
                                    "2": "4.09",
                                    "3": "12598"
                                },
                                {
                                    "0": "Into the Deep (Into the Deep, #1)",
                                    "1": "Samantha Young",
                                    "2": "4.09",
                                    "3": "12598"
                                },
                                {
                                    "0": "Beautiful Sacrifice (The Maddox Brothers, #3)",
                                    "1": "Jamie McGuire",
                                    "2": "4.08",
                                    "3": "12598"
                                },
                                {
                                    "0": "Heaven, Texas (Chicago Stars, #2)",
                                    "1": "Susan Elizabeth Phillips",
                                    "2": "4.08",
                                    "3": "12598"
                                },
                                {
                                    "0": "Black Hills",
                                    "1": "Nora Roberts",
                                    "2": "4.08",
                                    "3": "12598"
                                },
                                {
                                    "0": "Playing for Keeps (Neighbor from Hell, #1)",
                                    "1": "R.L. Mathewson",
                                    "2": "4.08",
                                    "3": "12598"
                                },
                                {
                                    "0": "RoomHate",
                                    "1": "Penelope Ward",
                                    "2": "4.07",
                                    "3": "12598"
                                },
                                {
                                    "0": "Leo",
                                    "1": "Mia Sheridan",
                                    "2": "4.06",
                                    "3": "12598"
                                },
                                {
                                    "0": "Kaleidoscope Hearts (Hearts, #1)",
                                    "1": "Claire Contreras",
                                    "2": "4.06",
                                    "3": "12598"
                                },
                                {
                                    "0": "The Last Boyfriend (Inn BoonsBoro, #2)",
                                    "1": "Nora Roberts, MacLeod Andrews",
                                    "2": "4.06",
                                    "3": "12598"
                                },
                                {
                                    "0": "Again the Magic (Wallflowers, #0)",
                                    "1": "Lisa Kleypas",
                                    "2": "4.05",
                                    "3": "12598"
                                },
                                {
                                    "0": "The Hook Up (Game On, #1)",
                                    "1": "Kristen Callihan",
                                    "2": "4.04",
                                    "3": "12598"
                                },
                                {
                                    "0": "On the Fence",
                                    "1": "Kasie West",
                                    "2": "4.04",
                                    "3": "12598"
                                },
                                {
                                    "0": "Love Unscripted (Love, #1)",
                                    "1": "Tina Reber",
                                    "2": "4.04",
                                    "3": "12598"
                                },
                                {
                                    "0": "Falling into You (Falling, #1)",
                                    "1": "Jasinda Wilder",
                                    "2": "4.04",
                                    "3": "12598"
                                },
                                {
                                    "0": "Heart on a Chain",
                                    "1": "Cindy C. Bennett",
                                    "2": "4.04",
                                    "3": "12598"
                                },
                                {
                                    "0": "When He was Wicked (Bridgertons, #6)",
                                    "1": "Julia Quinn",
                                    "2": "4.03",
                                    "3": "12598"
                                },
                                {
                                    "0": "Carter Reed (Carter Reed, #1)",
                                    "1": "Tijan",
                                    "2": "4.03",
                                    "3": "12598"
                                },
                                {
                                    "0": "Endless Summer (The Boys Next Door, #1-2)",
                                    "1": "Jennifer Echols",
                                    "2": "4.02",
                                    "3": "12598"
                                },
                                {
                                    "0": "Until Friday Night (The Field Party, #1)",
                                    "1": "Abbi Glines",
                                    "2": "4.01",
                                    "3": "12598"
                                },
                                {
                                    "0": "It's in His Kiss (Bridgertons, #7)",
                                    "1": "Julia Quinn",
                                    "2": "4.01",
                                    "3": "12598"
                                },
                                {
                                    "0": "My Favorite Mistake (My Favorite Mistake, #1)",
                                    "1": "Chelsea M. Cameron",
                                    "2": "4.01",
                                    "3": "12598"
                                },
                                {
                                    "0": "Flat-Out Love (Flat-Out Love, #1)",
                                    "1": "Jessica Park",
                                    "2": "4.01",
                                    "3": "12598"
                                },
                                {
                                    "0": "The Secret of Ella and Micha (The Secret, #1)",
                                    "1": "Jessica Sorensen",
                                    "2": "4.01",
                                    "3": "12598"
                                },
                                {
                                    "0": "The Problem with Forever",
                                    "1": "Jennifer L. Armentrout",
                                    "2": "4",
                                    "3": "12598"
                                },
                                {
                                    "0": "Trouble",
                                    "1": "Samantha Towle",
                                    "2": "4",
                                    "3": "12598"
                                },
                                {
                                    "0": "Friend-Zoned (Friend-Zoned, #1)",
                                    "1": "Belle Aurora",
                                    "2": "3.99",
                                    "3": "12598"
                                },
                                {
                                    "0": "Beautifully Damaged (Beautifully Damaged, #1)",
                                    "1": "L.A. Fiore",
                                    "2": "3.99",
                                    "3": "12598"
                                },
                                {
                                    "0": "Forever Black (Forever, #1)",
                                    "1": "Sandi Lynn",
                                    "2": "3.99",
                                    "3": "12598"
                                },
                                {
                                    "0": "Find You in the Dark (Find You in the Dark, #1)",
                                    "1": "A. Meredith Walters",
                                    "2": "3.98",
                                    "3": "12598"
                                },
                                {
                                    "0": "Wanted (Wanted, #1)",
                                    "1": "Kelly Elliott",
                                    "2": "3.98",
                                    "3": "12598"
                                },
                                {
                                    "0": "The Vincent Boys (The Vincent Boys, #1)",
                                    "1": "Abbi Glines",
                                    "2": "3.98",
                                    "3": "12598"
                                },
                                {
                                    "0": "Charade (Games, #1)",
                                    "1": "Nyrae Dawn",
                                    "2": "3.98",
                                    "3": "12598"
                                },
                                {
                                    "0": "Sins & Needles (The Artists Trilogy, #1)",
                                    "1": "Karina Halle",
                                    "2": "3.98",
                                    "3": "12598"
                                },
                                {
                                    "0": "You Don't Have to Say You Love Me",
                                    "1": "Sarra Manning",
                                    "2": "3.97",
                                    "3": "12598"
                                },
                                {
                                    "0": "Big Rock",
                                    "1": "Lauren Blakely",
                                    "2": "3.97",
                                    "3": "12598"
                                },
                                {
                                    "0": "The Marriage Mistake (Marriage to a Billionaire, #3)",
                                    "1": "Jennifer Probst",
                                    "2": "3.96",
                                    "3": "12598"
                                },
                                {
                                    "0": "Always You (Best Friend, #1)",
                                    "1": "Kirsty Moseley",
                                    "2": "3.96",
                                    "3": "12598"
                                },
                                {
                                    "0": "That Boy (That Boy, #1)",
                                    "1": "Jillian Dodd",
                                    "2": "3.96",
                                    "3": "12598"
                                },
                                {
                                    "0": "The Body Finder (The Body Finder, #1)",
                                    "1": "Kimberly Derting",
                                    "2": "3.96",
                                    "3": "12598"
                                },
                                {
                                    "0": "The Mane Event (Pride, #1)",
                                    "1": "Shelly Laurenston",
                                    "2": "3.96",
                                    "3": "12598"
                                },
                                {
                                    "0": "Dirty English (English, #1)",
                                    "1": "Ilsa Madden-Mills",
                                    "2": "3.95",
                                    "3": "12598"
                                },
                                {
                                    "0": "The Boy Who Sneaks in My Bedroom Window",
                                    "1": "Kirsty Moseley",
                                    "2": "3.95",
                                    "3": "12598"
                                },
                                {
                                    "0": "Love, Rosie",
                                    "1": "Cecelia Ahern",
                                    "2": "3.95",
                                    "3": "12598"
                                },
                                {
                                    "0": "A Girl Like You",
                                    "1": "Gemma Burgess",
                                    "2": "3.95",
                                    "3": "12598"
                                },
                                {
                                    "0": "Better off Friends",
                                    "1": "Elizabeth Eulberg",
                                    "2": "3.95",
                                    "3": "12598"
                                },
                                {
                                    "0": "A Rogue by Any Other Name (The Rules of Scoundrels, #1)",
                                    "1": "Sarah MacLean",
                                    "2": "3.95",
                                    "3": "12598"
                                },
                                {
                                    "0": "Seducing Cinderella (Fighting for Love, #1)",
                                    "1": "Gina L. Maxwell",
                                    "2": "3.94",
                                    "3": "12598"
                                },
                                {
                                    "0": "Where You Are (Between the Lines, #2)",
                                    "1": "Tammara Webber",
                                    "2": "3.94",
                                    "3": "12598"
                                },
                                {
                                    "0": "The Wild Ones (The Wild Ones, #1)",
                                    "1": "M. Leighton",
                                    "2": "3.94",
                                    "3": "12598"
                                },
                                {
                                    "0": "Brokeback Mountain",
                                    "1": "Annie Proulx",
                                    "2": "3.93",
                                    "3": "12598"
                                },
                                {
                                    "0": "The Secret Diaries of Miss Miranda Cheever (Bevelstoke, #1)",
                                    "1": "Julia Quinn",
                                    "2": "3.93",
                                    "3": "12598"
                                },
                                {
                                    "0": "Silence (Silence, #1)",
                                    "1": "Natasha Preston",
                                    "2": "3.93",
                                    "3": "12598"
                                },
                                {
                                    "0": "Just Like Heaven (Smythe-Smith Quartet #1)",
                                    "1": "Julia Quinn",
                                    "2": "3.93",
                                    "3": "12598"
                                },
                                {
                                    "0": "Dirty (Dive Bar, #1)",
                                    "1": "Kylie Scott",
                                    "2": "3.92",
                                    "3": "12598"
                                },
                                {
                                    "0": "Emmy & Oliver",
                                    "1": "Robin Benway",
                                    "2": "3.91",
                                    "3": "12598"
                                },
                                {
                                    "0": "The Pact",
                                    "1": "Karina Halle",
                                    "2": "3.91",
                                    "3": "12598"
                                },
                                {
                                    "0": "Addicted to You (Addicted, #1)",
                                    "1": "Krista Ritchie, Becca Ritchie",
                                    "2": "3.9",
                                    "3": "12598"
                                },
                                {
                                    "0": "To Sir Phillip, With Love (Bridgertons, #5)",
                                    "1": "Julia Quinn",
                                    "2": "3.89",
                                    "3": "12598"
                                },
                                {
                                    "0": "Unleashed (Ross Siblings, #1)",
                                    "1": "Cherrie Lynn",
                                    "2": "3.89",
                                    "3": "12598"
                                },
                                {
                                    "0": "Stealing Parker",
                                    "1": "Miranda Kenneally",
                                    "2": "3.88",
                                    "3": "12598"
                                },
                                {
                                    "0": "Not Quite Dating (Not Quite, #1)",
                                    "1": "Catherine Bybee",
                                    "2": "3.88",
                                    "3": "12598"
                                },
                                {
                                    "0": "The Bet (The Bet, #1)",
                                    "1": "Rachel Van Dyken",
                                    "2": "3.85",
                                    "3": "12598"
                                },
                                {
                                    "0": "Avoiding Commitment (Avoiding, #1)",
                                    "1": "K.A. Linde",
                                    "2": "3.85",
                                    "3": "12598"
                                },
                                {
                                    "0": "Catching Jordan",
                                    "1": "Miranda Kenneally",
                                    "2": "3.85",
                                    "3": "12598"
                                },
                                {
                                    "0": "Overruled (The Legal Briefs, #1)",
                                    "1": "Emma Chase",
                                    "2": "3.83",
                                    "3": "12598"
                                },
                                {
                                    "0": "Sophie & Carter",
                                    "1": "Chelsea Fine",
                                    "2": "3.83",
                                    "3": "12598"
                                },
                                {
                                    "0": "On the Way to the Wedding (Bridgertons, #8)",
                                    "1": "Julia Quinn",
                                    "2": "3.83",
                                    "3": "12598"
                                },
                                {
                                    "0": "The Marriage Bargain (Marriage to a Billionaire, #1)",
                                    "1": "Jennifer Probst",
                                    "2": "3.81",
                                    "3": "12598"
                                },
                                {
                                    "0": "Anyone But You",
                                    "1": "Jennifer Crusie",
                                    "2": "3.8",
                                    "3": "12598"
                                },
                                {
                                    "0": "You Had Me At Hello",
                                    "1": "Mhairi McFarlane",
                                    "2": "3.79",
                                    "3": "12598"
                                },
                                {
                                    "0": "Frigid (Frigid, #1)",
                                    "1": "J. Lynn, Jennifer L. Armentrout",
                                    "2": "3.79",
                                    "3": "12598"
                                },
                                {
                                    "0": "Crazy For You",
                                    "1": "Jennifer Crusie",
                                    "2": "3.78",
                                    "3": "12598"
                                },
                                {
                                    "0": "Someone to Love (Someone to Love, #1)",
                                    "1": "Addison Moore",
                                    "2": "3.74",
                                    "3": "12598"
                                },
                                {
                                    "0": "Tempting the Best Man (Gamble Brothers, #1)",
                                    "1": "J. Lynn, Jennifer L. Armentrout",
                                    "2": "3.73",
                                    "3": "12598"
                                },
                                {
                                    "0": "Never Never: Part Three (Never Never, #3)",
                                    "1": "Colleen Hoover, Tarryn Fisher",
                                    "2": "3.48",
                                    "3": "12598"
                                }
                            ]
                        },
                        "text/html": [
                            "<table>",
                            "<tr><th>title</th><th>authors</th><th>average_rating</th><th>tag_id</th></tr>",
                            "<tr><td>Rock Chick Revenge (Rock Chick, #5)</td><td>Kristen Ashley</td><td>4.5</td><td>12598</td></tr>",
                            "<tr><td>Rock Bottom (Tristan &amp; Danika, #2)</td><td>R.K. Lilley</td><td>4.46</td><td>12598</td></tr>",
                            "<tr><td>Ride Steady (Chaos, #3)</td><td>Kristen Ashley</td><td>4.45</td><td>12598</td></tr>",
                            "<tr><td>Archer's Voice</td><td>Mia Sheridan</td><td>4.45</td><td>12598</td></tr>",
                            "<tr><td>Bright Side (Bright Side, #1)</td><td>Kim Holden</td><td>4.42</td><td>12598</td></tr>",
                            "<tr><td>Breathe (Colorado Mountain, #4)</td><td>Kristen Ashley</td><td>4.38</td><td>12598</td></tr>",
                            "<tr><td>Beautiful Player (Beautiful Bastard, #3)</td><td>Christina Lauren</td><td>4.38</td><td>12598</td></tr>",
                            "<tr><td>The Law of Moses (The Law of Moses, #1)</td><td>Amy Harmon</td><td>4.37</td><td>12598</td></tr>",
                            "<tr><td>Safe with Me (With Me in Seattle, #5)</td><td>Kristen Proby</td><td>4.37</td><td>12598</td></tr>",
                            "<tr><td>Making Faces</td><td>Amy Harmon</td><td>4.36</td><td>12598</td></tr>",
                            "<tr><td>Until You (Fall Away, #1.5)</td><td>Penelope Douglas, Nelson Hobbs</td><td>4.36</td><td>12598</td></tr>",
                            "<tr><td>Kulti</td><td>Mariana Zapata</td><td>4.36</td><td>12598</td></tr>",
                            "<tr><td>Egomaniac</td><td>Vi Keeland</td><td>4.34</td><td>12598</td></tr>",
                            "<tr><td>Truce (Neighbor from Hell, #4)</td><td>R.L. Mathewson</td><td>4.34</td><td>12598</td></tr>",
                            "<tr><td>The Sea of Tranquility</td><td>Katja Millay</td><td>4.34</td><td>12598</td></tr>",
                            "<tr><td>Hopeless (Hopeless, #1)</td><td>Colleen Hoover</td><td>4.34</td><td>12598</td></tr>",
                            "<tr><td>The Wall of Winnipeg and Me</td><td>Mariana Zapata</td><td>4.34</td><td>12598</td></tr>",
                            "<tr><td>Wethering the Storm (The Storm, #2)</td><td>Samantha Towle</td><td>4.33</td><td>12598</td></tr>",
                            "<tr><td>Law Man (Dream Man, #3)</td><td>Kristen Ashley</td><td>4.33</td><td>12598</td></tr>",
                            "<tr><td>Bad Things (Tristan &amp; Danika, #1)</td><td>R.K. Lilley</td><td>4.33</td><td>12598</td></tr>",
                            "<tr><td>Fire Inside (Chaos, #2)</td><td>Kristen Ashley</td><td>4.33</td><td>12598</td></tr>",
                            "<tr><td>Maybe Someday (Maybe, #1)</td><td>Colleen Hoover</td><td>4.33</td><td>12598</td></tr>",
                            "<tr><td>Play (Stage Dive, #2)</td><td>Kylie Scott</td><td>4.33</td><td>12598</td></tr>",
                            "<tr><td>Lead (Stage Dive, #3)</td><td>Kylie Scott</td><td>4.32</td><td>12598</td></tr>",
                            "<tr><td>Unattainable (Undeniable, #3)</td><td>Madeline Sheehan</td><td>4.31</td><td>12598</td></tr>",
                            "<tr><td>The Will (Magdalene, #1)</td><td>Kristen Ashley</td><td>4.3</td><td>12598</td></tr>",
                            "<tr><td>The Sweet Gum Tree</td><td>Katherine Allred</td><td>4.3</td><td>12598</td></tr>",
                            "<tr><td>Bad for You (Sea Breeze, #7)</td><td>Abbi Glines</td><td>4.3</td><td>12598</td></tr>",
                            "<tr><td>The Deal (Off-Campus, #1)</td><td>Elle Kennedy</td><td>4.3</td><td>12598</td></tr>",
                            "<tr><td>Lover at Last (Black Dagger Brotherhood, #11)</td><td>J.R. Ward</td><td>4.3</td><td>12598</td></tr>",
                            "<tr><td>A Thousand Boy Kisses</td><td>Tillie Cole</td><td>4.29</td><td>12598</td></tr>",
                            "<tr><td>Play of Passion (Psy-Changeling #9)</td><td>Nalini Singh</td><td>4.28</td><td>12598</td></tr>",
                            "<tr><td>The Score (Off-Campus, #3)</td><td>Elle Kennedy</td><td>4.27</td><td>12598</td></tr>",
                            "<tr><td>Reaper's Legacy (Reapers MC, #2)</td><td>Joanna Wylde</td><td>4.27</td><td>12598</td></tr>",
                            "<tr><td>Trust in Me (Wait for You, #1.5)</td><td>J. Lynn, Jennifer L. Armentrout</td><td>4.27</td><td>12598</td></tr>",
                            "<tr><td>The Edge of Never (The Edge of Never, #1)</td><td>J.A. Redmerski</td><td>4.26</td><td>12598</td></tr>",
                            "<tr><td>Bossman</td><td>Vi Keeland</td><td>4.25</td><td>12598</td></tr>",
                            "<tr><td>Just for Now (Sea Breeze, #4)</td><td>Abbi Glines</td><td>4.25</td><td>12598</td></tr>",
                            "<tr><td>Down London Road (On Dublin Street, #2)</td><td>Samantha Young</td><td>4.24</td><td>12598</td></tr>",
                            "<tr><td>Walking Disaster (Beautiful, #2)</td><td>Jamie McGuire</td><td>4.23</td><td>12598</td></tr>",
                            "<tr><td>Neighbor Dearest</td><td>Penelope Ward</td><td>4.23</td><td>12598</td></tr>",
                            "<tr><td>Wait for It</td><td>Mariana Zapata</td><td>4.22</td><td>12598</td></tr>",
                            "<tr><td>Own the Wind (Chaos, #1)</td><td>Kristen Ashley</td><td>4.22</td><td>12598</td></tr>",
                            "<tr><td>Punk 57</td><td>Penelope Douglas</td><td>4.22</td><td>12598</td></tr>",
                            "<tr><td>A Different Blue</td><td>Amy Harmon</td><td>4.22</td><td>12598</td></tr>",
                            "<tr><td>The Friend Zone (Game On, #2)</td><td>Kristen Callihan</td><td>4.21</td><td>12598</td></tr>",
                            "<tr><td>The Coincidence of Callie &amp; Kayden (The Coincidence, #1)</td><td>Jessica Sorensen</td><td>4.21</td><td>12598</td></tr>",
                            "<tr><td>The Air He Breathes (Elements, #1)</td><td>Brittainy C. Cherry</td><td>4.2</td><td>12598</td></tr>",
                            "<tr><td>Romancing Mister Bridgerton (Bridgertons, #4)</td><td>Julia Quinn</td><td>4.2</td><td>12598</td></tr>",
                            "<tr><td>Rock Chick (Rock Chick, #1)</td><td>Kristen Ashley</td><td>4.2</td><td>12598</td></tr>",
                            "<tr><td>Until Trevor (Until, #2)</td><td>Aurora Rose Reynolds</td><td>4.2</td><td>12598</td></tr>",
                            "<tr><td>Ruin (Ruin, #1)</td><td>Rachel Van Dyken</td><td>4.19</td><td>12598</td></tr>",
                            "<tr><td>Tears of the Moon (Gallaghers of Ardmore / Irish Trilogy, #2)</td><td>Nora Roberts</td><td>4.19</td><td>12598</td></tr>",
                            "<tr><td>Wait for You (Wait for You, #1)</td><td>J. Lynn, Jennifer L. Armentrout</td><td>4.19</td><td>12598</td></tr>",
                            "<tr><td>The Mighty Storm (The Storm, #1)</td><td>Samantha Towle</td><td>4.19</td><td>12598</td></tr>",
                            "<tr><td>Reasonable Doubt: Volume 3 (Reasonable Doubt, #3)</td><td>Whitney G.</td><td>4.19</td><td>12598</td></tr>",
                            "<tr><td>Cocky Bastard</td><td>Penelope Ward, Vi Keeland</td><td>4.18</td><td>12598</td></tr>",
                            "<tr><td>Creed (Unfinished Hero, #2)</td><td>Kristen Ashley</td><td>4.17</td><td>12598</td></tr>",
                            "<tr><td>Rival (Fall Away, #2)</td><td>Penelope Douglas, Abby Craden, Nelson Hobbs</td><td>4.16</td><td>12598</td></tr>",
                            "<tr><td>Perfection (Neighbor from Hell, #2)</td><td>R.L. Mathewson</td><td>4.16</td><td>12598</td></tr>",
                            "<tr><td>Rule (Marked Men, #1)</td><td>Jay Crownover, Charlotte Connan de vries</td><td>4.16</td><td>12598</td></tr>",
                            "<tr><td>Rising Tides (Chesapeake Bay Saga, #2)</td><td>Nora Roberts</td><td>4.16</td><td>12598</td></tr>",
                            "<tr><td>Be with Me (Wait for You, #2)</td><td>J. Lynn, Jennifer L. Armentrout</td><td>4.15</td><td>12598</td></tr>",
                            "<tr><td>Take a Chance (Rosemary Beach, #7; Chance, #1)</td><td>Abbi Glines</td><td>4.15</td><td>12598</td></tr>",
                            "<tr><td>Checkmate (Neighbor from Hell, #3)</td><td>R.L. Mathewson</td><td>4.15</td><td>12598</td></tr>",
                            "<tr><td>Beautiful Disaster (Beautiful, #1)</td><td>Jamie McGuire</td><td>4.15</td><td>12598</td></tr>",
                            "<tr><td>Bully (Fall Away, #1)</td><td>Penelope Douglas</td><td>4.15</td><td>12598</td></tr>",
                            "<tr><td>More Than This (More Than, #1)</td><td>Jay McLean</td><td>4.15</td><td>12598</td></tr>",
                            "<tr><td>Beautiful Broken Rules (Broken, #1)</td><td>Kimberly Lauren</td><td>4.15</td><td>12598</td></tr>",
                            "<tr><td>Natural Born Charmer (Chicago Stars, #7)</td><td>Susan Elizabeth Phillips</td><td>4.15</td><td>12598</td></tr>",
                            "<tr><td>Jake Undone (Jake, #1)</td><td>Penelope Ward</td><td>4.15</td><td>12598</td></tr>",
                            "<tr><td>Anti-Stepbrother</td><td>Tijan</td><td>4.14</td><td>12598</td></tr>",
                            "<tr><td>Broken Silence (Silence, #2)</td><td>Natasha Preston</td><td>4.14</td><td>12598</td></tr>",
                            "<tr><td>Reasonable Doubt: Volume 2 (Reasonable Doubt, #2)</td><td>Whitney G.</td><td>4.14</td><td>12598</td></tr>",
                            "<tr><td>Left Drowning (Left Drowning, #1)</td><td>Jessica Park</td><td>4.14</td><td>12598</td></tr>",
                            "<tr><td>The Baller: A Down and Dirty Football Novel</td><td>Vi Keeland</td><td>4.13</td><td>12598</td></tr>",
                            "<tr><td>F*ck Love</td><td>Tarryn Fisher</td><td>4.13</td><td>12598</td></tr>",
                            "<tr><td>Reasonable Doubt: Volume 1 (Reasonable Doubt, #1)</td><td>Whitney G.</td><td>4.13</td><td>12598</td></tr>",
                            "<tr><td>Beautiful Oblivion (The Maddox Brothers, #1)</td><td>Jamie McGuire</td><td>4.13</td><td>12598</td></tr>",
                            "<tr><td>The Vincent Brothers (The Vincent Boys, #2)</td><td>Abbi Glines</td><td>4.13</td><td>12598</td></tr>",
                            "<tr><td>On the Island (On the Island, #1)</td><td>Tracey Garvis-Graves</td><td>4.13</td><td>12598</td></tr>",
                            "<tr><td>Match Me If You Can (Chicago Stars, #6)</td><td>Susan Elizabeth Phillips</td><td>4.13</td><td>12598</td></tr>",
                            "<tr><td>Savor the Moment (Bride Quartet, #3)</td><td>Nora Roberts, Angela Dawe</td><td>4.13</td><td>12598</td></tr>",
                            "<tr><td>From Ashes (From Ashes, #1)</td><td>Molly McAdams</td><td>4.13</td><td>12598</td></tr>",
                            "<tr><td>Mine to Possess (Psy-Changeling #4)</td><td>Nalini Singh</td><td>4.13</td><td>12598</td></tr>",
                            "<tr><td>Radiance (Wraith Kings, #1)</td><td>Grace Draven</td><td>4.12</td><td>12598</td></tr>",
                            "<tr><td>Thoughtless (Thoughtless, #1)</td><td>S.C. Stephens</td><td>4.12</td><td>12598</td></tr>",
                            "<tr><td>Bed of Roses (Bride Quartet, #2)</td><td>Nora Roberts</td><td>4.11</td><td>12598</td></tr>",
                            "<tr><td>The Duke and I (Bridgertons, #1)</td><td>Julia Quinn</td><td>4.11</td><td>12598</td></tr>",
                            "<tr><td>The Redemption of Callie &amp; Kayden (The Coincidence, #2)</td><td>Jessica Sorensen</td><td>4.11</td><td>12598</td></tr>",
                            "<tr><td>Under Locke</td><td>Mariana Zapata</td><td>4.11</td><td>12598</td></tr>",
                            "<tr><td>Seduce Me at Sunrise (The Hathaways, #2)</td><td>Lisa Kleypas</td><td>4.1</td><td>12598</td></tr>",
                            "<tr><td>Sincerely, Carter (Sincerely Carter, #1)</td><td>Whitney G.</td><td>4.1</td><td>12598</td></tr>",
                            "<tr><td>The Forever of Ella and Micha (The Secret, #2)</td><td>Jessica Sorensen</td><td>4.1</td><td>12598</td></tr>",
                            "<tr><td>Price of a Kiss (Forbidden Men, #1)</td><td>Linda Kage</td><td>4.1</td><td>12598</td></tr>",
                            "<tr><td>Wallbanger (Cocktail, #1)</td><td>Alice Clayton</td><td>4.1</td><td>12598</td></tr>",
                            "<tr><td>Bad Romeo (Starcrossed, #1)</td><td>Leisa Rayven</td><td>4.1</td><td>12598</td></tr>",
                            "<tr><td>Rock Me (Ross Siblings, #2)</td><td>Cherrie Lynn</td><td>4.09</td><td>12598</td></tr>",
                            "<tr><td>Jet (Marked Men, #2)</td><td>Jay Crownover</td><td>4.09</td><td>12598</td></tr>",
                            "<tr><td>Deep (Stage Dive, #4)</td><td>Kylie Scott</td><td>4.09</td><td>12598</td></tr>",
                            "<tr><td>Into the Deep (Into the Deep, #1)</td><td>Samantha Young</td><td>4.09</td><td>12598</td></tr>",
                            "<tr><td>Beautiful Sacrifice (The Maddox Brothers, #3)</td><td>Jamie McGuire</td><td>4.08</td><td>12598</td></tr>",
                            "<tr><td>Heaven, Texas (Chicago Stars, #2)</td><td>Susan Elizabeth Phillips</td><td>4.08</td><td>12598</td></tr>",
                            "<tr><td>Black Hills</td><td>Nora Roberts</td><td>4.08</td><td>12598</td></tr>",
                            "<tr><td>Playing for Keeps (Neighbor from Hell, #1)</td><td>R.L. Mathewson</td><td>4.08</td><td>12598</td></tr>",
                            "<tr><td>RoomHate</td><td>Penelope Ward</td><td>4.07</td><td>12598</td></tr>",
                            "<tr><td>Leo</td><td>Mia Sheridan</td><td>4.06</td><td>12598</td></tr>",
                            "<tr><td>Kaleidoscope Hearts (Hearts, #1)</td><td>Claire Contreras</td><td>4.06</td><td>12598</td></tr>",
                            "<tr><td>The Last Boyfriend (Inn BoonsBoro, #2)</td><td>Nora Roberts, MacLeod Andrews</td><td>4.06</td><td>12598</td></tr>",
                            "<tr><td>Again the Magic (Wallflowers, #0)</td><td>Lisa Kleypas</td><td>4.05</td><td>12598</td></tr>",
                            "<tr><td>The Hook Up (Game On, #1)</td><td>Kristen Callihan</td><td>4.04</td><td>12598</td></tr>",
                            "<tr><td>On the Fence</td><td>Kasie West</td><td>4.04</td><td>12598</td></tr>",
                            "<tr><td>Love Unscripted (Love, #1)</td><td>Tina Reber</td><td>4.04</td><td>12598</td></tr>",
                            "<tr><td>Falling into You (Falling, #1)</td><td>Jasinda Wilder</td><td>4.04</td><td>12598</td></tr>",
                            "<tr><td>Heart on a Chain</td><td>Cindy C. Bennett</td><td>4.04</td><td>12598</td></tr>",
                            "<tr><td>When He was Wicked (Bridgertons, #6)</td><td>Julia Quinn</td><td>4.03</td><td>12598</td></tr>",
                            "<tr><td>Carter Reed (Carter Reed, #1)</td><td>Tijan</td><td>4.03</td><td>12598</td></tr>",
                            "<tr><td>Endless Summer (The Boys Next Door, #1-2)</td><td>Jennifer Echols</td><td>4.02</td><td>12598</td></tr>",
                            "<tr><td>Until Friday Night (The Field Party, #1)</td><td>Abbi Glines</td><td>4.01</td><td>12598</td></tr>",
                            "<tr><td>It's in His Kiss (Bridgertons, #7)</td><td>Julia Quinn</td><td>4.01</td><td>12598</td></tr>",
                            "<tr><td>My Favorite Mistake (My Favorite Mistake, #1)</td><td>Chelsea M. Cameron</td><td>4.01</td><td>12598</td></tr>",
                            "<tr><td>Flat-Out Love (Flat-Out Love, #1)</td><td>Jessica Park</td><td>4.01</td><td>12598</td></tr>",
                            "<tr><td>The Secret of Ella and Micha (The Secret, #1)</td><td>Jessica Sorensen</td><td>4.01</td><td>12598</td></tr>",
                            "<tr><td>The Problem with Forever</td><td>Jennifer L. Armentrout</td><td>4</td><td>12598</td></tr>",
                            "<tr><td>Trouble</td><td>Samantha Towle</td><td>4</td><td>12598</td></tr>",
                            "<tr><td>Friend-Zoned (Friend-Zoned, #1)</td><td>Belle Aurora</td><td>3.99</td><td>12598</td></tr>",
                            "<tr><td>Beautifully Damaged (Beautifully Damaged, #1)</td><td>L.A. Fiore</td><td>3.99</td><td>12598</td></tr>",
                            "<tr><td>Forever Black (Forever, #1)</td><td>Sandi Lynn</td><td>3.99</td><td>12598</td></tr>",
                            "<tr><td>Find You in the Dark (Find You in the Dark, #1)</td><td>A. Meredith Walters</td><td>3.98</td><td>12598</td></tr>",
                            "<tr><td>Wanted (Wanted, #1)</td><td>Kelly Elliott</td><td>3.98</td><td>12598</td></tr>",
                            "<tr><td>The Vincent Boys (The Vincent Boys, #1)</td><td>Abbi Glines</td><td>3.98</td><td>12598</td></tr>",
                            "<tr><td>Charade (Games, #1)</td><td>Nyrae Dawn</td><td>3.98</td><td>12598</td></tr>",
                            "<tr><td>Sins &amp; Needles (The Artists Trilogy, #1)</td><td>Karina Halle</td><td>3.98</td><td>12598</td></tr>",
                            "<tr><td>You Don't Have to Say You Love Me</td><td>Sarra Manning</td><td>3.97</td><td>12598</td></tr>",
                            "<tr><td>Big Rock</td><td>Lauren Blakely</td><td>3.97</td><td>12598</td></tr>",
                            "<tr><td>The Marriage Mistake (Marriage to a Billionaire, #3)</td><td>Jennifer Probst</td><td>3.96</td><td>12598</td></tr>",
                            "<tr><td>Always You (Best Friend, #1)</td><td>Kirsty Moseley</td><td>3.96</td><td>12598</td></tr>",
                            "<tr><td>That Boy (That Boy, #1)</td><td>Jillian Dodd</td><td>3.96</td><td>12598</td></tr>",
                            "<tr><td>The Body Finder (The Body Finder, #1)</td><td>Kimberly Derting</td><td>3.96</td><td>12598</td></tr>",
                            "<tr><td>The Mane Event (Pride, #1)</td><td>Shelly Laurenston</td><td>3.96</td><td>12598</td></tr>",
                            "<tr><td>Dirty English (English, #1)</td><td>Ilsa Madden-Mills</td><td>3.95</td><td>12598</td></tr>",
                            "<tr><td>The Boy Who Sneaks in My Bedroom Window</td><td>Kirsty Moseley</td><td>3.95</td><td>12598</td></tr>",
                            "<tr><td>Love, Rosie</td><td>Cecelia Ahern</td><td>3.95</td><td>12598</td></tr>",
                            "<tr><td>A Girl Like You</td><td>Gemma Burgess</td><td>3.95</td><td>12598</td></tr>",
                            "<tr><td>Better off Friends</td><td>Elizabeth Eulberg</td><td>3.95</td><td>12598</td></tr>",
                            "<tr><td>A Rogue by Any Other Name (The Rules of Scoundrels, #1)</td><td>Sarah MacLean</td><td>3.95</td><td>12598</td></tr>",
                            "<tr><td>Seducing Cinderella (Fighting for Love, #1)</td><td>Gina L. Maxwell</td><td>3.94</td><td>12598</td></tr>",
                            "<tr><td>Where You Are (Between the Lines, #2)</td><td>Tammara Webber</td><td>3.94</td><td>12598</td></tr>",
                            "<tr><td>The Wild Ones (The Wild Ones, #1)</td><td>M. Leighton</td><td>3.94</td><td>12598</td></tr>",
                            "<tr><td>Brokeback Mountain</td><td>Annie Proulx</td><td>3.93</td><td>12598</td></tr>",
                            "<tr><td>The Secret Diaries of Miss Miranda Cheever (Bevelstoke, #1)</td><td>Julia Quinn</td><td>3.93</td><td>12598</td></tr>",
                            "<tr><td>Silence (Silence, #1)</td><td>Natasha Preston</td><td>3.93</td><td>12598</td></tr>",
                            "<tr><td>Just Like Heaven (Smythe-Smith Quartet #1)</td><td>Julia Quinn</td><td>3.93</td><td>12598</td></tr>",
                            "<tr><td>Dirty (Dive Bar, #1)</td><td>Kylie Scott</td><td>3.92</td><td>12598</td></tr>",
                            "<tr><td>Emmy &amp; Oliver</td><td>Robin Benway</td><td>3.91</td><td>12598</td></tr>",
                            "<tr><td>The Pact</td><td>Karina Halle</td><td>3.91</td><td>12598</td></tr>",
                            "<tr><td>Addicted to You (Addicted, #1)</td><td>Krista Ritchie, Becca Ritchie</td><td>3.9</td><td>12598</td></tr>",
                            "<tr><td>To Sir Phillip, With Love (Bridgertons, #5)</td><td>Julia Quinn</td><td>3.89</td><td>12598</td></tr>",
                            "<tr><td>Unleashed (Ross Siblings, #1)</td><td>Cherrie Lynn</td><td>3.89</td><td>12598</td></tr>",
                            "<tr><td>Stealing Parker</td><td>Miranda Kenneally</td><td>3.88</td><td>12598</td></tr>",
                            "<tr><td>Not Quite Dating (Not Quite, #1)</td><td>Catherine Bybee</td><td>3.88</td><td>12598</td></tr>",
                            "<tr><td>The Bet (The Bet, #1)</td><td>Rachel Van Dyken</td><td>3.85</td><td>12598</td></tr>",
                            "<tr><td>Avoiding Commitment (Avoiding, #1)</td><td>K.A. Linde</td><td>3.85</td><td>12598</td></tr>",
                            "<tr><td>Catching Jordan</td><td>Miranda Kenneally</td><td>3.85</td><td>12598</td></tr>",
                            "<tr><td>Overruled (The Legal Briefs, #1)</td><td>Emma Chase</td><td>3.83</td><td>12598</td></tr>",
                            "<tr><td>Sophie &amp; Carter</td><td>Chelsea Fine</td><td>3.83</td><td>12598</td></tr>",
                            "<tr><td>On the Way to the Wedding (Bridgertons, #8)</td><td>Julia Quinn</td><td>3.83</td><td>12598</td></tr>",
                            "<tr><td>The Marriage Bargain (Marriage to a Billionaire, #1)</td><td>Jennifer Probst</td><td>3.81</td><td>12598</td></tr>",
                            "<tr><td>Anyone But You</td><td>Jennifer Crusie</td><td>3.8</td><td>12598</td></tr>",
                            "<tr><td>You Had Me At Hello</td><td>Mhairi McFarlane</td><td>3.79</td><td>12598</td></tr>",
                            "<tr><td>Frigid (Frigid, #1)</td><td>J. Lynn, Jennifer L. Armentrout</td><td>3.79</td><td>12598</td></tr>",
                            "<tr><td>Crazy For You</td><td>Jennifer Crusie</td><td>3.78</td><td>12598</td></tr>",
                            "<tr><td>Someone to Love (Someone to Love, #1)</td><td>Addison Moore</td><td>3.74</td><td>12598</td></tr>",
                            "<tr><td>Tempting the Best Man (Gamble Brothers, #1)</td><td>J. Lynn, Jennifer L. Armentrout</td><td>3.73</td><td>12598</td></tr>",
                            "<tr><td>Never Never: Part Three (Never Never, #3)</td><td>Colleen Hoover, Tarryn Fisher</td><td>3.48</td><td>12598</td></tr>",
                            "</table>"
                        ]
                    }
                }
            ],
            "execution_count": 30
        },
        {
            "cell_type": "markdown",
            "source": [
                "# Part 3: Summarize your Work\n",
                "\n",
                "For each event write at least one query that joins any two tables in the BooksDB to support your choice and record you thoughts as to why you used the paticlular query. At least one of your queries needs to include a HAVING clause."
            ],
            "metadata": {
                "azdata_cell_guid": "1ba1363a-4f02-4962-a95a-93b80c5926b1"
            },
            "attachments": {}
        },
        {
            "cell_type": "code",
            "source": [
                "-- Event 1 Query\r\n",
                ""
            ],
            "metadata": {
                "azdata_cell_guid": "f50d32ce-4cb2-4af2-acb1-607777a76cf8",
                "language": "sql"
            },
            "outputs": [],
            "execution_count": null
        },
        {
            "cell_type": "code",
            "source": [
                ""
            ],
            "metadata": {
                "azdata_cell_guid": "5606f7f2-c46b-42d3-ac64-7ae21c3394f8",
                "language": "sql"
            },
            "outputs": [],
            "execution_count": null
        },
        {
            "cell_type": "markdown",
            "source": [
                "### **Summary of event 1:**\n",
                "\n",
                "Double Click to edit."
            ],
            "metadata": {
                "azdata_cell_guid": "3bc72d4c-077b-42d3-9528-9aff8e7b6cf3"
            },
            "attachments": {}
        },
        {
            "cell_type": "code",
            "source": [
                "-- Event 2 Query"
            ],
            "metadata": {
                "azdata_cell_guid": "dca0a98f-065f-4b0e-9d93-fcb01cad668c",
                "language": "sql"
            },
            "outputs": [],
            "execution_count": null
        },
        {
            "cell_type": "code",
            "source": [
                ""
            ],
            "metadata": {
                "azdata_cell_guid": "3aaae3a8-eff7-4b37-8970-2d913a67239b",
                "language": "sql"
            },
            "outputs": [],
            "execution_count": null
        },
        {
            "cell_type": "markdown",
            "source": [
                "### **Summary of event 2:**\n",
                "\n",
                "Double Click to edit."
            ],
            "metadata": {
                "azdata_cell_guid": "99d518dc-cd8b-42d6-9a9d-708771c9aa99"
            },
            "attachments": {}
        }
    ]
}